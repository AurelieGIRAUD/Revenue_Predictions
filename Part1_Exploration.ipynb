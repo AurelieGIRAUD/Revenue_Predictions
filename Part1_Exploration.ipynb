{
 "cells": [
  {
   "cell_type": "markdown",
   "metadata": {},
   "source": [
    "# Project 7 - Create a model to predict the revenues of potential customers using ANOVA and Linear Regression."
   ]
  },
  {
   "cell_type": "markdown",
   "metadata": {},
   "source": [
    "🎯 Goal: Create a model to predict the future revenue of children based on their location, the revenue of their parents and the gini index; in order to target future customers."
   ]
  },
  {
   "cell_type": "markdown",
   "metadata": {},
   "source": [
    "## Part 1 - Data Exploration"
   ]
  },
  {
   "cell_type": "markdown",
   "metadata": {},
   "source": [
    "<i> Data collection is the process of gathering and measuring information on targeted variables in an established system, which then enables one to answer relevant questions and evaluate outcomes.[Wikipedia] </i>"
   ]
  },
  {
   "cell_type": "markdown",
   "metadata": {},
   "source": [
    "Here is what we need to perform the modeling:\n",
    "  \n",
    "  - World Income Distribution: This database is mainly composed of studies carried out at the national level for a good number of countries, and contains the income distributions of the populations concerned. \n",
    "  - Gini Index from the World Bank: https://data.worldbank.org/indicator/SI.POV.GINI \n",
    "  - Number of inhabitants of each country present in the data.\n",
    " \n",
    " "
   ]
  },
  {
   "cell_type": "markdown",
   "metadata": {},
   "source": [
    "🎯 Goal of Step 1: Collect, Summarize and Discuss the relevance of the Data Collected for the Modeling.\n",
    "\n",
    "- Year(s) selected\n",
    "- Countries selected\n",
    "- World Population coverage by selection\n",
    "- Description of data from World Income Distribution: \n",
    "    - Type of quantile? \n",
    "    - Discuss the sampling method. \n",
    "    - Unit ($PPP): Why this unit is relevant?"
   ]
  },
  {
   "cell_type": "markdown",
   "metadata": {},
   "source": [
    "<i> N.B: We will call each quantile an income class here. Thus, the value of the income column for a given quantile can be seen as the average income of people belonging to the income class corresponding to that quantile. </i>"
   ]
  },
  {
   "cell_type": "markdown",
   "metadata": {},
   "source": [
    "### Get started"
   ]
  },
  {
   "cell_type": "code",
   "execution_count": 8,
   "metadata": {},
   "outputs": [],
   "source": [
    "import pandas as pd\n",
    "import numpy as np\n",
    "from pathlib import Path\n",
    "import matplotlib.pyplot as plt\n",
    "from matplotlib.cbook import boxplot_stats  \n",
    "import seaborn as sns\n",
    "import missingno as msno \n",
    "from collections import Counter\n",
    "import scipy.stats as st\n",
    "\n",
    "%matplotlib inline\n",
    "plt.style.use('seaborn-whitegrid')"
   ]
  },
  {
   "cell_type": "code",
   "execution_count": 9,
   "metadata": {},
   "outputs": [
    {
     "data": {
      "text/html": [
       "<div>\n",
       "<style scoped>\n",
       "    .dataframe tbody tr th:only-of-type {\n",
       "        vertical-align: middle;\n",
       "    }\n",
       "\n",
       "    .dataframe tbody tr th {\n",
       "        vertical-align: top;\n",
       "    }\n",
       "\n",
       "    .dataframe thead th {\n",
       "        text-align: right;\n",
       "    }\n",
       "</style>\n",
       "<table border=\"1\" class=\"dataframe\">\n",
       "  <thead>\n",
       "    <tr style=\"text-align: right;\">\n",
       "      <th></th>\n",
       "      <th>country</th>\n",
       "      <th>year_survey</th>\n",
       "      <th>quantile</th>\n",
       "      <th>nb_quantiles</th>\n",
       "      <th>income</th>\n",
       "      <th>gdpppp</th>\n",
       "    </tr>\n",
       "  </thead>\n",
       "  <tbody>\n",
       "    <tr>\n",
       "      <th>0</th>\n",
       "      <td>ALB</td>\n",
       "      <td>2008</td>\n",
       "      <td>1</td>\n",
       "      <td>100</td>\n",
       "      <td>728.89795</td>\n",
       "      <td>7297.0</td>\n",
       "    </tr>\n",
       "    <tr>\n",
       "      <th>1</th>\n",
       "      <td>ALB</td>\n",
       "      <td>2008</td>\n",
       "      <td>2</td>\n",
       "      <td>100</td>\n",
       "      <td>916.66235</td>\n",
       "      <td>7297.0</td>\n",
       "    </tr>\n",
       "    <tr>\n",
       "      <th>2</th>\n",
       "      <td>ALB</td>\n",
       "      <td>2008</td>\n",
       "      <td>3</td>\n",
       "      <td>100</td>\n",
       "      <td>1010.91600</td>\n",
       "      <td>7297.0</td>\n",
       "    </tr>\n",
       "    <tr>\n",
       "      <th>3</th>\n",
       "      <td>ALB</td>\n",
       "      <td>2008</td>\n",
       "      <td>4</td>\n",
       "      <td>100</td>\n",
       "      <td>1086.90780</td>\n",
       "      <td>7297.0</td>\n",
       "    </tr>\n",
       "    <tr>\n",
       "      <th>4</th>\n",
       "      <td>ALB</td>\n",
       "      <td>2008</td>\n",
       "      <td>5</td>\n",
       "      <td>100</td>\n",
       "      <td>1132.69970</td>\n",
       "      <td>7297.0</td>\n",
       "    </tr>\n",
       "  </tbody>\n",
       "</table>\n",
       "</div>"
      ],
      "text/plain": [
       "  country  year_survey  quantile  nb_quantiles      income  gdpppp\n",
       "0     ALB         2008         1           100   728.89795  7297.0\n",
       "1     ALB         2008         2           100   916.66235  7297.0\n",
       "2     ALB         2008         3           100  1010.91600  7297.0\n",
       "3     ALB         2008         4           100  1086.90780  7297.0\n",
       "4     ALB         2008         5           100  1132.69970  7297.0"
      ]
     },
     "execution_count": 9,
     "metadata": {},
     "output_type": "execute_result"
    }
   ],
   "source": [
    "# Read the data from the World Income Distribution \n",
    "inc = pd.read_csv(Path.cwd()/'Raw'/'data-projet7.csv',decimal=\",\")\n",
    "inc.head()"
   ]
  },
  {
   "cell_type": "code",
   "execution_count": 10,
   "metadata": {},
   "outputs": [
    {
     "data": {
      "text/plain": [
       "array(['Gini index (World Bank estimate)', 'Population, total', nan,\n",
       "       'Data from database: World Development Indicators',\n",
       "       'Last Updated: 02/17/2021'], dtype=object)"
      ]
     },
     "execution_count": 10,
     "metadata": {},
     "output_type": "execute_result"
    }
   ],
   "source": [
    "# Read data from The World Bank\n",
    "gpop = pd.read_csv(Path.cwd()/'Raw'/'gini_pop.csv',na_values = ['..' , 0])\n",
    "\n",
    "# What information do we have here?\n",
    "gpop['Series Name'].unique()"
   ]
  },
  {
   "cell_type": "markdown",
   "metadata": {},
   "source": [
    "### What is the timeframe available?"
   ]
  },
  {
   "cell_type": "code",
   "execution_count": 11,
   "metadata": {},
   "outputs": [
    {
     "data": {
      "text/plain": [
       "count    11599.000000\n",
       "mean      2007.982757\n",
       "std          0.909633\n",
       "min       2004.000000\n",
       "25%       2008.000000\n",
       "50%       2008.000000\n",
       "75%       2008.000000\n",
       "max       2011.000000\n",
       "Name: year_survey, dtype: float64"
      ]
     },
     "execution_count": 11,
     "metadata": {},
     "output_type": "execute_result"
    }
   ],
   "source": [
    "# World Income Distribution Dataset\n",
    "inc['year_survey'].describe()"
   ]
  },
  {
   "cell_type": "code",
   "execution_count": 12,
   "metadata": {},
   "outputs": [],
   "source": [
    "tmp = inc.groupby('year_survey').count().reset_index()[['year_survey','country']]"
   ]
  },
  {
   "cell_type": "code",
   "execution_count": 13,
   "metadata": {},
   "outputs": [
    {
     "data": {
      "image/png": "[encoded data removed]",
      "text/plain": [
       "<Figure size 432x288 with 1 Axes>"
      ]
     },
     "metadata": {},
     "output_type": "display_data"
    }
   ],
   "source": [
    "# Visualize the data per year\n",
    "fig = plt.figure()\n",
    "ax = fig.add_axes([0,0,1,1])\n",
    "x = tmp['year_survey'].to_list()\n",
    "y = tmp['country'].to_list()\n",
    "ax.bar(x,y)\n",
    "plt.savefig(Path.cwd()/'Plot'/'M1_year_dataset.png')\n",
    "plt.show()"
   ]
  },
  {
   "cell_type": "markdown",
   "metadata": {},
   "source": [
    "<b> We have data from 2004 and 2011, which is relatively old. In real-life, we will search for more recent data. Let's say the last 3 to 5 years to be more representative.</b>"
   ]
  },
  {
   "cell_type": "markdown",
   "metadata": {},
   "source": [
    "Potential more recent data available here: https://www.wider.unu.edu/database/world-income-inequality-database-wiid34"
   ]
  },
  {
   "cell_type": "markdown",
   "metadata": {},
   "source": [
    "### What is the coverage in terms of country?"
   ]
  },
  {
   "cell_type": "code",
   "execution_count": 14,
   "metadata": {},
   "outputs": [
    {
     "data": {
      "text/plain": [
       "116"
      ]
     },
     "execution_count": 14,
     "metadata": {},
     "output_type": "execute_result"
    }
   ],
   "source": [
    "# Countries in the selection\n",
    "inc['country'].nunique()"
   ]
  },
  {
   "cell_type": "markdown",
   "metadata": {},
   "source": [
    "<b> The selection includes 116 countries of the World, on 194 independent countries and 249 total countries (ISO 'Country codes' standard). </b>\n",
    "<i> https://en.wikipedia.org/wiki/ISO_3166-1 </i> \n",
    "\n",
    "- What are the countries not included into our analysis?"
   ]
  },
  {
   "cell_type": "code",
   "execution_count": 15,
   "metadata": {},
   "outputs": [
    {
     "data": {
      "text/plain": [
       "249"
      ]
     },
     "execution_count": 15,
     "metadata": {},
     "output_type": "execute_result"
    }
   ],
   "source": [
    "# List of all countries in the World\n",
    "co = pd.read_csv(Path.cwd()/'Raw'/'countries.csv')\n",
    "\n",
    "# Check the number\n",
    "co['id'].nunique()"
   ]
  },
  {
   "cell_type": "markdown",
   "metadata": {},
   "source": [
    "Source: https://stefangabos.github.io/world_countries/"
   ]
  },
  {
   "cell_type": "code",
   "execution_count": 16,
   "metadata": {},
   "outputs": [
    {
     "data": {
      "text/plain": [
       "['Afghanistan',\n",
       " 'Åland Islands',\n",
       " 'Algeria',\n",
       " 'American Samoa',\n",
       " 'Andorra',\n",
       " 'Angola',\n",
       " 'Anguilla',\n",
       " 'Antarctica',\n",
       " 'Antigua and Barbuda',\n",
       " 'Aruba',\n",
       " 'Australia',\n",
       " 'Bahamas',\n",
       " 'Bahrain',\n",
       " 'Barbados',\n",
       " 'Belize',\n",
       " 'Benin',\n",
       " 'Bermuda',\n",
       " 'Bonaire, Sint Eustatius and Saba',\n",
       " 'Botswana',\n",
       " 'Bouvet Island',\n",
       " 'British Indian Ocean Territory',\n",
       " 'Brunei Darussalam',\n",
       " 'Burundi',\n",
       " 'Cabo Verde',\n",
       " 'Cayman Islands',\n",
       " 'Chad',\n",
       " 'Christmas Island',\n",
       " 'Cocos (Keeling) Islands',\n",
       " 'Comoros',\n",
       " 'Congo',\n",
       " 'Cook Islands',\n",
       " 'Cuba',\n",
       " 'Curaçao',\n",
       " 'Djibouti',\n",
       " 'Dominica',\n",
       " 'Equatorial Guinea',\n",
       " 'Eritrea',\n",
       " 'Ethiopia',\n",
       " 'Falkland Islands (Malvinas)',\n",
       " 'Faroe Islands',\n",
       " 'French Guiana',\n",
       " 'French Polynesia',\n",
       " 'French Southern Territories',\n",
       " 'Gabon',\n",
       " 'Gambia',\n",
       " 'Gibraltar',\n",
       " 'Greenland',\n",
       " 'Grenada',\n",
       " 'Guadeloupe',\n",
       " 'Guam',\n",
       " 'Guernsey',\n",
       " 'Guinea-Bissau',\n",
       " 'Guyana',\n",
       " 'Haiti',\n",
       " 'Heard Island and McDonald Islands',\n",
       " 'Holy See',\n",
       " 'Hong Kong',\n",
       " 'Isle of Man',\n",
       " 'Jamaica',\n",
       " 'Jersey',\n",
       " 'Kiribati',\n",
       " \"Korea (Democratic People's Republic of)\",\n",
       " 'Kuwait',\n",
       " 'Lebanon',\n",
       " 'Lesotho',\n",
       " 'Libya',\n",
       " 'Liechtenstein',\n",
       " 'Macao',\n",
       " 'Maldives',\n",
       " 'Malta',\n",
       " 'Marshall Islands',\n",
       " 'Martinique',\n",
       " 'Mauritius',\n",
       " 'Mayotte',\n",
       " 'Micronesia (Federated States of)',\n",
       " 'Monaco',\n",
       " 'Montserrat',\n",
       " 'Myanmar',\n",
       " 'Namibia',\n",
       " 'Nauru',\n",
       " 'New Caledonia',\n",
       " 'New Zealand',\n",
       " 'Niue',\n",
       " 'Norfolk Island',\n",
       " 'Northern Mariana Islands',\n",
       " 'Oman',\n",
       " 'Palau',\n",
       " 'Papua New Guinea',\n",
       " 'Pitcairn',\n",
       " 'Puerto Rico',\n",
       " 'Qatar',\n",
       " 'Réunion',\n",
       " 'Rwanda',\n",
       " 'Saint Barthélemy',\n",
       " 'Saint Helena, Ascension and Tristan da Cunha',\n",
       " 'Saint Kitts and Nevis',\n",
       " 'Saint Lucia',\n",
       " 'Saint Martin (French part)',\n",
       " 'Saint Pierre and Miquelon',\n",
       " 'Saint Vincent and the Grenadines',\n",
       " 'Samoa',\n",
       " 'San Marino',\n",
       " 'Sao Tome and Principe',\n",
       " 'Saudi Arabia',\n",
       " 'Senegal',\n",
       " 'Seychelles',\n",
       " 'Sierra Leone',\n",
       " 'Singapore',\n",
       " 'Sint Maarten (Dutch part)',\n",
       " 'Solomon Islands',\n",
       " 'Somalia',\n",
       " 'South Georgia and the South Sandwich Islands',\n",
       " 'South Sudan',\n",
       " 'Suriname',\n",
       " 'Svalbard and Jan Mayen',\n",
       " 'Switzerland',\n",
       " 'Togo',\n",
       " 'Tokelau',\n",
       " 'Tonga',\n",
       " 'Trinidad and Tobago',\n",
       " 'Tunisia',\n",
       " 'Turkmenistan',\n",
       " 'Turks and Caicos Islands',\n",
       " 'Tuvalu',\n",
       " 'United Arab Emirates',\n",
       " 'United States Minor Outlying Islands',\n",
       " 'Uzbekistan',\n",
       " 'Vanuatu',\n",
       " 'Virgin Islands (British)',\n",
       " 'Virgin Islands (U.S.)',\n",
       " 'Wallis and Futuna',\n",
       " 'Western Sahara',\n",
       " 'Zambia',\n",
       " 'Zimbabwe']"
      ]
     },
     "execution_count": 16,
     "metadata": {},
     "output_type": "execute_result"
    }
   ],
   "source": [
    "# Merge with our selection to extract the countries not included\n",
    "co['alpha3'] = co['alpha3'].str.upper() # uppercase the column\n",
    "df = pd.merge(inc,co[['alpha3','name']], left_on = 'country', right_on = 'alpha3', how = 'right') # keep all countries of the World\n",
    "\n",
    "excl = df[df['country'].isna() == True] # select the countries not included in the World Income Distribution\n",
    "list_ex = excl['name'].to_list() # create a list\n",
    "list_ex"
   ]
  },
  {
   "cell_type": "code",
   "execution_count": 17,
   "metadata": {},
   "outputs": [
    {
     "data": {
      "text/plain": [
       "134"
      ]
     },
     "execution_count": 17,
     "metadata": {},
     "output_type": "execute_result"
    }
   ],
   "source": [
    "len(list_ex)"
   ]
  },
  {
   "cell_type": "markdown",
   "metadata": {},
   "source": [
    "<b> 134 countries are not included in our dataset of the World Income Distribution. Are these countries important and relevant for the analysis? </b>\n",
    "\n",
    "In the list of countries not included into our analysis, we found 3 categories of countries:\n",
    "\n",
    "<b> 1) Non-self governing territories, e.g:</b> <i> 'Virgin Islands (U.S.)','Turks and Caicos Islands','Sint Maarten (Dutch part)',...</i>\n",
    "This group does not really matter for the analytics as they represent a very few proportion of the world population and because they are a part of a bigger country or sovereign territory included in our dataset. \n",
    "\n",
    "<b>2) Independent Countries with high income suspected, e.g:</b> <i>'Switzerland','Singapore','Qatar','Saudi Arabia','United Arab Emirates','New Zealand',\"Korea (Democratic People's Republic of)\",'Kuwait','Hong Kong','Australia',...</i>\n",
    "From a Market Growth perspective, this group is interesting to consider as they hold high potential revenue customers. However, for revenues predictions, they might behave as outliers - pulling out the distribution towards the higher values.\n",
    "\n",
    "<b>3) Independent Countries with low income suspected, e.g:</b> <i>'Afghanistan','Zambia', 'Zimbabwe', 'Uzbekistan','Tunisia', 'Turkmenistan','Suriname','South Sudan','Somalia', 'Senegal','Rwanda',...</i>\n",
    "From a Market Growth perspective, this group could be excluded from the analytics as they most likely represents low potential countries. \n",
    "Similarly than the group 2, for modeling revenues across the World, we could also expect them to behave as outliers - pulling out the data towards the low values this time.\n"
   ]
  },
  {
   "cell_type": "markdown",
   "metadata": {},
   "source": [
    "### What is the coverage in terms of World population?"
   ]
  },
  {
   "cell_type": "code",
   "execution_count": 18,
   "metadata": {},
   "outputs": [
    {
     "data": {
      "text/html": [
       "<div>\n",
       "<style scoped>\n",
       "    .dataframe tbody tr th:only-of-type {\n",
       "        vertical-align: middle;\n",
       "    }\n",
       "\n",
       "    .dataframe tbody tr th {\n",
       "        vertical-align: top;\n",
       "    }\n",
       "\n",
       "    .dataframe thead th {\n",
       "        text-align: right;\n",
       "    }\n",
       "</style>\n",
       "<table border=\"1\" class=\"dataframe\">\n",
       "  <thead>\n",
       "    <tr style=\"text-align: right;\">\n",
       "      <th></th>\n",
       "      <th>Country Name</th>\n",
       "      <th>Country Code</th>\n",
       "      <th>2004 [YR2004]</th>\n",
       "      <th>2005 [YR2005]</th>\n",
       "      <th>2006 [YR2006]</th>\n",
       "      <th>2007 [YR2007]</th>\n",
       "      <th>2008 [YR2008]</th>\n",
       "      <th>2009 [YR2009]</th>\n",
       "      <th>2010 [YR2010]</th>\n",
       "      <th>2011 [YR2011]</th>\n",
       "    </tr>\n",
       "  </thead>\n",
       "  <tbody>\n",
       "    <tr>\n",
       "      <th>527</th>\n",
       "      <td>World</td>\n",
       "      <td>WLD</td>\n",
       "      <td>6.431552e+09</td>\n",
       "      <td>6.511748e+09</td>\n",
       "      <td>6.592735e+09</td>\n",
       "      <td>6.674204e+09</td>\n",
       "      <td>6.756918e+09</td>\n",
       "      <td>6.839574e+09</td>\n",
       "      <td>6.921872e+09</td>\n",
       "      <td>7.002860e+09</td>\n",
       "    </tr>\n",
       "  </tbody>\n",
       "</table>\n",
       "</div>"
      ],
      "text/plain": [
       "    Country Name Country Code  2004 [YR2004]  2005 [YR2005]  2006 [YR2006]  \\\n",
       "527        World          WLD   6.431552e+09   6.511748e+09   6.592735e+09   \n",
       "\n",
       "     2007 [YR2007]  2008 [YR2008]  2009 [YR2009]  2010 [YR2010]  2011 [YR2011]  \n",
       "527   6.674204e+09   6.756918e+09   6.839574e+09   6.921872e+09   7.002860e+09  "
      ]
     },
     "execution_count": 18,
     "metadata": {},
     "output_type": "execute_result"
    }
   ],
   "source": [
    "# Get information about the population\n",
    "pop = gpop[gpop['Series Name'] == 'Population, total'].iloc[:,2:]\n",
    "\n",
    " # Convert into numeric values\n",
    "pop.iloc[:,2:] = pop.iloc[:,2:].apply(pd.to_numeric, errors='coerce')\n",
    "\n",
    "# We have the world population in the last row\n",
    "world = pop.tail(1)\n",
    "world"
   ]
  },
  {
   "cell_type": "code",
   "execution_count": 19,
   "metadata": {},
   "outputs": [
    {
     "name": "stderr",
     "output_type": "stream",
     "text": [
      "<ipython-input-19-f11401072b0a>:6: FutureWarning: Slicing a positional slice with .loc is not supported, and will raise TypeError in a future version.  Use .loc with labels or .iloc with positions instead.\n",
      "  pop.loc['Total',2:] = pop.sum(axis=0)\n"
     ]
    },
    {
     "data": {
      "text/html": [
       "<div>\n",
       "<style scoped>\n",
       "    .dataframe tbody tr th:only-of-type {\n",
       "        vertical-align: middle;\n",
       "    }\n",
       "\n",
       "    .dataframe tbody tr th {\n",
       "        vertical-align: top;\n",
       "    }\n",
       "\n",
       "    .dataframe thead th {\n",
       "        text-align: right;\n",
       "    }\n",
       "</style>\n",
       "<table border=\"1\" class=\"dataframe\">\n",
       "  <thead>\n",
       "    <tr style=\"text-align: right;\">\n",
       "      <th></th>\n",
       "      <th>Country Name</th>\n",
       "      <th>Country Code</th>\n",
       "      <th>2004 [YR2004]</th>\n",
       "      <th>2005 [YR2005]</th>\n",
       "      <th>2006 [YR2006]</th>\n",
       "      <th>2007 [YR2007]</th>\n",
       "      <th>2008 [YR2008]</th>\n",
       "      <th>2009 [YR2009]</th>\n",
       "      <th>2010 [YR2010]</th>\n",
       "      <th>2011 [YR2011]</th>\n",
       "    </tr>\n",
       "  </thead>\n",
       "  <tbody>\n",
       "    <tr>\n",
       "      <th>Total</th>\n",
       "      <td>Total</td>\n",
       "      <td>Total</td>\n",
       "      <td>5.901527e+09</td>\n",
       "      <td>5.970761e+09</td>\n",
       "      <td>6.040405e+09</td>\n",
       "      <td>6.110310e+09</td>\n",
       "      <td>6.180742e+09</td>\n",
       "      <td>6.250889e+09</td>\n",
       "      <td>6.320158e+09</td>\n",
       "      <td>6.387880e+09</td>\n",
       "    </tr>\n",
       "  </tbody>\n",
       "</table>\n",
       "</div>"
      ],
      "text/plain": [
       "      Country Name Country Code  2004 [YR2004]  2005 [YR2005]  2006 [YR2006]  \\\n",
       "Total        Total        Total   5.901527e+09   5.970761e+09   6.040405e+09   \n",
       "\n",
       "       2007 [YR2007]  2008 [YR2008]  2009 [YR2009]  2010 [YR2010]  \\\n",
       "Total   6.110310e+09   6.180742e+09   6.250889e+09   6.320158e+09   \n",
       "\n",
       "       2011 [YR2011]  \n",
       "Total   6.387880e+09  "
      ]
     },
     "execution_count": 19,
     "metadata": {},
     "output_type": "execute_result"
    }
   ],
   "source": [
    "# Calculate the total population based on the countries selected\n",
    "list_country = inc['country'].to_list() \n",
    "pop = pop[pop['Country Code'].isin(list_country)]\n",
    "\n",
    "# Get the Total per year\n",
    "pop.loc['Total',2:] = pop.sum(axis=0) \n",
    "pop.fillna('Total',inplace=True)\n",
    "pop.tail(1)"
   ]
  },
  {
   "cell_type": "code",
   "execution_count": 20,
   "metadata": {},
   "outputs": [
    {
     "data": {
      "text/html": [
       "<div>\n",
       "<style scoped>\n",
       "    .dataframe tbody tr th:only-of-type {\n",
       "        vertical-align: middle;\n",
       "    }\n",
       "\n",
       "    .dataframe tbody tr th {\n",
       "        vertical-align: top;\n",
       "    }\n",
       "\n",
       "    .dataframe thead th {\n",
       "        text-align: right;\n",
       "    }\n",
       "</style>\n",
       "<table border=\"1\" class=\"dataframe\">\n",
       "  <thead>\n",
       "    <tr style=\"text-align: right;\">\n",
       "      <th></th>\n",
       "      <th>2004 [YR2004]</th>\n",
       "      <th>2005 [YR2005]</th>\n",
       "      <th>2006 [YR2006]</th>\n",
       "      <th>2007 [YR2007]</th>\n",
       "      <th>2008 [YR2008]</th>\n",
       "      <th>2009 [YR2009]</th>\n",
       "      <th>2010 [YR2010]</th>\n",
       "      <th>2011 [YR2011]</th>\n",
       "    </tr>\n",
       "  </thead>\n",
       "  <tbody>\n",
       "    <tr>\n",
       "      <th>Total</th>\n",
       "      <td>5.901527e+09</td>\n",
       "      <td>5.970761e+09</td>\n",
       "      <td>6.040405e+09</td>\n",
       "      <td>6.110310e+09</td>\n",
       "      <td>6.180742e+09</td>\n",
       "      <td>6.250889e+09</td>\n",
       "      <td>6.320158e+09</td>\n",
       "      <td>6.387880e+09</td>\n",
       "    </tr>\n",
       "    <tr>\n",
       "      <th>527</th>\n",
       "      <td>6.431552e+09</td>\n",
       "      <td>6.511748e+09</td>\n",
       "      <td>6.592735e+09</td>\n",
       "      <td>6.674204e+09</td>\n",
       "      <td>6.756918e+09</td>\n",
       "      <td>6.839574e+09</td>\n",
       "      <td>6.921872e+09</td>\n",
       "      <td>7.002860e+09</td>\n",
       "    </tr>\n",
       "  </tbody>\n",
       "</table>\n",
       "</div>"
      ],
      "text/plain": [
       "       2004 [YR2004]  2005 [YR2005]  2006 [YR2006]  2007 [YR2007]  \\\n",
       "Total   5.901527e+09   5.970761e+09   6.040405e+09   6.110310e+09   \n",
       "527     6.431552e+09   6.511748e+09   6.592735e+09   6.674204e+09   \n",
       "\n",
       "       2008 [YR2008]  2009 [YR2009]  2010 [YR2010]  2011 [YR2011]  \n",
       "Total   6.180742e+09   6.250889e+09   6.320158e+09   6.387880e+09  \n",
       "527     6.756918e+09   6.839574e+09   6.921872e+09   7.002860e+09  "
      ]
     },
     "execution_count": 20,
     "metadata": {},
     "output_type": "execute_result"
    }
   ],
   "source": [
    "# Concatenate data together\n",
    "pop2 = pop.tail(1).append(world)\n",
    "pop2 = pop2.iloc[:,2:].apply(pd.to_numeric)\n",
    "pop2"
   ]
  },
  {
   "cell_type": "code",
   "execution_count": 21,
   "metadata": {},
   "outputs": [
    {
     "data": {
      "text/html": [
       "<div>\n",
       "<style scoped>\n",
       "    .dataframe tbody tr th:only-of-type {\n",
       "        vertical-align: middle;\n",
       "    }\n",
       "\n",
       "    .dataframe tbody tr th {\n",
       "        vertical-align: top;\n",
       "    }\n",
       "\n",
       "    .dataframe thead th {\n",
       "        text-align: right;\n",
       "    }\n",
       "</style>\n",
       "<table border=\"1\" class=\"dataframe\">\n",
       "  <thead>\n",
       "    <tr style=\"text-align: right;\">\n",
       "      <th></th>\n",
       "      <th>2004 [YR2004]</th>\n",
       "      <th>2005 [YR2005]</th>\n",
       "      <th>2006 [YR2006]</th>\n",
       "      <th>2007 [YR2007]</th>\n",
       "      <th>2008 [YR2008]</th>\n",
       "      <th>2009 [YR2009]</th>\n",
       "      <th>2010 [YR2010]</th>\n",
       "      <th>2011 [YR2011]</th>\n",
       "    </tr>\n",
       "  </thead>\n",
       "  <tbody>\n",
       "    <tr>\n",
       "      <th>Total</th>\n",
       "      <td>5.901527e+09</td>\n",
       "      <td>5.970761e+09</td>\n",
       "      <td>6.040405e+09</td>\n",
       "      <td>6.110310e+09</td>\n",
       "      <td>6.180742e+09</td>\n",
       "      <td>6.250889e+09</td>\n",
       "      <td>6.320158e+09</td>\n",
       "      <td>6.387880e+09</td>\n",
       "    </tr>\n",
       "    <tr>\n",
       "      <th>527</th>\n",
       "      <td>6.431552e+09</td>\n",
       "      <td>6.511748e+09</td>\n",
       "      <td>6.592735e+09</td>\n",
       "      <td>6.674204e+09</td>\n",
       "      <td>6.756918e+09</td>\n",
       "      <td>6.839574e+09</td>\n",
       "      <td>6.921872e+09</td>\n",
       "      <td>7.002860e+09</td>\n",
       "    </tr>\n",
       "    <tr>\n",
       "      <th>pct</th>\n",
       "      <td>9.175899e+01</td>\n",
       "      <td>9.169213e+01</td>\n",
       "      <td>9.162214e+01</td>\n",
       "      <td>9.155115e+01</td>\n",
       "      <td>9.147281e+01</td>\n",
       "      <td>9.139295e+01</td>\n",
       "      <td>9.130706e+01</td>\n",
       "      <td>9.121816e+01</td>\n",
       "    </tr>\n",
       "  </tbody>\n",
       "</table>\n",
       "</div>"
      ],
      "text/plain": [
       "       2004 [YR2004]  2005 [YR2005]  2006 [YR2006]  2007 [YR2007]  \\\n",
       "Total   5.901527e+09   5.970761e+09   6.040405e+09   6.110310e+09   \n",
       "527     6.431552e+09   6.511748e+09   6.592735e+09   6.674204e+09   \n",
       "pct     9.175899e+01   9.169213e+01   9.162214e+01   9.155115e+01   \n",
       "\n",
       "       2008 [YR2008]  2009 [YR2009]  2010 [YR2010]  2011 [YR2011]  \n",
       "Total   6.180742e+09   6.250889e+09   6.320158e+09   6.387880e+09  \n",
       "527     6.756918e+09   6.839574e+09   6.921872e+09   7.002860e+09  \n",
       "pct     9.147281e+01   9.139295e+01   9.130706e+01   9.121816e+01  "
      ]
     },
     "execution_count": 21,
     "metadata": {},
     "output_type": "execute_result"
    }
   ],
   "source": [
    "# Calculate coverage of World population with our selection\n",
    "pop2.loc['pct'] = pop2.iloc[0,:]*100/ pop2.iloc[1,:]\n",
    "pop2"
   ]
  },
  {
   "cell_type": "markdown",
   "metadata": {},
   "source": [
    "<b> With our selection of countries, we covered 91% of the World population which is a relatively good coverage to be representative. </b>"
   ]
  },
  {
   "cell_type": "markdown",
   "metadata": {},
   "source": [
    "<b> N.B: The data for the gini index have been extracted for the same list of country. </b>"
   ]
  },
  {
   "cell_type": "markdown",
   "metadata": {},
   "source": [
    "## Part 2 - Inequalities of Revenues in the World"
   ]
  },
  {
   "cell_type": "markdown",
   "metadata": {},
   "source": [
    "#### Distribution of Incomes"
   ]
  },
  {
   "cell_type": "markdown",
   "metadata": {},
   "source": [
    "<b> In this section, we want to show the diversity in terms of income distribution among the countries in the World. </b>\n",
    "\n",
    "<i> For that purpose, we will select 5 countries slightly different and showcase the distribution of their respective incomes, Lorenz curve and Gini Index.</i>"
   ]
  },
  {
   "cell_type": "code",
   "execution_count": 22,
   "metadata": {},
   "outputs": [
    {
     "data": {
      "text/html": [
       "<div>\n",
       "<style scoped>\n",
       "    .dataframe tbody tr th:only-of-type {\n",
       "        vertical-align: middle;\n",
       "    }\n",
       "\n",
       "    .dataframe tbody tr th {\n",
       "        vertical-align: top;\n",
       "    }\n",
       "\n",
       "    .dataframe thead th {\n",
       "        text-align: right;\n",
       "    }\n",
       "</style>\n",
       "<table border=\"1\" class=\"dataframe\">\n",
       "  <thead>\n",
       "    <tr style=\"text-align: right;\">\n",
       "      <th></th>\n",
       "      <th>year_survey</th>\n",
       "      <th>quantile</th>\n",
       "      <th>nb_quantiles</th>\n",
       "      <th>income</th>\n",
       "      <th>gdpppp</th>\n",
       "      <th>name</th>\n",
       "    </tr>\n",
       "  </thead>\n",
       "  <tbody>\n",
       "    <tr>\n",
       "      <th>2</th>\n",
       "      <td>2008.0</td>\n",
       "      <td>1.0</td>\n",
       "      <td>100.0</td>\n",
       "      <td>728.89795</td>\n",
       "      <td>7297.0</td>\n",
       "      <td>Albania</td>\n",
       "    </tr>\n",
       "    <tr>\n",
       "      <th>3</th>\n",
       "      <td>2008.0</td>\n",
       "      <td>2.0</td>\n",
       "      <td>100.0</td>\n",
       "      <td>916.66235</td>\n",
       "      <td>7297.0</td>\n",
       "      <td>Albania</td>\n",
       "    </tr>\n",
       "    <tr>\n",
       "      <th>4</th>\n",
       "      <td>2008.0</td>\n",
       "      <td>3.0</td>\n",
       "      <td>100.0</td>\n",
       "      <td>1010.91600</td>\n",
       "      <td>7297.0</td>\n",
       "      <td>Albania</td>\n",
       "    </tr>\n",
       "    <tr>\n",
       "      <th>5</th>\n",
       "      <td>2008.0</td>\n",
       "      <td>4.0</td>\n",
       "      <td>100.0</td>\n",
       "      <td>1086.90780</td>\n",
       "      <td>7297.0</td>\n",
       "      <td>Albania</td>\n",
       "    </tr>\n",
       "    <tr>\n",
       "      <th>6</th>\n",
       "      <td>2008.0</td>\n",
       "      <td>5.0</td>\n",
       "      <td>100.0</td>\n",
       "      <td>1132.69970</td>\n",
       "      <td>7297.0</td>\n",
       "      <td>Albania</td>\n",
       "    </tr>\n",
       "  </tbody>\n",
       "</table>\n",
       "</div>"
      ],
      "text/plain": [
       "   year_survey  quantile  nb_quantiles      income  gdpppp     name\n",
       "2       2008.0       1.0         100.0   728.89795  7297.0  Albania\n",
       "3       2008.0       2.0         100.0   916.66235  7297.0  Albania\n",
       "4       2008.0       3.0         100.0  1010.91600  7297.0  Albania\n",
       "5       2008.0       4.0         100.0  1086.90780  7297.0  Albania\n",
       "6       2008.0       5.0         100.0  1132.69970  7297.0  Albania"
      ]
     },
     "execution_count": 22,
     "metadata": {},
     "output_type": "execute_result"
    }
   ],
   "source": [
    "# Our current dataset\n",
    "df2 = df[df['country'].isna() == False].drop(['country','alpha3'],axis=1)\n",
    "df2.head()"
   ]
  },
  {
   "cell_type": "code",
   "execution_count": 23,
   "metadata": {},
   "outputs": [],
   "source": [
    "# Here is the list of countries for which we have gini index data without NaN values\n",
    "tp = gpop[(gpop['Series Name'] == 'Gini index (World Bank estimate)')].iloc[:,2:].dropna()['Country Name'].to_list()"
   ]
  },
  {
   "cell_type": "code",
   "execution_count": 24,
   "metadata": {},
   "outputs": [
    {
     "data": {
      "image/png": "[encoded data removed]",
      "text/plain": [
       "<Figure size 1440x720 with 1 Axes>"
      ]
     },
     "metadata": {},
     "output_type": "display_data"
    }
   ],
   "source": [
    "# We are gonna use the min, max and median to help to select countries with very different income\n",
    "tmp = df2[df2['name'].isin(tp)]\n",
    "tmp = df2[(df2['name'].isin(tp)) & ((df2['quantile'] == 1) | (df2['quantile'] == 50) | (df2['quantile'] == 100))][['name','income']] \n",
    "\n",
    "# Create boxplots to visualize the income by countries\n",
    "tmp.boxplot(by='name',figsize=(20,10))\n",
    "plt.xticks(rotation=90)\n",
    "plt.savefig(Path.cwd()/'Plot'/'BoxPlot_Income_Countries.png')\n",
    "plt.show()"
   ]
  },
  {
   "cell_type": "markdown",
   "metadata": {},
   "source": [
    "Based on this visualization, we decide to select the following countries to represent the broad diversity of income across the World:\n",
    "- Iceland\n",
    "- Denmark\n",
    "- Argentina\n",
    "- Georgia\n",
    "- El Salvador"
   ]
  },
  {
   "cell_type": "code",
   "execution_count": 25,
   "metadata": {},
   "outputs": [],
   "source": [
    "# Select countries\n",
    "selection = ['Iceland','Denmark','Georgia','Argentina','El Salvador']\n",
    "df3 = df2.copy()\n",
    "df3 = df3[df3.name.isin(selection)]"
   ]
  },
  {
   "cell_type": "code",
   "execution_count": 26,
   "metadata": {},
   "outputs": [
    {
     "data": {
      "image/png": "[encoded data removed]",
      "text/plain": [
       "<Figure size 1152x576 with 1 Axes>"
      ]
     },
     "metadata": {},
     "output_type": "display_data"
    }
   ],
   "source": [
    "# Overlapped the distribution to compare countries together\n",
    "plt.figure(figsize=(16,8))\n",
    "plt.hist(df3['income'].where(df3.name == 'Iceland'), bins=50, alpha=0.5, label='Iceland')\n",
    "plt.hist(df3['income'].where(df3.name == 'Denmark'), bins=50, alpha=0.5, label='Denmark')\n",
    "plt.hist(df3['income'].where(df3.name == 'Argentina'), bins=50, alpha=0.5, label='Argentina')\n",
    "plt.hist(df3['income'].where(df3.name == 'Georgia'), bins=50, alpha=0.5, label='Georgia')\n",
    "plt.hist(df3['income'].where(df3.name == 'El Salvador'), bins=50, alpha=0.5, label='El Salvador')\n",
    "plt.title('Observation of inequalities in the Distribution of incomes among a selection of 5 countries in the World')\n",
    "plt.legend(loc='upper right')\n",
    "plt.savefig(Path.cwd()/'Plot'/'Histogram_Income_CountriesSelected.png')\n",
    "plt.show()"
   ]
  },
  {
   "cell_type": "markdown",
   "metadata": {},
   "source": [
    "We can see clearly that each distribution is highly skew to the right (high values of incomes). Reflecting that among each countries there are some important inequalities of revenues. Also we can notice that Iceland and Denmark are globally richer than the rest of the countries selected: their distribution is shifted to the right. "
   ]
  },
  {
   "cell_type": "code",
   "execution_count": 27,
   "metadata": {},
   "outputs": [
    {
     "data": {
      "image/png": "[encoded data removed]",
      "text/plain": [
       "<Figure size 1080x648 with 1 Axes>"
      ]
     },
     "metadata": {},
     "output_type": "display_data"
    }
   ],
   "source": [
    "# Plot the income value by quantile for the countries selected without transformation\n",
    "plt.figure(figsize=(15,9))\n",
    "sns.lineplot(x = df3['quantile'],y = df3['income'], hue = df3['name'])\n",
    "plt.savefig(Path.cwd()/'Plot'/'LinePlot_IncomebyQuantiles_CountriesSelected_beforeLog.png')\n",
    "plt.show()"
   ]
  },
  {
   "cell_type": "markdown",
   "metadata": {},
   "source": [
    "Here, we can see that the incomes distribution across the quantiles are following an exponential distribution because of the strong tails.\n",
    "\n",
    "\n",
    "<i> The log transformation is, arguably, the most popular among the different types of transformations used to transform skewed data to approximately conform to normality. Another popular use of the log transformation is to reduce the variability of data, especially in data sets that include outlying observations. This can be valuable both for making patterns in the data more interpretable and for helping to meet the assumptions of inferential statistics. </i>\n",
    "\n",
    "Source: Online Statistics Education: An Interactive Multimedia Course of Study https://onlinestatbook.com/2/transformations/log.html\n"
   ]
  },
  {
   "cell_type": "code",
   "execution_count": 28,
   "metadata": {},
   "outputs": [],
   "source": [
    "# Apply a log-transformation on the income \n",
    "df3['log_income'] = np.log(df3['income'])"
   ]
  },
  {
   "cell_type": "code",
   "execution_count": 29,
   "metadata": {},
   "outputs": [
    {
     "data": {
      "image/png": "[encoded data removed]",
      "text/plain": [
       "<Figure size 1152x576 with 1 Axes>"
      ]
     },
     "metadata": {},
     "output_type": "display_data"
    }
   ],
   "source": [
    "# Overlapped the distribution to compare countries together\n",
    "plt.figure(figsize=(16,8))\n",
    "plt.hist(df3['log_income'].where(df3.name == 'Iceland'), bins=50, alpha=0.5, label='Iceland')\n",
    "plt.hist(df3['log_income'].where(df3.name == 'Denmark'), bins=50, alpha=0.5, label='Denmark')\n",
    "plt.hist(df3['log_income'].where(df3.name == 'Argentina'), bins=50, alpha=0.5, label='Argentina')\n",
    "plt.hist(df3['log_income'].where(df3.name == 'Georgia'), bins=50, alpha=0.5, label='Georgia')\n",
    "plt.hist(df3['log_income'].where(df3.name == 'El Salvador'), bins=50, alpha=0.5, label='El Salvador')\n",
    "plt.title('Distribution of log-incomes by country')\n",
    "plt.legend(loc='upper right')\n",
    "plt.savefig(Path.cwd()/'Plot'/'Histogram_LogIncome_CountriesSelected.png')\n",
    "plt.show()"
   ]
  },
  {
   "cell_type": "markdown",
   "metadata": {},
   "source": [
    "The benefit of the transformation is clear on the distribution of incomes by country. Now we can distinguish some global pattern:\n",
    "\n",
    "- Georgia is the poorest country of the selection\n",
    "- Argentina & Turkey seem to be in the middle range of the selection. \n",
    "- Denmark and Iceland are the richest countries of the selection."
   ]
  },
  {
   "cell_type": "code",
   "execution_count": 30,
   "metadata": {},
   "outputs": [
    {
     "data": {
      "image/png": "[encoded data removed]",
      "text/plain": [
       "<Figure size 1080x648 with 1 Axes>"
      ]
     },
     "metadata": {},
     "output_type": "display_data"
    }
   ],
   "source": [
    "# Plot the income value by quantile for the countries selected after transformation\n",
    "plt.figure(figsize=(15,9))\n",
    "sns.lineplot(x = df3['quantile'],y = df3['log_income'], hue = df3['name'])\n",
    "plt.savefig(Path.cwd()/'Plot'/'LinePlot_LogIncomebyQuantiles_CountriesSelected.png')\n",
    "plt.show()"
   ]
  },
  {
   "cell_type": "markdown",
   "metadata": {},
   "source": [
    "We can observe the same on this plot: Denmark and Iceland are close in terms of distribution of income, so do Turkey and Argentina, and Georgia is the country with the lowest average income among this selection."
   ]
  },
  {
   "cell_type": "markdown",
   "metadata": {},
   "source": [
    "#### Lorenz Curve"
   ]
  },
  {
   "cell_type": "markdown",
   "metadata": {},
   "source": [
    "The Lorenz concentration curve is a way to represent the distribution function of a variable X. It is used in particular in economics to measure inequalities in the possession of wealth. <b> We will use it here to assess inequalities in terms of the distribution of incomes among the group of countries selected. </b>"
   ]
  },
  {
   "cell_type": "code",
   "execution_count": 31,
   "metadata": {},
   "outputs": [],
   "source": [
    "def lorenz_curve(X):\n",
    "    lorenz = np.cumsum(np.sort(X['income'])) / X['income'].sum()\n",
    "    lorenz = np.append([0],lorenz) \n",
    "    \n",
    "    #Plot Lorenz curve\n",
    "    fig, ax = plt.subplots(figsize=[7,5])\n",
    "    plt.plot([0,1], [0,1], color='k')\n",
    "    plt.plot(np.arange(lorenz.size)/(lorenz.size-1), lorenz,drawstyle='steps-post',color='indianred')\n",
    "    plt.title(X.name)\n",
    "    plt.savefig(Path.cwd()/'Plot'/'LorenzCurve_selectedCountries.png')\n",
    "    plt.show()"
   ]
  },
  {
   "cell_type": "code",
   "execution_count": 32,
   "metadata": {},
   "outputs": [
    {
     "data": {
      "image/png": "[encoded data removed]",
      "text/plain": [
       "<Figure size 504x360 with 1 Axes>"
      ]
     },
     "metadata": {},
     "output_type": "display_data"
    },
    {
     "data": {
      "image/png": "[encoded data removed]",
      "text/plain": [
       "<Figure size 504x360 with 1 Axes>"
      ]
     },
     "metadata": {},
     "output_type": "display_data"
    },
    {
     "data": {
      "image/png": "[encoded data removed]",
      "text/plain": [
       "<Figure size 504x360 with 1 Axes>"
      ]
     },
     "metadata": {},
     "output_type": "display_data"
    },
    {
     "data": {
      "image/png": "[encoded data removed]",
      "text/plain": [
       "<Figure size 504x360 with 1 Axes>"
      ]
     },
     "metadata": {},
     "output_type": "display_data"
    },
    {
     "data": {
      "image/png": "[encoded data removed]",
      "text/plain": [
       "<Figure size 504x360 with 1 Axes>"
      ]
     },
     "metadata": {},
     "output_type": "display_data"
    },
    {
     "data": {
      "text/html": [
       "<div>\n",
       "<style scoped>\n",
       "    .dataframe tbody tr th:only-of-type {\n",
       "        vertical-align: middle;\n",
       "    }\n",
       "\n",
       "    .dataframe tbody tr th {\n",
       "        vertical-align: top;\n",
       "    }\n",
       "\n",
       "    .dataframe thead th {\n",
       "        text-align: right;\n",
       "    }\n",
       "</style>\n",
       "<table border=\"1\" class=\"dataframe\">\n",
       "  <thead>\n",
       "    <tr style=\"text-align: right;\">\n",
       "      <th></th>\n",
       "    </tr>\n",
       "  </thead>\n",
       "  <tbody>\n",
       "  </tbody>\n",
       "</table>\n",
       "</div>"
      ],
      "text/plain": [
       "Empty DataFrame\n",
       "Columns: []\n",
       "Index: []"
      ]
     },
     "execution_count": 32,
     "metadata": {},
     "output_type": "execute_result"
    }
   ],
   "source": [
    "# Plot Lorenz Curves for each country selected\n",
    "df3[['name','income']].groupby('name').apply(lorenz_curve)"
   ]
  },
  {
   "cell_type": "markdown",
   "metadata": {},
   "source": [
    "<b> We can see here that there are more inequalities in Turkey, Argentina and Georgia than in Iceland and Denmark, as we could have expected. </b>\n",
    "\n",
    "<i> The Lorenz curve is further away from the first bisector line. </i> "
   ]
  },
  {
   "cell_type": "markdown",
   "metadata": {},
   "source": [
    "#### Gini Index"
   ]
  },
  {
   "cell_type": "markdown",
   "metadata": {},
   "source": [
    "The Gini index represents the area between the Lorenz curve and the first bisector line. It is a good metric to summarize the information from the Lorenz curve. In this section, we will visualize the evolution of the Gini Index over the years for the 5 countries selected."
   ]
  },
  {
   "cell_type": "code",
   "execution_count": 33,
   "metadata": {},
   "outputs": [
    {
     "data": {
      "text/html": [
       "<div>\n",
       "<style scoped>\n",
       "    .dataframe tbody tr th:only-of-type {\n",
       "        vertical-align: middle;\n",
       "    }\n",
       "\n",
       "    .dataframe tbody tr th {\n",
       "        vertical-align: top;\n",
       "    }\n",
       "\n",
       "    .dataframe thead th {\n",
       "        text-align: right;\n",
       "    }\n",
       "</style>\n",
       "<table border=\"1\" class=\"dataframe\">\n",
       "  <thead>\n",
       "    <tr style=\"text-align: right;\">\n",
       "      <th></th>\n",
       "      <th>Country Name</th>\n",
       "      <th>2004 [YR2004]</th>\n",
       "      <th>2005 [YR2005]</th>\n",
       "      <th>2006 [YR2006]</th>\n",
       "      <th>2007 [YR2007]</th>\n",
       "      <th>2008 [YR2008]</th>\n",
       "      <th>2009 [YR2009]</th>\n",
       "      <th>2010 [YR2010]</th>\n",
       "      <th>2011 [YR2011]</th>\n",
       "    </tr>\n",
       "  </thead>\n",
       "  <tbody>\n",
       "    <tr>\n",
       "      <th>7</th>\n",
       "      <td>Argentina</td>\n",
       "      <td>48.6</td>\n",
       "      <td>48.0</td>\n",
       "      <td>46.7</td>\n",
       "      <td>46.6</td>\n",
       "      <td>45.3</td>\n",
       "      <td>44.1</td>\n",
       "      <td>44.5</td>\n",
       "      <td>42.7</td>\n",
       "    </tr>\n",
       "    <tr>\n",
       "      <th>53</th>\n",
       "      <td>Denmark</td>\n",
       "      <td>24.9</td>\n",
       "      <td>25.2</td>\n",
       "      <td>25.9</td>\n",
       "      <td>26.2</td>\n",
       "      <td>25.2</td>\n",
       "      <td>26.7</td>\n",
       "      <td>27.2</td>\n",
       "      <td>27.3</td>\n",
       "    </tr>\n",
       "    <tr>\n",
       "      <th>59</th>\n",
       "      <td>El Salvador</td>\n",
       "      <td>47.8</td>\n",
       "      <td>48.5</td>\n",
       "      <td>45.7</td>\n",
       "      <td>45.2</td>\n",
       "      <td>46.9</td>\n",
       "      <td>45.8</td>\n",
       "      <td>43.5</td>\n",
       "      <td>42.3</td>\n",
       "    </tr>\n",
       "    <tr>\n",
       "      <th>72</th>\n",
       "      <td>Georgia</td>\n",
       "      <td>36.2</td>\n",
       "      <td>37.4</td>\n",
       "      <td>36.9</td>\n",
       "      <td>38.1</td>\n",
       "      <td>38.5</td>\n",
       "      <td>38.2</td>\n",
       "      <td>39.5</td>\n",
       "      <td>39.6</td>\n",
       "    </tr>\n",
       "    <tr>\n",
       "      <th>88</th>\n",
       "      <td>Iceland</td>\n",
       "      <td>28.0</td>\n",
       "      <td>29.0</td>\n",
       "      <td>30.2</td>\n",
       "      <td>29.5</td>\n",
       "      <td>31.8</td>\n",
       "      <td>28.7</td>\n",
       "      <td>26.2</td>\n",
       "      <td>26.8</td>\n",
       "    </tr>\n",
       "  </tbody>\n",
       "</table>\n",
       "</div>"
      ],
      "text/plain": [
       "   Country Name  2004 [YR2004]  2005 [YR2005]  2006 [YR2006]  2007 [YR2007]  \\\n",
       "7     Argentina           48.6           48.0           46.7           46.6   \n",
       "53      Denmark           24.9           25.2           25.9           26.2   \n",
       "59  El Salvador           47.8           48.5           45.7           45.2   \n",
       "72      Georgia           36.2           37.4           36.9           38.1   \n",
       "88      Iceland           28.0           29.0           30.2           29.5   \n",
       "\n",
       "    2008 [YR2008]  2009 [YR2009]  2010 [YR2010]  2011 [YR2011]  \n",
       "7            45.3           44.1           44.5           42.7  \n",
       "53           25.2           26.7           27.2           27.3  \n",
       "59           46.9           45.8           43.5           42.3  \n",
       "72           38.5           38.2           39.5           39.6  \n",
       "88           31.8           28.7           26.2           26.8  "
      ]
     },
     "execution_count": 33,
     "metadata": {},
     "output_type": "execute_result"
    }
   ],
   "source": [
    "# Get the data\n",
    "gin = gpop[(gpop['Series Name'] == 'Gini index (World Bank estimate)')& (gpop['Country Name'].isin(selection))].iloc[:,\n",
    "                                                                                                    2:].drop('Country Code',axis= 1)\n",
    "gin.head()"
   ]
  },
  {
   "cell_type": "code",
   "execution_count": 34,
   "metadata": {},
   "outputs": [
    {
     "data": {
      "text/plain": [
       "7     45.8125\n",
       "53    26.0750\n",
       "59    45.7125\n",
       "72    38.0500\n",
       "88    28.7750\n",
       "dtype: float64"
      ]
     },
     "execution_count": 34,
     "metadata": {},
     "output_type": "execute_result"
    }
   ],
   "source": [
    "# Average Gini index\n",
    "gin.mean(axis=1)"
   ]
  },
  {
   "cell_type": "code",
   "execution_count": 35,
   "metadata": {},
   "outputs": [
    {
     "data": {
      "text/plain": [
       "Country Name     0\n",
       "2004 [YR2004]    0\n",
       "2005 [YR2005]    0\n",
       "2006 [YR2006]    0\n",
       "2007 [YR2007]    0\n",
       "2008 [YR2008]    0\n",
       "2009 [YR2009]    0\n",
       "2010 [YR2010]    0\n",
       "2011 [YR2011]    0\n",
       "dtype: int64"
      ]
     },
     "execution_count": 35,
     "metadata": {},
     "output_type": "execute_result"
    }
   ],
   "source": [
    "# For the records, the 5 countries have been selected not only because of their characteristics but alos because their data were complete.\n",
    "gin.isna().sum()"
   ]
  },
  {
   "cell_type": "code",
   "execution_count": 36,
   "metadata": {},
   "outputs": [
    {
     "data": {
      "text/html": [
       "<div>\n",
       "<style scoped>\n",
       "    .dataframe tbody tr th:only-of-type {\n",
       "        vertical-align: middle;\n",
       "    }\n",
       "\n",
       "    .dataframe tbody tr th {\n",
       "        vertical-align: top;\n",
       "    }\n",
       "\n",
       "    .dataframe thead th {\n",
       "        text-align: right;\n",
       "    }\n",
       "</style>\n",
       "<table border=\"1\" class=\"dataframe\">\n",
       "  <thead>\n",
       "    <tr style=\"text-align: right;\">\n",
       "      <th></th>\n",
       "      <th>Country Name</th>\n",
       "      <th>year</th>\n",
       "      <th>value</th>\n",
       "    </tr>\n",
       "  </thead>\n",
       "  <tbody>\n",
       "    <tr>\n",
       "      <th>0</th>\n",
       "      <td>Argentina</td>\n",
       "      <td>2004</td>\n",
       "      <td>48.6</td>\n",
       "    </tr>\n",
       "    <tr>\n",
       "      <th>1</th>\n",
       "      <td>Denmark</td>\n",
       "      <td>2004</td>\n",
       "      <td>24.9</td>\n",
       "    </tr>\n",
       "    <tr>\n",
       "      <th>2</th>\n",
       "      <td>El Salvador</td>\n",
       "      <td>2004</td>\n",
       "      <td>47.8</td>\n",
       "    </tr>\n",
       "    <tr>\n",
       "      <th>3</th>\n",
       "      <td>Georgia</td>\n",
       "      <td>2004</td>\n",
       "      <td>36.2</td>\n",
       "    </tr>\n",
       "    <tr>\n",
       "      <th>4</th>\n",
       "      <td>Iceland</td>\n",
       "      <td>2004</td>\n",
       "      <td>28.0</td>\n",
       "    </tr>\n",
       "  </tbody>\n",
       "</table>\n",
       "</div>"
      ],
      "text/plain": [
       "  Country Name   year  value\n",
       "0    Argentina  2004    48.6\n",
       "1      Denmark  2004    24.9\n",
       "2  El Salvador  2004    47.8\n",
       "3      Georgia  2004    36.2\n",
       "4      Iceland  2004    28.0"
      ]
     },
     "execution_count": 36,
     "metadata": {},
     "output_type": "execute_result"
    }
   ],
   "source": [
    "# Unpivot the data\n",
    "tmp = pd.melt(gin, id_vars=['Country Name'], var_name='year', value_name='value')\n",
    "\n",
    "# Get rid of the weird names for years\n",
    "tmp[['year','stuff']] = tmp['year'].str.split('[',expand=True)\n",
    "tmp = tmp.drop('stuff',axis=1)\n",
    "tmp.head()"
   ]
  },
  {
   "cell_type": "code",
   "execution_count": 37,
   "metadata": {},
   "outputs": [
    {
     "data": {
      "image/png": "[encoded data removed]",
      "text/plain": [
       "<Figure size 1080x648 with 1 Axes>"
      ]
     },
     "metadata": {},
     "output_type": "display_data"
    }
   ],
   "source": [
    "# Plot the Gini index over the years for the countries selected\n",
    "plt.figure(figsize=(15,9))\n",
    "sns.lineplot(x = tmp['year'],y = tmp['value'], hue = tmp['Country Name'])\n",
    "plt.savefig(Path.cwd()/'Plot'/'GiniIndex_SelectedCountries.png')\n",
    "plt.show()"
   ]
  },
  {
   "cell_type": "markdown",
   "metadata": {},
   "source": [
    "The smallest the Gini Index The least inequalities in the Country. Here we see:\n",
    "-  Denmark and Iceland are the countries with the least inequalities among the selection of countries. In 2011, they tend to have more or less the same index. The Index increase slightly in Denmark between 2008 and 2011 and while it decreased strongly in Iceland.\n",
    "- Georgia and Turkey have in 2011 an index about 1.5 time bigger than the index of Denmark and Iceland. The index stayed relatively stable since 2007.\n",
    "- Argentina is the country with the biggest inequalities in terms of income among its population. Its index is the highest of the selection. However, we can see that it tends to decrease since 2004 and is almost at the same level of Georgia and Turkey in 2011."
   ]
  },
  {
   "cell_type": "markdown",
   "metadata": {},
   "source": [
    "<b> We are now looking at all the countries in the World and ranking them by gini index ascending so from the country with the less inequality of incomes to the country with the biggest inequalities </b>"
   ]
  },
  {
   "cell_type": "code",
   "execution_count": 38,
   "metadata": {},
   "outputs": [
    {
     "data": {
      "image/png": "[encoded data removed]",
      "text/plain": [
       "<Figure size 1728x720 with 3 Axes>"
      ]
     },
     "metadata": {},
     "output_type": "display_data"
    }
   ],
   "source": [
    "# Get the data for all countries in the World in 2011 with data\n",
    "gin2 = gpop[(gpop['Series Name'] == 'Gini index (World Bank estimate)')]\n",
    "\n",
    "#Check out the missing values \n",
    "msno.bar(gin2)\n",
    "plt.show()"
   ]
  },
  {
   "cell_type": "markdown",
   "metadata": {},
   "source": [
    "We have a lot of missing values in our dataset holding the gini index. For further analytics, it will be better to complete the data to increase the representativity and relevance of our observations. For that reason, we are re-calculating the gini index for all countries and all years with the data available."
   ]
  },
  {
   "cell_type": "code",
   "execution_count": 39,
   "metadata": {},
   "outputs": [],
   "source": [
    "def gini_index(X):\n",
    "    # First we need to build the Lorenz curve\n",
    "    lorenz = np.cumsum(np.sort(X['income'])) / X['income'].sum()\n",
    "    lorenz = np.append([0],lorenz) \n",
    "    # Calculate the area under the curve\n",
    "    AUC = lorenz[:-1].sum()/len(lorenz) \n",
    "    # Area btw the 1st bisector and the lorenz curve\n",
    "    S = 0.5 - AUC \n",
    "    gini = 2*S\n",
    "    return gini*100"
   ]
  },
  {
   "cell_type": "code",
   "execution_count": 33,
   "metadata": {},
   "outputs": [
    {
     "data": {
      "text/html": [
       "<div>\n",
       "<style scoped>\n",
       "    .dataframe tbody tr th:only-of-type {\n",
       "        vertical-align: middle;\n",
       "    }\n",
       "\n",
       "    .dataframe tbody tr th {\n",
       "        vertical-align: top;\n",
       "    }\n",
       "\n",
       "    .dataframe thead th {\n",
       "        text-align: right;\n",
       "    }\n",
       "</style>\n",
       "<table border=\"1\" class=\"dataframe\">\n",
       "  <thead>\n",
       "    <tr style=\"text-align: right;\">\n",
       "      <th></th>\n",
       "      <th>name</th>\n",
       "      <th>year_survey</th>\n",
       "      <th>new_gini</th>\n",
       "    </tr>\n",
       "  </thead>\n",
       "  <tbody>\n",
       "    <tr>\n",
       "      <th>0</th>\n",
       "      <td>Albania</td>\n",
       "      <td>2008.0</td>\n",
       "      <td>32.141019</td>\n",
       "    </tr>\n",
       "    <tr>\n",
       "      <th>1</th>\n",
       "      <td>Argentina</td>\n",
       "      <td>2008.0</td>\n",
       "      <td>46.524916</td>\n",
       "    </tr>\n",
       "    <tr>\n",
       "      <th>2</th>\n",
       "      <td>Armenia</td>\n",
       "      <td>2008.0</td>\n",
       "      <td>28.030458</td>\n",
       "    </tr>\n",
       "    <tr>\n",
       "      <th>3</th>\n",
       "      <td>Austria</td>\n",
       "      <td>2008.0</td>\n",
       "      <td>29.532585</td>\n",
       "    </tr>\n",
       "    <tr>\n",
       "      <th>4</th>\n",
       "      <td>Azerbaijan</td>\n",
       "      <td>2008.0</td>\n",
       "      <td>32.903087</td>\n",
       "    </tr>\n",
       "  </tbody>\n",
       "</table>\n",
       "</div>"
      ],
      "text/plain": [
       "         name  year_survey   new_gini\n",
       "0     Albania       2008.0  32.141019\n",
       "1   Argentina       2008.0  46.524916\n",
       "2     Armenia       2008.0  28.030458\n",
       "3     Austria       2008.0  29.532585\n",
       "4  Azerbaijan       2008.0  32.903087"
      ]
     },
     "execution_count": 33,
     "metadata": {},
     "output_type": "execute_result"
    }
   ],
   "source": [
    "# Get gini index\n",
    "new_gini = df2[['name','income','year_survey']].groupby(['name','year_survey']).apply(gini_index).reset_index()\n",
    "new_gini.rename(columns={0: \"new_gini\"},inplace=True)\n",
    "new_gini.head()"
   ]
  },
  {
   "cell_type": "code",
   "execution_count": 34,
   "metadata": {},
   "outputs": [],
   "source": [
    "# Check our calculation with the gini indexes we already got for validation\n",
    "tmp= pd.melt(gin2.drop(['Series Name','Series Code', 'Country Code'],axis=1), id_vars=['Country Name'], var_name='year', value_name='value')\n",
    "\n",
    "# Get rid of the weird names for years\n",
    "tmp[['year','stuff']] = tmp['year'].str.split('[',expand=True)\n",
    "tmp = tmp.drop('stuff',axis=1)\n",
    "tmp.head()\n",
    "\n",
    "tmp['Country Name'] = tmp['Country Name'].astype('str')\n",
    "tmp['year'] = tmp['year'].astype(int)"
   ]
  },
  {
   "cell_type": "code",
   "execution_count": 35,
   "metadata": {},
   "outputs": [
    {
     "data": {
      "text/html": [
       "<div>\n",
       "<style scoped>\n",
       "    .dataframe tbody tr th:only-of-type {\n",
       "        vertical-align: middle;\n",
       "    }\n",
       "\n",
       "    .dataframe tbody tr th {\n",
       "        vertical-align: top;\n",
       "    }\n",
       "\n",
       "    .dataframe thead th {\n",
       "        text-align: right;\n",
       "    }\n",
       "</style>\n",
       "<table border=\"1\" class=\"dataframe\">\n",
       "  <thead>\n",
       "    <tr style=\"text-align: right;\">\n",
       "      <th></th>\n",
       "      <th>name</th>\n",
       "      <th>year_survey</th>\n",
       "      <th>new_gini</th>\n",
       "      <th>Country Name</th>\n",
       "      <th>year</th>\n",
       "      <th>value</th>\n",
       "      <th>diff</th>\n",
       "    </tr>\n",
       "  </thead>\n",
       "  <tbody>\n",
       "    <tr>\n",
       "      <th>0</th>\n",
       "      <td>Albania</td>\n",
       "      <td>2008.0</td>\n",
       "      <td>32.141019</td>\n",
       "      <td>Albania</td>\n",
       "      <td>2008.0</td>\n",
       "      <td>30.0</td>\n",
       "      <td>-2.141019</td>\n",
       "    </tr>\n",
       "    <tr>\n",
       "      <th>1</th>\n",
       "      <td>Argentina</td>\n",
       "      <td>2008.0</td>\n",
       "      <td>46.524916</td>\n",
       "      <td>Argentina</td>\n",
       "      <td>2008.0</td>\n",
       "      <td>45.3</td>\n",
       "      <td>-1.224916</td>\n",
       "    </tr>\n",
       "    <tr>\n",
       "      <th>2</th>\n",
       "      <td>Armenia</td>\n",
       "      <td>2008.0</td>\n",
       "      <td>28.030458</td>\n",
       "      <td>Armenia</td>\n",
       "      <td>2008.0</td>\n",
       "      <td>29.2</td>\n",
       "      <td>1.169542</td>\n",
       "    </tr>\n",
       "    <tr>\n",
       "      <th>3</th>\n",
       "      <td>Austria</td>\n",
       "      <td>2008.0</td>\n",
       "      <td>29.532585</td>\n",
       "      <td>Austria</td>\n",
       "      <td>2008.0</td>\n",
       "      <td>30.4</td>\n",
       "      <td>0.867415</td>\n",
       "    </tr>\n",
       "    <tr>\n",
       "      <th>4</th>\n",
       "      <td>Azerbaijan</td>\n",
       "      <td>2008.0</td>\n",
       "      <td>32.903087</td>\n",
       "      <td>Azerbaijan</td>\n",
       "      <td>2008.0</td>\n",
       "      <td>NaN</td>\n",
       "      <td>NaN</td>\n",
       "    </tr>\n",
       "  </tbody>\n",
       "</table>\n",
       "</div>"
      ],
      "text/plain": [
       "         name  year_survey   new_gini Country Name    year  value      diff\n",
       "0     Albania       2008.0  32.141019      Albania  2008.0   30.0 -2.141019\n",
       "1   Argentina       2008.0  46.524916    Argentina  2008.0   45.3 -1.224916\n",
       "2     Armenia       2008.0  28.030458      Armenia  2008.0   29.2  1.169542\n",
       "3     Austria       2008.0  29.532585      Austria  2008.0   30.4  0.867415\n",
       "4  Azerbaijan       2008.0  32.903087   Azerbaijan  2008.0    NaN       NaN"
      ]
     },
     "execution_count": 35,
     "metadata": {},
     "output_type": "execute_result"
    }
   ],
   "source": [
    "# Merge with our values\n",
    "tmp = pd.merge(new_gini,tmp, left_on= ['name','year_survey'],right_on=['Country Name','year'],how='left')\n",
    "tmp['diff'] = tmp['value']-tmp['new_gini']\n",
    "tmp.head()"
   ]
  },
  {
   "cell_type": "code",
   "execution_count": 36,
   "metadata": {},
   "outputs": [
    {
     "data": {
      "text/plain": [
       "-1.7402574469621743"
      ]
     },
     "execution_count": 36,
     "metadata": {},
     "output_type": "execute_result"
    }
   ],
   "source": [
    "# How accurate is our own calculation compare to the estimated data provided by the World Bank\n",
    "tmp['diff'].mean()"
   ]
  },
  {
   "cell_type": "markdown",
   "metadata": {},
   "source": [
    "<b> In average, we notice a difference of about 1,74% between the estimated value provided by the World Bank and our calculation. This is relatively low, so we will consider our calculation as good and move on further with these values instead of the values from the World Bank. </b>"
   ]
  },
  {
   "cell_type": "code",
   "execution_count": 37,
   "metadata": {},
   "outputs": [
    {
     "data": {
      "text/html": [
       "<div>\n",
       "<style scoped>\n",
       "    .dataframe tbody tr th:only-of-type {\n",
       "        vertical-align: middle;\n",
       "    }\n",
       "\n",
       "    .dataframe tbody tr th {\n",
       "        vertical-align: top;\n",
       "    }\n",
       "\n",
       "    .dataframe thead th {\n",
       "        text-align: right;\n",
       "    }\n",
       "</style>\n",
       "<table border=\"1\" class=\"dataframe\">\n",
       "  <thead>\n",
       "    <tr style=\"text-align: right;\">\n",
       "      <th></th>\n",
       "      <th>new_gini</th>\n",
       "    </tr>\n",
       "    <tr>\n",
       "      <th>year_survey</th>\n",
       "      <th></th>\n",
       "    </tr>\n",
       "  </thead>\n",
       "  <tbody>\n",
       "    <tr>\n",
       "      <th>2004.0</th>\n",
       "      <td>1</td>\n",
       "    </tr>\n",
       "    <tr>\n",
       "      <th>2006.0</th>\n",
       "      <td>5</td>\n",
       "    </tr>\n",
       "    <tr>\n",
       "      <th>2007.0</th>\n",
       "      <td>15</td>\n",
       "    </tr>\n",
       "    <tr>\n",
       "      <th>2008.0</th>\n",
       "      <td>75</td>\n",
       "    </tr>\n",
       "    <tr>\n",
       "      <th>2009.0</th>\n",
       "      <td>12</td>\n",
       "    </tr>\n",
       "    <tr>\n",
       "      <th>2010.0</th>\n",
       "      <td>6</td>\n",
       "    </tr>\n",
       "    <tr>\n",
       "      <th>2011.0</th>\n",
       "      <td>1</td>\n",
       "    </tr>\n",
       "  </tbody>\n",
       "</table>\n",
       "</div>"
      ],
      "text/plain": [
       "             new_gini\n",
       "year_survey          \n",
       "2004.0              1\n",
       "2006.0              5\n",
       "2007.0             15\n",
       "2008.0             75\n",
       "2009.0             12\n",
       "2010.0              6\n",
       "2011.0              1"
      ]
     },
     "execution_count": 37,
     "metadata": {},
     "output_type": "execute_result"
    }
   ],
   "source": [
    "new_gini.groupby('year_survey').count()[['new_gini']]"
   ]
  },
  {
   "cell_type": "code",
   "execution_count": 38,
   "metadata": {},
   "outputs": [
    {
     "data": {
      "text/html": [
       "<div>\n",
       "<style scoped>\n",
       "    .dataframe tbody tr th:only-of-type {\n",
       "        vertical-align: middle;\n",
       "    }\n",
       "\n",
       "    .dataframe tbody tr th {\n",
       "        vertical-align: top;\n",
       "    }\n",
       "\n",
       "    .dataframe thead th {\n",
       "        text-align: right;\n",
       "    }\n",
       "</style>\n",
       "<table border=\"1\" class=\"dataframe\">\n",
       "  <thead>\n",
       "    <tr style=\"text-align: right;\">\n",
       "      <th></th>\n",
       "      <th>value</th>\n",
       "    </tr>\n",
       "    <tr>\n",
       "      <th>year</th>\n",
       "      <th></th>\n",
       "    </tr>\n",
       "  </thead>\n",
       "  <tbody>\n",
       "    <tr>\n",
       "      <th>2004.0</th>\n",
       "      <td>1</td>\n",
       "    </tr>\n",
       "    <tr>\n",
       "      <th>2006.0</th>\n",
       "      <td>2</td>\n",
       "    </tr>\n",
       "    <tr>\n",
       "      <th>2007.0</th>\n",
       "      <td>8</td>\n",
       "    </tr>\n",
       "    <tr>\n",
       "      <th>2008.0</th>\n",
       "      <td>52</td>\n",
       "    </tr>\n",
       "    <tr>\n",
       "      <th>2009.0</th>\n",
       "      <td>9</td>\n",
       "    </tr>\n",
       "    <tr>\n",
       "      <th>2010.0</th>\n",
       "      <td>4</td>\n",
       "    </tr>\n",
       "    <tr>\n",
       "      <th>2011.0</th>\n",
       "      <td>0</td>\n",
       "    </tr>\n",
       "  </tbody>\n",
       "</table>\n",
       "</div>"
      ],
      "text/plain": [
       "        value\n",
       "year         \n",
       "2004.0      1\n",
       "2006.0      2\n",
       "2007.0      8\n",
       "2008.0     52\n",
       "2009.0      9\n",
       "2010.0      4\n",
       "2011.0      0"
      ]
     },
     "execution_count": 38,
     "metadata": {},
     "output_type": "execute_result"
    }
   ],
   "source": [
    "tmp.groupby('year').count()[['value']]"
   ]
  },
  {
   "cell_type": "markdown",
   "metadata": {},
   "source": [
    "We can see that we have increase the number of values available and also that the year 2008 is the one with the highest number of data."
   ]
  },
  {
   "cell_type": "code",
   "execution_count": 39,
   "metadata": {},
   "outputs": [
    {
     "data": {
      "text/plain": [
       "39.558449197058"
      ]
     },
     "execution_count": 39,
     "metadata": {},
     "output_type": "execute_result"
    }
   ],
   "source": [
    "# What is the average of Gini Index across years and countries?\n",
    "tmp['new_gini'].mean()"
   ]
  },
  {
   "cell_type": "code",
   "execution_count": 40,
   "metadata": {},
   "outputs": [
    {
     "data": {
      "text/html": [
       "<div>\n",
       "<style scoped>\n",
       "    .dataframe tbody tr th:only-of-type {\n",
       "        vertical-align: middle;\n",
       "    }\n",
       "\n",
       "    .dataframe tbody tr th {\n",
       "        vertical-align: top;\n",
       "    }\n",
       "\n",
       "    .dataframe thead th {\n",
       "        text-align: right;\n",
       "    }\n",
       "</style>\n",
       "<table border=\"1\" class=\"dataframe\">\n",
       "  <thead>\n",
       "    <tr style=\"text-align: right;\">\n",
       "      <th></th>\n",
       "      <th>index</th>\n",
       "      <th>name</th>\n",
       "      <th>year_survey</th>\n",
       "      <th>new_gini</th>\n",
       "      <th>Country Name</th>\n",
       "      <th>year</th>\n",
       "      <th>value</th>\n",
       "      <th>diff</th>\n",
       "    </tr>\n",
       "  </thead>\n",
       "  <tbody>\n",
       "    <tr>\n",
       "      <th>0</th>\n",
       "      <td>94</td>\n",
       "      <td>Slovenia</td>\n",
       "      <td>2008.0</td>\n",
       "      <td>24.824876</td>\n",
       "      <td>Slovenia</td>\n",
       "      <td>2008.0</td>\n",
       "      <td>23.7</td>\n",
       "      <td>-1.124876</td>\n",
       "    </tr>\n",
       "    <tr>\n",
       "      <th>1</th>\n",
       "      <td>93</td>\n",
       "      <td>Slovakia</td>\n",
       "      <td>2008.0</td>\n",
       "      <td>26.457318</td>\n",
       "      <td>NaN</td>\n",
       "      <td>NaN</td>\n",
       "      <td>NaN</td>\n",
       "      <td>NaN</td>\n",
       "    </tr>\n",
       "    <tr>\n",
       "      <th>2</th>\n",
       "      <td>25</td>\n",
       "      <td>Czechia</td>\n",
       "      <td>2008.0</td>\n",
       "      <td>27.016228</td>\n",
       "      <td>NaN</td>\n",
       "      <td>NaN</td>\n",
       "      <td>NaN</td>\n",
       "      <td>NaN</td>\n",
       "    </tr>\n",
       "    <tr>\n",
       "      <th>3</th>\n",
       "      <td>99</td>\n",
       "      <td>Sweden</td>\n",
       "      <td>2008.0</td>\n",
       "      <td>27.216580</td>\n",
       "      <td>Sweden</td>\n",
       "      <td>2008.0</td>\n",
       "      <td>28.1</td>\n",
       "      <td>0.883420</td>\n",
       "    </tr>\n",
       "    <tr>\n",
       "      <th>4</th>\n",
       "      <td>108</td>\n",
       "      <td>Ukraine</td>\n",
       "      <td>2008.0</td>\n",
       "      <td>27.241550</td>\n",
       "      <td>Ukraine</td>\n",
       "      <td>2008.0</td>\n",
       "      <td>26.6</td>\n",
       "      <td>-0.641550</td>\n",
       "    </tr>\n",
       "    <tr>\n",
       "      <th>5</th>\n",
       "      <td>27</td>\n",
       "      <td>Denmark</td>\n",
       "      <td>2008.0</td>\n",
       "      <td>27.710015</td>\n",
       "      <td>Denmark</td>\n",
       "      <td>2008.0</td>\n",
       "      <td>25.2</td>\n",
       "      <td>-2.510015</td>\n",
       "    </tr>\n",
       "    <tr>\n",
       "      <th>6</th>\n",
       "      <td>81</td>\n",
       "      <td>Norway</td>\n",
       "      <td>2008.0</td>\n",
       "      <td>28.014664</td>\n",
       "      <td>Norway</td>\n",
       "      <td>2008.0</td>\n",
       "      <td>27.0</td>\n",
       "      <td>-1.014664</td>\n",
       "    </tr>\n",
       "    <tr>\n",
       "      <th>7</th>\n",
       "      <td>2</td>\n",
       "      <td>Armenia</td>\n",
       "      <td>2008.0</td>\n",
       "      <td>28.030458</td>\n",
       "      <td>Armenia</td>\n",
       "      <td>2008.0</td>\n",
       "      <td>29.2</td>\n",
       "      <td>1.169542</td>\n",
       "    </tr>\n",
       "    <tr>\n",
       "      <th>8</th>\n",
       "      <td>6</td>\n",
       "      <td>Belarus</td>\n",
       "      <td>2008.0</td>\n",
       "      <td>28.329229</td>\n",
       "      <td>Belarus</td>\n",
       "      <td>2008.0</td>\n",
       "      <td>27.8</td>\n",
       "      <td>-0.529229</td>\n",
       "    </tr>\n",
       "    <tr>\n",
       "      <th>9</th>\n",
       "      <td>55</td>\n",
       "      <td>Kazakhstan</td>\n",
       "      <td>2008.0</td>\n",
       "      <td>28.449874</td>\n",
       "      <td>Kazakhstan</td>\n",
       "      <td>2008.0</td>\n",
       "      <td>28.5</td>\n",
       "      <td>0.050126</td>\n",
       "    </tr>\n",
       "  </tbody>\n",
       "</table>\n",
       "</div>"
      ],
      "text/plain": [
       "   index        name  year_survey   new_gini Country Name    year  value  \\\n",
       "0     94    Slovenia       2008.0  24.824876     Slovenia  2008.0   23.7   \n",
       "1     93    Slovakia       2008.0  26.457318          NaN     NaN    NaN   \n",
       "2     25     Czechia       2008.0  27.016228          NaN     NaN    NaN   \n",
       "3     99      Sweden       2008.0  27.216580       Sweden  2008.0   28.1   \n",
       "4    108     Ukraine       2008.0  27.241550      Ukraine  2008.0   26.6   \n",
       "5     27     Denmark       2008.0  27.710015      Denmark  2008.0   25.2   \n",
       "6     81      Norway       2008.0  28.014664       Norway  2008.0   27.0   \n",
       "7      2     Armenia       2008.0  28.030458      Armenia  2008.0   29.2   \n",
       "8      6     Belarus       2008.0  28.329229      Belarus  2008.0   27.8   \n",
       "9     55  Kazakhstan       2008.0  28.449874   Kazakhstan  2008.0   28.5   \n",
       "\n",
       "       diff  \n",
       "0 -1.124876  \n",
       "1       NaN  \n",
       "2       NaN  \n",
       "3  0.883420  \n",
       "4 -0.641550  \n",
       "5 -2.510015  \n",
       "6 -1.014664  \n",
       "7  1.169542  \n",
       "8 -0.529229  \n",
       "9  0.050126  "
      ]
     },
     "execution_count": 40,
     "metadata": {},
     "output_type": "execute_result"
    }
   ],
   "source": [
    "# Get the 5 countries with the lowest Gini index?\n",
    "tmp.sort_values(by='new_gini',ascending=True,inplace=True)\n",
    "tmp = tmp.reset_index()\n",
    "tmp2 = tmp.head(10)\n",
    "tmp2"
   ]
  },
  {
   "cell_type": "code",
   "execution_count": 41,
   "metadata": {},
   "outputs": [
    {
     "data": {
      "image/png": "[encoded data removed]",
      "text/plain": [
       "<Figure size 720x360 with 1 Axes>"
      ]
     },
     "metadata": {},
     "output_type": "display_data"
    }
   ],
   "source": [
    "# Visualize the data per year\n",
    "fig = plt.figure(figsize=(10,5))\n",
    "x = tmp2['name'].to_list()\n",
    "y = tmp2['new_gini'].to_list()\n",
    "plt.bar(x,y)\n",
    "plt.savefig(Path.cwd()/'Plot'/'M2_Lower_Gini.png')\n",
    "plt.show()"
   ]
  },
  {
   "cell_type": "markdown",
   "metadata": {},
   "source": [
    "These results are corroborated by the information find here: https://worldpopulationreview.com/country-rankings/gini-coefficient-by-country\n",
    "\n",
    "Many European countries have some of the lowest Gini coefficients, such as Slovakia, Slovenia, Sweden, Ukraine, Belgium, and Norway. Inequality is generally lower in European nations than it is in non-European nations. The Nordic countries and Central Eastern European countries are among the most equal countries. "
   ]
  },
  {
   "cell_type": "code",
   "execution_count": 42,
   "metadata": {},
   "outputs": [
    {
     "data": {
      "text/html": [
       "<div>\n",
       "<style scoped>\n",
       "    .dataframe tbody tr th:only-of-type {\n",
       "        vertical-align: middle;\n",
       "    }\n",
       "\n",
       "    .dataframe tbody tr th {\n",
       "        vertical-align: top;\n",
       "    }\n",
       "\n",
       "    .dataframe thead th {\n",
       "        text-align: right;\n",
       "    }\n",
       "</style>\n",
       "<table border=\"1\" class=\"dataframe\">\n",
       "  <thead>\n",
       "    <tr style=\"text-align: right;\">\n",
       "      <th></th>\n",
       "      <th>index</th>\n",
       "      <th>name</th>\n",
       "      <th>year_survey</th>\n",
       "      <th>new_gini</th>\n",
       "      <th>Country Name</th>\n",
       "      <th>year</th>\n",
       "      <th>value</th>\n",
       "      <th>diff</th>\n",
       "    </tr>\n",
       "  </thead>\n",
       "  <tbody>\n",
       "    <tr>\n",
       "      <th>110</th>\n",
       "      <td>17</td>\n",
       "      <td>Central African Republic</td>\n",
       "      <td>2008.0</td>\n",
       "      <td>57.597241</td>\n",
       "      <td>Central African Republic</td>\n",
       "      <td>2008.0</td>\n",
       "      <td>56.2</td>\n",
       "      <td>-1.397241</td>\n",
       "    </tr>\n",
       "    <tr>\n",
       "      <th>111</th>\n",
       "      <td>41</td>\n",
       "      <td>Guatemala</td>\n",
       "      <td>2011.0</td>\n",
       "      <td>58.246806</td>\n",
       "      <td>Guatemala</td>\n",
       "      <td>2011.0</td>\n",
       "      <td>NaN</td>\n",
       "      <td>NaN</td>\n",
       "    </tr>\n",
       "    <tr>\n",
       "      <th>112</th>\n",
       "      <td>20</td>\n",
       "      <td>Colombia</td>\n",
       "      <td>2008.0</td>\n",
       "      <td>58.343686</td>\n",
       "      <td>Colombia</td>\n",
       "      <td>2008.0</td>\n",
       "      <td>55.5</td>\n",
       "      <td>-2.843686</td>\n",
       "    </tr>\n",
       "    <tr>\n",
       "      <th>113</th>\n",
       "      <td>43</td>\n",
       "      <td>Honduras</td>\n",
       "      <td>2008.0</td>\n",
       "      <td>61.551164</td>\n",
       "      <td>Honduras</td>\n",
       "      <td>2008.0</td>\n",
       "      <td>55.5</td>\n",
       "      <td>-6.051164</td>\n",
       "    </tr>\n",
       "    <tr>\n",
       "      <th>114</th>\n",
       "      <td>95</td>\n",
       "      <td>South Africa</td>\n",
       "      <td>2008.0</td>\n",
       "      <td>68.294901</td>\n",
       "      <td>South Africa</td>\n",
       "      <td>2008.0</td>\n",
       "      <td>63.0</td>\n",
       "      <td>-5.294901</td>\n",
       "    </tr>\n",
       "  </tbody>\n",
       "</table>\n",
       "</div>"
      ],
      "text/plain": [
       "     index                      name  year_survey   new_gini  \\\n",
       "110     17  Central African Republic       2008.0  57.597241   \n",
       "111     41                 Guatemala       2011.0  58.246806   \n",
       "112     20                  Colombia       2008.0  58.343686   \n",
       "113     43                  Honduras       2008.0  61.551164   \n",
       "114     95              South Africa       2008.0  68.294901   \n",
       "\n",
       "                 Country Name    year  value      diff  \n",
       "110  Central African Republic  2008.0   56.2 -1.397241  \n",
       "111                 Guatemala  2011.0    NaN       NaN  \n",
       "112                  Colombia  2008.0   55.5 -2.843686  \n",
       "113                  Honduras  2008.0   55.5 -6.051164  \n",
       "114              South Africa  2008.0   63.0 -5.294901  "
      ]
     },
     "execution_count": 42,
     "metadata": {},
     "output_type": "execute_result"
    }
   ],
   "source": [
    "# Get the 5 countries with the highest Gini index in 2011\n",
    "tmp.tail(5)"
   ]
  },
  {
   "cell_type": "markdown",
   "metadata": {},
   "source": [
    "Still based on the same source, the countries with the highest Gini coefficients are:\n",
    "\n",
    "    Lesotho (0.632)\n",
    "    South Africa (0.625)\n",
    "    Haiti (0.608)\n",
    "    Botswana (0.605)\n",
    "    Namibia (0.597)\n",
    "    Zambia (0.575)\n",
    "    Comoros (0.559)\n",
    "    Hong Kong (0.539)\n",
    "    Guatemala (0.530)\n",
    "    Paraguay (0.517)\n",
    "\n",
    "We can see some of them in the top 5 countries from our dataset.    "
   ]
  },
  {
   "cell_type": "markdown",
   "metadata": {},
   "source": [
    "<b> Overall </b>\n",
    "- The 5 countries with the highest gini index so the highest inequalities in terms of income are countries located in Central or South America and Africa.\n",
    "- The 5 countries with the lowest gini index so the lowest inequalities in terms of incomes are countries located in Northern and Eastern Europe."
   ]
  },
  {
   "cell_type": "code",
   "execution_count": 43,
   "metadata": {},
   "outputs": [
    {
     "data": {
      "text/html": [
       "<div>\n",
       "<style scoped>\n",
       "    .dataframe tbody tr th:only-of-type {\n",
       "        vertical-align: middle;\n",
       "    }\n",
       "\n",
       "    .dataframe tbody tr th {\n",
       "        vertical-align: top;\n",
       "    }\n",
       "\n",
       "    .dataframe thead th {\n",
       "        text-align: right;\n",
       "    }\n",
       "</style>\n",
       "<table border=\"1\" class=\"dataframe\">\n",
       "  <thead>\n",
       "    <tr style=\"text-align: right;\">\n",
       "      <th></th>\n",
       "      <th>index</th>\n",
       "      <th>name</th>\n",
       "      <th>year_survey</th>\n",
       "      <th>new_gini</th>\n",
       "      <th>Country Name</th>\n",
       "      <th>year</th>\n",
       "      <th>value</th>\n",
       "      <th>diff</th>\n",
       "    </tr>\n",
       "  </thead>\n",
       "  <tbody>\n",
       "    <tr>\n",
       "      <th>38</th>\n",
       "      <td>36</td>\n",
       "      <td>France</td>\n",
       "      <td>2008.0</td>\n",
       "      <td>34.563984</td>\n",
       "      <td>France</td>\n",
       "      <td>2008.0</td>\n",
       "      <td>33.0</td>\n",
       "      <td>-1.563984</td>\n",
       "    </tr>\n",
       "  </tbody>\n",
       "</table>\n",
       "</div>"
      ],
      "text/plain": [
       "    index    name  year_survey   new_gini Country Name    year  value  \\\n",
       "38     36  France       2008.0  34.563984       France  2008.0   33.0   \n",
       "\n",
       "        diff  \n",
       "38 -1.563984  "
      ]
     },
     "execution_count": 43,
     "metadata": {},
     "output_type": "execute_result"
    }
   ],
   "source": [
    "# Ranking of France\n",
    "tmp[tmp['Country Name'] == 'France']"
   ]
  },
  {
   "cell_type": "markdown",
   "metadata": {},
   "source": [
    "France rank at the 38th position in terms of inequalities of income of a total of 115 countries. It is just above the global mean calculated at 39.55. "
   ]
  },
  {
   "cell_type": "code",
   "execution_count": 44,
   "metadata": {},
   "outputs": [],
   "source": [
    "# Save dataframe\n",
    "df2.to_csv(Path.cwd()/'worldbank.csv')\n",
    "new_gini.to_csv(Path.cwd()/'newgini.csv')"
   ]
  }
 ],
 "metadata": {
  "kernelspec": {
   "display_name": "Python 3",
   "language": "python",
   "name": "python3"
  },
  "language_info": {
   "codemirror_mode": {
    "name": "ipython",
    "version": 3
   },
   "file_extension": ".py",
   "mimetype": "text/x-python",
   "name": "python",
   "nbconvert_exporter": "python",
   "pygments_lexer": "ipython3",
   "version": "3.8.5"
  }
 },
 "nbformat": 4,
 "nbformat_minor": 4
}
