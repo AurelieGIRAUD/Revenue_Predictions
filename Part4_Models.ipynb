{
 "cells": [
  {
   "cell_type": "markdown",
   "metadata": {},
   "source": [
    "# Project 7 - Create a model to predict the revenues of potential customers using ANOVA and Linear Regression."
   ]
  },
  {
   "cell_type": "markdown",
   "metadata": {},
   "source": [
    "🎯 Goal: Create a model to predict the future revenue of children based on their location, the revenue of their parents and the gini index; in order to target future customers."
   ]
  },
  {
   "cell_type": "markdown",
   "metadata": {},
   "source": [
    "## Part 4 - Modeling"
   ]
  },
  {
   "cell_type": "markdown",
   "metadata": {},
   "source": [
    "Here are the hypothesis for the tests:\n",
    "- H0 – There is no significant difference among the groups. What we observe is the random noise due to the sampling effect.\n",
    "- H1 – There is a significant difference among the groups\n",
    "\n",
    "If the p-value is below 0.05, we reject the null hypothesis in favor of the alternative: this means that at least one group mean is significantly different."
   ]
  },
  {
   "cell_type": "markdown",
   "metadata": {},
   "source": [
    "### Get started"
   ]
  },
  {
   "cell_type": "code",
   "execution_count": 1,
   "metadata": {},
   "outputs": [],
   "source": [
    "import pandas as pd\n",
    "import numpy as np\n",
    "from pathlib import Path\n",
    "import matplotlib.pyplot as plt\n",
    "from matplotlib.cbook import boxplot_stats  \n",
    "import seaborn as sns\n",
    "from statsmodels.compat import lzip\n",
    "import statsmodels.api as sm\n",
    "from statsmodels.formula.api import ols\n",
    "import statsmodels.tsa.api as smt\n",
    "import statsmodels.stats.api as sms\n",
    "from statsmodels.stats.diagnostic import linear_harvey_collier\n",
    "from statsmodels.stats.diagnostic import het_breuschpagan\n",
    "from statsmodels.stats.outliers_influence import variance_inflation_factor\n",
    "from statsmodels.tools.tools import add_constant\n",
    "from sklearn import preprocessing\n",
    "import scipy.stats as st\n",
    "import statsmodels.stats.stattools as tool\n",
    "import random\n",
    "from statsmodels.graphics.gofplots import qqplot\n",
    "from matplotlib import pyplot\n",
    "import pingouin as pg\n",
    "from scipy.stats import chisquare\n",
    "\n",
    "%matplotlib inline\n",
    "plt.style.use('seaborn-whitegrid')"
   ]
  },
  {
   "cell_type": "code",
   "execution_count": 2,
   "metadata": {},
   "outputs": [],
   "source": [
    "# Function to extract only the features to evaluate the performances of the model\n",
    "def anova_table(aov):\n",
    "    aov['mean_sq'] = aov[:]['sum_sq']/aov[:]['df']\n",
    "\n",
    "    aov['eta_sq'] = aov[:-1]['sum_sq']/sum(aov['sum_sq'])\n",
    "\n",
    "    aov['omega_sq'] = (aov[:-1]['sum_sq']-(aov[:-1]['df']*aov['mean_sq'][-1]))/(sum(aov['sum_sq'])+aov['mean_sq'][-1])\n",
    "\n",
    "    cols = ['sum_sq', 'df', 'mean_sq', 'F', 'PR(>F)', 'eta_sq', 'omega_sq']\n",
    "    aov = aov[cols]\n",
    "    return aov"
   ]
  },
  {
   "cell_type": "code",
   "execution_count": 86,
   "metadata": {},
   "outputs": [],
   "source": [
    "# Identify the outliers for each features in both categories\n",
    "def remove_outliers(df):\n",
    "    Q1 = df.quantile(0.25)\n",
    "    Q3 = df.quantile(0.75)\n",
    "    IQR = Q3 - Q1\n",
    "    df_out = df[~(((df < (Q1 - 1.3 * IQR)) |(df > (Q3 + 1.3 * IQR))).any(axis=1))] # We reduce a bit the threshold to remove more outliers\n",
    "    \n",
    "    return df_out"
   ]
  },
  {
   "cell_type": "code",
   "execution_count": 167,
   "metadata": {},
   "outputs": [
    {
     "name": "stderr",
     "output_type": "stream",
     "text": [
      "/Users/aureliegiraud/.virtualenvs/env3.8/lib/python3.8/site-packages/numpy/lib/arraysetops.py:580: FutureWarning: elementwise comparison failed; returning scalar instead, but in the future will perform elementwise comparison\n",
      "  mask |= (ar1 == a)\n"
     ]
    }
   ],
   "source": [
    "# Read the data with parent's class and child revenues\n",
    "df = pd.read_csv(Path.cwd()/'Processed'/'final_dataset.csv',index_col=0)"
   ]
  },
  {
   "cell_type": "code",
   "execution_count": 168,
   "metadata": {},
   "outputs": [],
   "source": [
    "# Read data with Gini index and Average income by country\n",
    "inc_avg = pd.read_csv(Path.cwd()/'Processed'/'worldbank_avg.csv',index_col=0)"
   ]
  },
  {
   "cell_type": "code",
   "execution_count": 169,
   "metadata": {},
   "outputs": [
    {
     "data": {
      "text/html": [
       "<div>\n",
       "<style scoped>\n",
       "    .dataframe tbody tr th:only-of-type {\n",
       "        vertical-align: middle;\n",
       "    }\n",
       "\n",
       "    .dataframe tbody tr th {\n",
       "        vertical-align: top;\n",
       "    }\n",
       "\n",
       "    .dataframe thead th {\n",
       "        text-align: right;\n",
       "    }\n",
       "</style>\n",
       "<table border=\"1\" class=\"dataframe\">\n",
       "  <thead>\n",
       "    <tr style=\"text-align: right;\">\n",
       "      <th></th>\n",
       "      <th>name</th>\n",
       "      <th>c_i_parent</th>\n",
       "      <th>income</th>\n",
       "      <th>new_gini</th>\n",
       "      <th>avg_income</th>\n",
       "    </tr>\n",
       "  </thead>\n",
       "  <tbody>\n",
       "    <tr>\n",
       "      <th>0</th>\n",
       "      <td>Albania</td>\n",
       "      <td>1</td>\n",
       "      <td>728.89795</td>\n",
       "      <td>32.141019</td>\n",
       "      <td>2994.829902</td>\n",
       "    </tr>\n",
       "    <tr>\n",
       "      <th>1</th>\n",
       "      <td>Albania</td>\n",
       "      <td>1</td>\n",
       "      <td>728.89795</td>\n",
       "      <td>32.141019</td>\n",
       "      <td>2994.829902</td>\n",
       "    </tr>\n",
       "    <tr>\n",
       "      <th>2</th>\n",
       "      <td>Albania</td>\n",
       "      <td>1</td>\n",
       "      <td>728.89795</td>\n",
       "      <td>32.141019</td>\n",
       "      <td>2994.829902</td>\n",
       "    </tr>\n",
       "    <tr>\n",
       "      <th>3</th>\n",
       "      <td>Albania</td>\n",
       "      <td>1</td>\n",
       "      <td>728.89795</td>\n",
       "      <td>32.141019</td>\n",
       "      <td>2994.829902</td>\n",
       "    </tr>\n",
       "    <tr>\n",
       "      <th>4</th>\n",
       "      <td>Albania</td>\n",
       "      <td>1</td>\n",
       "      <td>728.89795</td>\n",
       "      <td>32.141019</td>\n",
       "      <td>2994.829902</td>\n",
       "    </tr>\n",
       "  </tbody>\n",
       "</table>\n",
       "</div>"
      ],
      "text/plain": [
       "      name  c_i_parent     income   new_gini   avg_income\n",
       "0  Albania           1  728.89795  32.141019  2994.829902\n",
       "1  Albania           1  728.89795  32.141019  2994.829902\n",
       "2  Albania           1  728.89795  32.141019  2994.829902\n",
       "3  Albania           1  728.89795  32.141019  2994.829902\n",
       "4  Albania           1  728.89795  32.141019  2994.829902"
      ]
     },
     "execution_count": 169,
     "metadata": {},
     "output_type": "execute_result"
    }
   ],
   "source": [
    "# Compile all together\n",
    "df = pd.merge(df, inc_avg[['name','new_gini','income']], on = 'name', how = 'inner')\n",
    "df.rename(columns= {'income_x':'income','income_y':'avg_income'},inplace=True)\n",
    "df.head()"
   ]
  },
  {
   "cell_type": "code",
   "execution_count": 170,
   "metadata": {},
   "outputs": [
    {
     "data": {
      "text/html": [
       "<div>\n",
       "<style scoped>\n",
       "    .dataframe tbody tr th:only-of-type {\n",
       "        vertical-align: middle;\n",
       "    }\n",
       "\n",
       "    .dataframe tbody tr th {\n",
       "        vertical-align: top;\n",
       "    }\n",
       "\n",
       "    .dataframe thead th {\n",
       "        text-align: right;\n",
       "    }\n",
       "</style>\n",
       "<table border=\"1\" class=\"dataframe\">\n",
       "  <thead>\n",
       "    <tr style=\"text-align: right;\">\n",
       "      <th></th>\n",
       "      <th>name</th>\n",
       "      <th>c_i_parent</th>\n",
       "      <th>income</th>\n",
       "      <th>new_gini</th>\n",
       "      <th>avg_income</th>\n",
       "      <th>log_income</th>\n",
       "    </tr>\n",
       "  </thead>\n",
       "  <tbody>\n",
       "    <tr>\n",
       "      <th>0</th>\n",
       "      <td>Albania</td>\n",
       "      <td>1</td>\n",
       "      <td>728.89795</td>\n",
       "      <td>32.141019</td>\n",
       "      <td>2994.829902</td>\n",
       "      <td>9.509573</td>\n",
       "    </tr>\n",
       "    <tr>\n",
       "      <th>1</th>\n",
       "      <td>Albania</td>\n",
       "      <td>1</td>\n",
       "      <td>728.89795</td>\n",
       "      <td>32.141019</td>\n",
       "      <td>2994.829902</td>\n",
       "      <td>9.509573</td>\n",
       "    </tr>\n",
       "    <tr>\n",
       "      <th>2</th>\n",
       "      <td>Albania</td>\n",
       "      <td>1</td>\n",
       "      <td>728.89795</td>\n",
       "      <td>32.141019</td>\n",
       "      <td>2994.829902</td>\n",
       "      <td>9.509573</td>\n",
       "    </tr>\n",
       "    <tr>\n",
       "      <th>3</th>\n",
       "      <td>Albania</td>\n",
       "      <td>1</td>\n",
       "      <td>728.89795</td>\n",
       "      <td>32.141019</td>\n",
       "      <td>2994.829902</td>\n",
       "      <td>9.509573</td>\n",
       "    </tr>\n",
       "    <tr>\n",
       "      <th>4</th>\n",
       "      <td>Albania</td>\n",
       "      <td>1</td>\n",
       "      <td>728.89795</td>\n",
       "      <td>32.141019</td>\n",
       "      <td>2994.829902</td>\n",
       "      <td>9.509573</td>\n",
       "    </tr>\n",
       "  </tbody>\n",
       "</table>\n",
       "</div>"
      ],
      "text/plain": [
       "      name  c_i_parent     income   new_gini   avg_income  log_income\n",
       "0  Albania           1  728.89795  32.141019  2994.829902    9.509573\n",
       "1  Albania           1  728.89795  32.141019  2994.829902    9.509573\n",
       "2  Albania           1  728.89795  32.141019  2994.829902    9.509573\n",
       "3  Albania           1  728.89795  32.141019  2994.829902    9.509573\n",
       "4  Albania           1  728.89795  32.141019  2994.829902    9.509573"
      ]
     },
     "execution_count": 170,
     "metadata": {},
     "output_type": "execute_result"
    }
   ],
   "source": [
    "# Apply Log Transformation\n",
    "df['log_income'] = np.log2(df['income'])\n",
    "df.head()"
   ]
  },
  {
   "cell_type": "markdown",
   "metadata": {},
   "source": [
    "### ANOVA"
   ]
  },
  {
   "cell_type": "markdown",
   "metadata": {},
   "source": [
    "In this notebook, ANOVA is applied to verify the effect of a qualitative variable (country's name) on a quantitative variable (income)."
   ]
  },
  {
   "cell_type": "markdown",
   "metadata": {},
   "source": [
    "#### Country ~ Income "
   ]
  },
  {
   "cell_type": "code",
   "execution_count": 6,
   "metadata": {},
   "outputs": [
    {
     "name": "stderr",
     "output_type": "stream",
     "text": [
      "/Users/aureliegiraud/.virtualenvs/env3.8/lib/python3.8/site-packages/seaborn/distributions.py:2557: FutureWarning: `distplot` is a deprecated function and will be removed in a future version. Please adapt your code to use either `displot` (a figure-level function with similar flexibility) or `histplot` (an axes-level function for histograms).\n",
      "  warnings.warn(msg, FutureWarning)\n"
     ]
    },
    {
     "data": {
      "text/plain": [
       "<AxesSubplot:xlabel='income', ylabel='Density'>"
      ]
     },
     "execution_count": 6,
     "metadata": {},
     "output_type": "execute_result"
    },
    {
     "data": {
      "image/png": "[encoded data removed]",
      "text/plain": [
       "<Figure size 432x288 with 1 Axes>"
      ]
     },
     "metadata": {},
     "output_type": "display_data"
    }
   ],
   "source": [
    "# Quick view on the distribution of income\n",
    "sns.distplot(df.income)"
   ]
  },
  {
   "cell_type": "code",
   "execution_count": 7,
   "metadata": {},
   "outputs": [
    {
     "name": "stderr",
     "output_type": "stream",
     "text": [
      "/Users/aureliegiraud/.virtualenvs/env3.8/lib/python3.8/site-packages/seaborn/distributions.py:2557: FutureWarning: `distplot` is a deprecated function and will be removed in a future version. Please adapt your code to use either `displot` (a figure-level function with similar flexibility) or `histplot` (an axes-level function for histograms).\n",
      "  warnings.warn(msg, FutureWarning)\n"
     ]
    },
    {
     "data": {
      "text/plain": [
       "<AxesSubplot:xlabel='income', ylabel='Density'>"
      ]
     },
     "execution_count": 7,
     "metadata": {},
     "output_type": "execute_result"
    },
    {
     "data": {
      "image/png": "[encoded data removed]",
      "text/plain": [
       "<Figure size 432x288 with 1 Axes>"
      ]
     },
     "metadata": {},
     "output_type": "display_data"
    }
   ],
   "source": [
    "# Example with France\n",
    "tmp = df[df.name == 'France']\n",
    "sns.distplot(tmp.income)"
   ]
  },
  {
   "cell_type": "markdown",
   "metadata": {},
   "source": [
    "<b> As expected, the distribution of income is skew to the right - meaning that there are some very high incomes. </b> Because of this profile, which is not really following a Gaussian-like distribution, we can expect the model, to not perform very well."
   ]
  },
  {
   "cell_type": "code",
   "execution_count": 8,
   "metadata": {},
   "outputs": [
    {
     "data": {
      "text/html": [
       "<div>\n",
       "<style scoped>\n",
       "    .dataframe tbody tr th:only-of-type {\n",
       "        vertical-align: middle;\n",
       "    }\n",
       "\n",
       "    .dataframe tbody tr th {\n",
       "        vertical-align: top;\n",
       "    }\n",
       "\n",
       "    .dataframe thead th {\n",
       "        text-align: right;\n",
       "    }\n",
       "</style>\n",
       "<table border=\"1\" class=\"dataframe\">\n",
       "  <thead>\n",
       "    <tr style=\"text-align: right;\">\n",
       "      <th></th>\n",
       "      <th>sum_sq</th>\n",
       "      <th>df</th>\n",
       "      <th>mean_sq</th>\n",
       "      <th>F</th>\n",
       "      <th>PR(&gt;F)</th>\n",
       "      <th>eta_sq</th>\n",
       "      <th>omega_sq</th>\n",
       "    </tr>\n",
       "  </thead>\n",
       "  <tbody>\n",
       "    <tr>\n",
       "      <th>C(name)</th>\n",
       "      <td>1.167181e+14</td>\n",
       "      <td>50.0</td>\n",
       "      <td>2.334362e+12</td>\n",
       "      <td>42349.629417</td>\n",
       "      <td>0.0</td>\n",
       "      <td>0.466162</td>\n",
       "      <td>0.46615</td>\n",
       "    </tr>\n",
       "    <tr>\n",
       "      <th>Residual</th>\n",
       "      <td>1.336631e+14</td>\n",
       "      <td>2424895.0</td>\n",
       "      <td>5.512119e+07</td>\n",
       "      <td>NaN</td>\n",
       "      <td>NaN</td>\n",
       "      <td>NaN</td>\n",
       "      <td>NaN</td>\n",
       "    </tr>\n",
       "  </tbody>\n",
       "</table>\n",
       "</div>"
      ],
      "text/plain": [
       "                sum_sq         df       mean_sq             F  PR(>F)  \\\n",
       "C(name)   1.167181e+14       50.0  2.334362e+12  42349.629417     0.0   \n",
       "Residual  1.336631e+14  2424895.0  5.512119e+07           NaN     NaN   \n",
       "\n",
       "            eta_sq  omega_sq  \n",
       "C(name)   0.466162   0.46615  \n",
       "Residual       NaN       NaN  "
      ]
     },
     "execution_count": 8,
     "metadata": {},
     "output_type": "execute_result"
    }
   ],
   "source": [
    "# ANOVA 1-way with income values\n",
    "model = ols('income ~ C(name)',data = df).fit()\n",
    "table = sm.stats.anova_lm(model,type=2)\n",
    "anova_table(table)"
   ]
  },
  {
   "cell_type": "markdown",
   "metadata": {},
   "source": [
    "<div class = 'alert alert-block alert-info'>\n",
    "<b> If we check the “basics” parameters, here is what we can see:</b>\n",
    "\n",
    "- Eta-squared is low, which might indicates that the model is not fitting well the data.\n",
    "- The model sum of square is slightly lower than the error sum of square, which means that a big part of the total variability of the observed data still remains unexplained.\n",
    "- The MSE is high in both cases - for the variable and for the residual, which indicates again that the model is not performing well to fit and predict the data.\n",
    "\n",
    "\n",
    "- p-value << alpha risk (5%), meaning that at least one group is different than the rest (so that the income depend on the country). \n",
    "    \n",
    "Let's try to improve the model by transforming the income with a log function. </div>"
   ]
  },
  {
   "cell_type": "markdown",
   "metadata": {},
   "source": [
    "#### Country ~ Log_income"
   ]
  },
  {
   "cell_type": "code",
   "execution_count": 10,
   "metadata": {},
   "outputs": [
    {
     "name": "stderr",
     "output_type": "stream",
     "text": [
      "/Users/aureliegiraud/.virtualenvs/env3.8/lib/python3.8/site-packages/seaborn/distributions.py:2557: FutureWarning: `distplot` is a deprecated function and will be removed in a future version. Please adapt your code to use either `displot` (a figure-level function with similar flexibility) or `histplot` (an axes-level function for histograms).\n",
      "  warnings.warn(msg, FutureWarning)\n"
     ]
    },
    {
     "data": {
      "image/png": "[encoded data removed]",
      "text/plain": [
       "<Figure size 432x288 with 1 Axes>"
      ]
     },
     "metadata": {},
     "output_type": "display_data"
    }
   ],
   "source": [
    "# Quick view on the distribution of log income\n",
    "sns.distplot(df.log_income)\n",
    "plt.savefig(Path.cwd()/'Plot'/'BoxPlot_LOGIncome_Countries.png')"
   ]
  },
  {
   "cell_type": "code",
   "execution_count": 11,
   "metadata": {},
   "outputs": [
    {
     "name": "stderr",
     "output_type": "stream",
     "text": [
      "/Users/aureliegiraud/.virtualenvs/env3.8/lib/python3.8/site-packages/seaborn/distributions.py:2557: FutureWarning: `distplot` is a deprecated function and will be removed in a future version. Please adapt your code to use either `displot` (a figure-level function with similar flexibility) or `histplot` (an axes-level function for histograms).\n",
      "  warnings.warn(msg, FutureWarning)\n"
     ]
    },
    {
     "data": {
      "text/plain": [
       "<AxesSubplot:xlabel='log_income', ylabel='Density'>"
      ]
     },
     "execution_count": 11,
     "metadata": {},
     "output_type": "execute_result"
    },
    {
     "data": {
      "image/png": "[encoded data removed]",
      "text/plain": [
       "<Figure size 432x288 with 1 Axes>"
      ]
     },
     "metadata": {},
     "output_type": "display_data"
    }
   ],
   "source": [
    "# Example with France\n",
    "tmp = df[df.name == 'France']\n",
    "sns.distplot(tmp.log_income)"
   ]
  },
  {
   "cell_type": "markdown",
   "metadata": {},
   "source": [
    "<b> Transforming the income with a log function, help to normalize the data points and have a more Gaussian-like shape. </b> We can expect the model, to perform a bit better with this transformed variable."
   ]
  },
  {
   "cell_type": "code",
   "execution_count": 12,
   "metadata": {},
   "outputs": [
    {
     "data": {
      "text/html": [
       "<div>\n",
       "<style scoped>\n",
       "    .dataframe tbody tr th:only-of-type {\n",
       "        vertical-align: middle;\n",
       "    }\n",
       "\n",
       "    .dataframe tbody tr th {\n",
       "        vertical-align: top;\n",
       "    }\n",
       "\n",
       "    .dataframe thead th {\n",
       "        text-align: right;\n",
       "    }\n",
       "</style>\n",
       "<table border=\"1\" class=\"dataframe\">\n",
       "  <thead>\n",
       "    <tr style=\"text-align: right;\">\n",
       "      <th></th>\n",
       "      <th>sum_sq</th>\n",
       "      <th>df</th>\n",
       "      <th>mean_sq</th>\n",
       "      <th>F</th>\n",
       "      <th>PR(&gt;F)</th>\n",
       "      <th>eta_sq</th>\n",
       "      <th>omega_sq</th>\n",
       "    </tr>\n",
       "  </thead>\n",
       "  <tbody>\n",
       "    <tr>\n",
       "      <th>C(name)</th>\n",
       "      <td>7.975793e+06</td>\n",
       "      <td>50.0</td>\n",
       "      <td>159515.854445</td>\n",
       "      <td>151384.799938</td>\n",
       "      <td>0.0</td>\n",
       "      <td>0.757368</td>\n",
       "      <td>0.757363</td>\n",
       "    </tr>\n",
       "    <tr>\n",
       "      <th>Residual</th>\n",
       "      <td>2.555139e+06</td>\n",
       "      <td>2424895.0</td>\n",
       "      <td>1.053711</td>\n",
       "      <td>NaN</td>\n",
       "      <td>NaN</td>\n",
       "      <td>NaN</td>\n",
       "      <td>NaN</td>\n",
       "    </tr>\n",
       "  </tbody>\n",
       "</table>\n",
       "</div>"
      ],
      "text/plain": [
       "                sum_sq         df        mean_sq              F  PR(>F)  \\\n",
       "C(name)   7.975793e+06       50.0  159515.854445  151384.799938     0.0   \n",
       "Residual  2.555139e+06  2424895.0       1.053711            NaN     NaN   \n",
       "\n",
       "            eta_sq  omega_sq  \n",
       "C(name)   0.757368  0.757363  \n",
       "Residual       NaN       NaN  "
      ]
     },
     "execution_count": 12,
     "metadata": {},
     "output_type": "execute_result"
    }
   ],
   "source": [
    "# ANOVA 1-way with log-income values\n",
    "model2 = ols('log_income ~ C(name)',data = df).fit()\n",
    "table2 = sm.stats.anova_lm(model2,type=2)\n",
    "anova_table(table2)"
   ]
  },
  {
   "cell_type": "markdown",
   "metadata": {},
   "source": [
    "<div class= 'alert alert-block alert-info' >\n",
    "<b> Using the log-income help to improve the model:</b>\n",
    "\n",
    "- Eta-squared is now around 0.76 which is better than for the model with the income. It is still relatively low (we generally aim for at least 90%), probably because there are others important variables to explain the variability of incomes.\n",
    "- The model sum of square is about 3 times higher than the error sum of square, which indicates that the country name is a pretty good parameter to explained and predict the income: \n",
    "    - Variability explained by the country equals = 7.975793e+06\n",
    "    - Variability explained by other factors not included in the model = 2.555139e+06\n",
    "- The MSE is high for the predictor (country name) but much lower than with the previous model. The MSE for the residual is around 1, which indicates again that the model is performing better than the previous model to fit and predict the data but could be improved.\n",
    "\n",
    "\n",
    "<b> p-value << alpha risk (5%), meaning that at least one group is different than the rest (so that the income depend on the country). </b>\n",
    "- The variability of income can be partly explained by the country we are observing, meaning that if we are observing the income from Angola or from Denmark, we can expect the income to be different. \n",
    "    </div>"
   ]
  },
  {
   "cell_type": "markdown",
   "metadata": {},
   "source": [
    "### ANOVA Assumptions"
   ]
  },
  {
   "cell_type": "markdown",
   "metadata": {},
   "source": [
    "There are certain assumptions we need to verify for the ANOVA:\n",
    "\n",
    "- <b> NORMALITY - The assumption of normality is tested on the residuals of the model.</b>\n",
    "    - Can be verified using histograms and Q-Q plot, or using statistical tests such as Shapiro-Wilk.\n",
    "    - With violations of normality, continuing with ANOVA is generally ok if you have a large sample size.\n",
    "    \n",
    "    \n",
    "- <b> HOMOGENEITY of variance: Homogeneity means that the variance among the groups should be approximately equal. </b>\n",
    "    - Can be tested using tests such as Levene’s test or the Brown-Forsythe Test.\n",
    "    - In general, with violations of homogeneity, the analysis is considered robust if you have equal-sized groups.\n",
    "\n",
    " \n",
    "- <b> INDEPENDENCE - The sample cases should be independent of each other.The observations are obtained independently and randomly from the population defined by the factor levels. </b>\n",
    "    - can be verified with ACF (autocorrelation function) plots and Durbin-Watson test.\n",
    "    - ANOVA is not robust to violations to the assumption of independence."
   ]
  },
  {
   "cell_type": "markdown",
   "metadata": {},
   "source": [
    "##### 1. Normality"
   ]
  },
  {
   "cell_type": "markdown",
   "metadata": {},
   "source": [
    "We start with the model based on income."
   ]
  },
  {
   "cell_type": "code",
   "execution_count": 13,
   "metadata": {},
   "outputs": [
    {
     "name": "stderr",
     "output_type": "stream",
     "text": [
      "/Users/aureliegiraud/.virtualenvs/env3.8/lib/python3.8/site-packages/seaborn/distributions.py:2557: FutureWarning: `distplot` is a deprecated function and will be removed in a future version. Please adapt your code to use either `displot` (a figure-level function with similar flexibility) or `histplot` (an axes-level function for histograms).\n",
      "  warnings.warn(msg, FutureWarning)\n"
     ]
    },
    {
     "data": {
      "text/plain": [
       "<AxesSubplot:ylabel='Density'>"
      ]
     },
     "execution_count": 13,
     "metadata": {},
     "output_type": "execute_result"
    },
    {
     "data": {
      "image/png": "[encoded data removed]",
      "text/plain": [
       "<Figure size 432x288 with 1 Axes>"
      ]
     },
     "metadata": {},
     "output_type": "display_data"
    }
   ],
   "source": [
    "# Plot distribution to visualize the normality\n",
    "sns.distplot(model.resid)"
   ]
  },
  {
   "cell_type": "code",
   "execution_count": 14,
   "metadata": {},
   "outputs": [
    {
     "data": {
      "image/png": "[encoded data removed]",
      "text/plain": [
       "<Figure size 432x288 with 1 Axes>"
      ]
     },
     "metadata": {},
     "output_type": "display_data"
    }
   ],
   "source": [
    "# Draw the Q-Q plot to visualize the adequation to the normality\n",
    "qqplot(model.resid, line='s')\n",
    "pyplot.show()"
   ]
  },
  {
   "cell_type": "code",
   "execution_count": 15,
   "metadata": {},
   "outputs": [
    {
     "data": {
      "text/plain": [
       "53.09520951601745"
      ]
     },
     "execution_count": 15,
     "metadata": {},
     "output_type": "execute_result"
    }
   ],
   "source": [
    "# Just check the kurtosis value\n",
    "st.kurtosis(model.resid)"
   ]
  },
  {
   "cell_type": "code",
   "execution_count": 16,
   "metadata": {},
   "outputs": [
    {
     "data": {
      "text/plain": [
       "5.356074098599249"
      ]
     },
     "execution_count": 16,
     "metadata": {},
     "output_type": "execute_result"
    }
   ],
   "source": [
    "# Just check the kurtosis value\n",
    "st.skew(model.resid)"
   ]
  },
  {
   "cell_type": "code",
   "execution_count": 203,
   "metadata": {},
   "outputs": [
    {
     "data": {
      "text/plain": [
       "Jarque_beraResult(statistic=296434633.28979135, pvalue=0.0)"
      ]
     },
     "execution_count": 203,
     "metadata": {},
     "output_type": "execute_result"
    }
   ],
   "source": [
    "# Run a Jarque-Bera test\n",
    "st.jarque_bera(model.resid)"
   ]
  },
  {
   "cell_type": "markdown",
   "metadata": {},
   "source": [
    "<b> The Jarque-Bera test verify whether the sample has the skewness and kurtosis matching with a normal distribution, i.e., skewness=0 and kurtosis =3. </b>\n",
    "With:\n",
    "- H0: The sample comes from a normal distribution.\n",
    "- H1: The sample is not coming from normal distribution.\n",
    "\n",
    "Here, with a pv-value << 5%, the null hypothesis is rejected --> the residuals are not following a Normal distribution."
   ]
  },
  {
   "cell_type": "markdown",
   "metadata": {},
   "source": [
    "<div class= 'alert alert-block alert-info' >\n",
    "<b> The distribution of the residuals for the model based on income is clearly not following a Normal Distribution. </b> The distribution is leptokurtic meaning that the kurtosis value is largely above 3. Excess kurtosis means the distribution of event outcomes have lots of instances of outlier results. We can see these outliers and/or extreme values on the QQ-plot causing a fat right tail (so corresponding to very high incomes). In addition, the skew value is largely above zero (e.g. which is the target value for a Normal Distribution) meaning that we have we have high incomes causing a right fat tail. This is expected considering the data we are working with. </div>"
   ]
  },
  {
   "cell_type": "markdown",
   "metadata": {},
   "source": [
    "Then we check for the model based on log-income."
   ]
  },
  {
   "cell_type": "code",
   "execution_count": 17,
   "metadata": {},
   "outputs": [
    {
     "name": "stderr",
     "output_type": "stream",
     "text": [
      "/Users/aureliegiraud/.virtualenvs/env3.8/lib/python3.8/site-packages/seaborn/distributions.py:2557: FutureWarning: `distplot` is a deprecated function and will be removed in a future version. Please adapt your code to use either `displot` (a figure-level function with similar flexibility) or `histplot` (an axes-level function for histograms).\n",
      "  warnings.warn(msg, FutureWarning)\n"
     ]
    },
    {
     "data": {
      "text/plain": [
       "<AxesSubplot:ylabel='Density'>"
      ]
     },
     "execution_count": 17,
     "metadata": {},
     "output_type": "execute_result"
    },
    {
     "data": {
      "image/png": "[encoded data removed]",
      "text/plain": [
       "<Figure size 432x288 with 1 Axes>"
      ]
     },
     "metadata": {},
     "output_type": "display_data"
    }
   ],
   "source": [
    "# Plot distribution to visualize the normality\n",
    "sns.distplot(model2.resid)"
   ]
  },
  {
   "cell_type": "code",
   "execution_count": 18,
   "metadata": {},
   "outputs": [
    {
     "data": {
      "image/png": "[encoded data removed]",
      "text/plain": [
       "<Figure size 432x288 with 1 Axes>"
      ]
     },
     "metadata": {},
     "output_type": "display_data"
    }
   ],
   "source": [
    "# Draw the Q-Q plot to visualize the adequation to the normality\n",
    "qqplot(model2.resid, line='s')\n",
    "pyplot.show()"
   ]
  },
  {
   "cell_type": "code",
   "execution_count": 19,
   "metadata": {},
   "outputs": [
    {
     "data": {
      "text/plain": [
       "2.616544089626734"
      ]
     },
     "execution_count": 19,
     "metadata": {},
     "output_type": "execute_result"
    }
   ],
   "source": [
    "# Just check the kurtosis value\n",
    "st.kurtosis(model2.resid)"
   ]
  },
  {
   "cell_type": "code",
   "execution_count": 20,
   "metadata": {},
   "outputs": [
    {
     "data": {
      "text/plain": [
       "-0.011398371085222453"
      ]
     },
     "execution_count": 20,
     "metadata": {},
     "output_type": "execute_result"
    }
   ],
   "source": [
    "# Just check the kurtosis value\n",
    "st.skew(model2.resid)"
   ]
  },
  {
   "cell_type": "code",
   "execution_count": 204,
   "metadata": {},
   "outputs": [
    {
     "data": {
      "text/plain": [
       "Jarque_beraResult(statistic=691798.9680325215, pvalue=0.0)"
      ]
     },
     "execution_count": 204,
     "metadata": {},
     "output_type": "execute_result"
    }
   ],
   "source": [
    "# Run a Jarque-Bera test\n",
    "st.jarque_bera(model2.resid)"
   ]
  },
  {
   "cell_type": "markdown",
   "metadata": {},
   "source": [
    "<b> Despite having coefficients very close to the reference values, the JB test indicates a non-normality of the residuals. </b> We can also notice (in addition of a p-value << 5%) that the test statistic is far from zero, indicating that the data do not have a normal distribution. "
   ]
  },
  {
   "cell_type": "markdown",
   "metadata": {},
   "source": [
    "<div class= 'alert alert-block alert-success' >\n",
    "<b> The distribution is relatively close to a normal distribution but has some fat tails to the right and left and is slightly in S shape. </b> For normally distributed data, the kurtosis should be equal to 3, here we are just a bit below. The skew value is also very close to zero (e.g. Normal value) so very close to the Normal distribution. We can not conclude on the Normality based on these plots and metrics, but we can notice that transforming the income with a log function help to be closer to a Normal distribution. </div>"
   ]
  },
  {
   "cell_type": "markdown",
   "metadata": {},
   "source": [
    "<b> Because we have a sample size > 5000, shapiro test is actually not ideal </b> (For N > 5000 the W test statistic is accurate but the p-value may not be). We can use the Anderson and Darling test or the non-parametric test Kolmogoriv and Smirnov.\n",
    "\n",
    "<b> Anderson & Darling Hypothesis: </b>\n",
    "- H0 = The sample is drawn from a population that follows a particular distribution, here the Normal distribution. \n",
    "- H1 = The sample is NOT drawn from a population that follows the Normal distribution.\n",
    "\n",
    "If the returned statistic is larger than these critical values then for the corresponding significance level, the null hypothesis that the data come from the chosen distribution can be rejected. "
   ]
  },
  {
   "cell_type": "code",
   "execution_count": 21,
   "metadata": {},
   "outputs": [
    {
     "data": {
      "text/plain": [
       "AndersonResult(statistic=10248.77901675459, critical_values=array([0.576, 0.656, 0.787, 0.918, 1.092]), significance_level=array([15. , 10. ,  5. ,  2.5,  1. ]))"
      ]
     },
     "execution_count": 21,
     "metadata": {},
     "output_type": "execute_result"
    }
   ],
   "source": [
    "st.anderson(model2.resid,dist='norm')"
   ]
  },
  {
   "cell_type": "markdown",
   "metadata": {},
   "source": [
    "<b> Here the statistic value is largely above any of the critical values, meaning that we are in the zone where H0 can be rejected. The residuals are not following a Normal distribution. </b> The Anderson-Darling test is a modification of the Kolmogorov-Smirnov (K-S) test and gives more weight to the tails than does the K-S test. Here we have some fatty tails, so perhaps the test does not verify the Normality because of them. Let's try to apply the KS test.  "
   ]
  },
  {
   "cell_type": "markdown",
   "metadata": {},
   "source": [
    "<b> Kolmogorov & Smirnov test: </b>\n",
    "- H0 = The one-sample test performs a test of the distribution F(x) of an observed random variable against a given distribution G(x). Under the null hypothesis, the two distributions are identical, F(x)=G(x) with G(x) Normal Distribution.\n",
    "- H1 = Under the alternative hypothesis, the two distributions are not identical."
   ]
  },
  {
   "cell_type": "code",
   "execution_count": 22,
   "metadata": {},
   "outputs": [
    {
     "data": {
      "text/plain": [
       "KstestResult(statistic=0.0335421489967489, pvalue=0.0)"
      ]
     },
     "execution_count": 22,
     "metadata": {},
     "output_type": "execute_result"
    }
   ],
   "source": [
    "st.kstest(model2.resid, 'norm')"
   ]
  },
  {
   "cell_type": "markdown",
   "metadata": {},
   "source": [
    "<b> Here the p-value is < 5% which means that we can not accept H0. Again the residuals are not following a Normal distribution. </b>"
   ]
  },
  {
   "cell_type": "markdown",
   "metadata": {},
   "source": [
    "<div class= 'alert alert-block alert-info'> The QQ-plot and the statisticals tests are not showing that the residuals are following a Normal Distribution. We can see in the boxplot below that a lot of countries have outliers values. These data points might contribute to the non-normal distribution. Let's see if we can improve the model AND be in the conditions of applications by removing the outliers. </div>"
   ]
  },
  {
   "cell_type": "code",
   "execution_count": 23,
   "metadata": {},
   "outputs": [
    {
     "data": {
      "image/png": "[encoded data removed]",
      "text/plain": [
       "<Figure size 1440x720 with 1 Axes>"
      ]
     },
     "metadata": {},
     "output_type": "display_data"
    }
   ],
   "source": [
    "# Visualize the relationships between the 2 variables\n",
    "tmp = df[['name','log_income']]\n",
    "tmp.boxplot(by='name',figsize=(20,10))\n",
    "plt.xticks(rotation=90)\n",
    "plt.savefig(Path.cwd()/'Plot'/'BoxPlot_LOGIncome_Countries.png')\n",
    "plt.show()"
   ]
  },
  {
   "cell_type": "markdown",
   "metadata": {},
   "source": [
    "<b> We can see that depending on the country, the distribution of income can be really different. And also, that for some groups of countries, the distribution is very alike. </b> "
   ]
  },
  {
   "cell_type": "code",
   "execution_count": 25,
   "metadata": {},
   "outputs": [],
   "source": [
    "# Remove outliers at country level\n",
    "tmp = df[['name','log_income']]\n",
    "df_out = tmp.groupby('name').apply(remove_outliers).reset_index(drop=True)"
   ]
  },
  {
   "cell_type": "code",
   "execution_count": 26,
   "metadata": {},
   "outputs": [
    {
     "data": {
      "image/png": "[encoded data removed]",
      "text/plain": [
       "<Figure size 1440x720 with 1 Axes>"
      ]
     },
     "metadata": {},
     "output_type": "display_data"
    }
   ],
   "source": [
    "# Visualize the impact of the function\n",
    "df_out.boxplot(by='name',figsize=(20,10))\n",
    "plt.xticks(rotation=90)\n",
    "plt.show()"
   ]
  },
  {
   "cell_type": "code",
   "execution_count": 27,
   "metadata": {},
   "outputs": [
    {
     "data": {
      "text/html": [
       "<div>\n",
       "<style scoped>\n",
       "    .dataframe tbody tr th:only-of-type {\n",
       "        vertical-align: middle;\n",
       "    }\n",
       "\n",
       "    .dataframe tbody tr th {\n",
       "        vertical-align: top;\n",
       "    }\n",
       "\n",
       "    .dataframe thead th {\n",
       "        text-align: right;\n",
       "    }\n",
       "</style>\n",
       "<table border=\"1\" class=\"dataframe\">\n",
       "  <thead>\n",
       "    <tr style=\"text-align: right;\">\n",
       "      <th></th>\n",
       "      <th>sum_sq</th>\n",
       "      <th>df</th>\n",
       "      <th>mean_sq</th>\n",
       "      <th>F</th>\n",
       "      <th>PR(&gt;F)</th>\n",
       "      <th>eta_sq</th>\n",
       "      <th>omega_sq</th>\n",
       "    </tr>\n",
       "  </thead>\n",
       "  <tbody>\n",
       "    <tr>\n",
       "      <th>C(name)</th>\n",
       "      <td>7.892081e+06</td>\n",
       "      <td>50.0</td>\n",
       "      <td>157841.613194</td>\n",
       "      <td>194066.233412</td>\n",
       "      <td>0.0</td>\n",
       "      <td>0.804974</td>\n",
       "      <td>0.80497</td>\n",
       "    </tr>\n",
       "    <tr>\n",
       "      <th>Residual</th>\n",
       "      <td>1.912064e+06</td>\n",
       "      <td>2350882.0</td>\n",
       "      <td>0.813339</td>\n",
       "      <td>NaN</td>\n",
       "      <td>NaN</td>\n",
       "      <td>NaN</td>\n",
       "      <td>NaN</td>\n",
       "    </tr>\n",
       "  </tbody>\n",
       "</table>\n",
       "</div>"
      ],
      "text/plain": [
       "                sum_sq         df        mean_sq              F  PR(>F)  \\\n",
       "C(name)   7.892081e+06       50.0  157841.613194  194066.233412     0.0   \n",
       "Residual  1.912064e+06  2350882.0       0.813339            NaN     NaN   \n",
       "\n",
       "            eta_sq  omega_sq  \n",
       "C(name)   0.804974   0.80497  \n",
       "Residual       NaN       NaN  "
      ]
     },
     "execution_count": 27,
     "metadata": {},
     "output_type": "execute_result"
    }
   ],
   "source": [
    "# ANOVA 1-way with log-income values\n",
    "model2bis = ols('log_income ~ C(name)',data = df_out).fit()\n",
    "table2bis = sm.stats.anova_lm(model2bis,type=2)\n",
    "anova_table(table2bis)"
   ]
  },
  {
   "cell_type": "markdown",
   "metadata": {},
   "source": [
    "<b> Removing the outliers improve the model: the variance explained by the model is now about 80% vs 75% before removing the outliers. </b> Are we under the condition of Normality now?"
   ]
  },
  {
   "cell_type": "code",
   "execution_count": 28,
   "metadata": {},
   "outputs": [
    {
     "data": {
      "image/png": "[encoded data removed]",
      "text/plain": [
       "<Figure size 432x288 with 1 Axes>"
      ]
     },
     "metadata": {},
     "output_type": "display_data"
    }
   ],
   "source": [
    "# Draw the Q-Q plot to visualize the adequation to the normality\n",
    "qqplot(model2bis.resid, line='s')\n",
    "pyplot.show()"
   ]
  },
  {
   "cell_type": "markdown",
   "metadata": {},
   "source": [
    "<b> The QQ-plot is better after removing the outliers. </b> We still have left and right tails, which make sense as we will always have very low and very high incomes among our dataset."
   ]
  },
  {
   "cell_type": "code",
   "execution_count": 29,
   "metadata": {},
   "outputs": [
    {
     "data": {
      "text/plain": [
       "AndersonResult(statistic=2595.519926542416, critical_values=array([0.576, 0.656, 0.787, 0.918, 1.092]), significance_level=array([15. , 10. ,  5. ,  2.5,  1. ]))"
      ]
     },
     "execution_count": 29,
     "metadata": {},
     "output_type": "execute_result"
    }
   ],
   "source": [
    "# Can we see the Normality with the statistical test?\n",
    "st.anderson(model2bis.resid,dist='norm')"
   ]
  },
  {
   "cell_type": "markdown",
   "metadata": {},
   "source": [
    "<b> The statistic value is still largely higher than the critical values BUT it decreases drastically (about 5 times) by removing the outliers. </b> "
   ]
  },
  {
   "cell_type": "code",
   "execution_count": 30,
   "metadata": {},
   "outputs": [
    {
     "data": {
      "text/plain": [
       "KstestResult(statistic=0.04310841085363126, pvalue=0.0)"
      ]
     },
     "execution_count": 30,
     "metadata": {},
     "output_type": "execute_result"
    }
   ],
   "source": [
    "st.kstest(model2bis.resid, 'norm')"
   ]
  },
  {
   "cell_type": "markdown",
   "metadata": {},
   "source": [
    "<b> The p-value is still below 0.05, we reject the null hypothesis in favor of the alternative. </b>"
   ]
  },
  {
   "cell_type": "markdown",
   "metadata": {},
   "source": [
    "<div class= 'alert alert-block alert-info'>\n",
    "    \n",
    "Even after transforming with a log function AND removing the outliers, the residuals are not strictly following a Normal distribution but are very close to it. \n",
    "    \n",
    "<b> The one-way ANOVA is considered a robust test against the normality assumption. </b> This means that it tolerates violations to its normality assumption rather well. As regards the normality of group data, the one-way ANOVA can tolerate data that is non-normal (skewed or kurtotic distributions) with only a small effect on the Type I error rate (when the null hypothesis is true, but is rejected). \n",
    "However, platykurtosis (when the peak of the curve of frequency distribution is comparatively flatter than that of normal distribution) can have a profound effect when your group sizes are small. This leaves you with two options: (1) transform your data using various algorithms so that the shape of your distributions become normally distributed or (2) choose the nonparametric Kruskal-Wallis H Test which does not require the assumption of normality.\n",
    "\n",
    "    \n",
    "- source: \n",
    "    - https://statistics.laerd.com/statistical-guides/one-way-anova-statistical-guide-3.php\n",
    "    - http://www.psicothema.com/pdf/4434.pdf\n",
    "    \n",
    "    \n",
    "In a nutshell:     \n",
    "- We are not in a situation with a platykurtosis distribution.\n",
    "- The sample size is relatively big.\n",
    "- We can assume that the non normality is causing by the tails. Considering the type of data we have, it is expected to have these tails (we want to keep the information about the low and high incomes). \n",
    "    \n",
    "We might consider our model robust to the violation of this assumption. \n",
    "    </div>"
   ]
  },
  {
   "cell_type": "markdown",
   "metadata": {},
   "source": [
    "##### 2. Homogeneity"
   ]
  },
  {
   "cell_type": "markdown",
   "metadata": {},
   "source": [
    "The assumption of homogeneity of variance is an assumption of the independent samples t-test and ANOVA stating that all comparison groups have the same variance.  The independent samples t-test and ANOVA utilize the t and F statistics respectively, which are generally robust to violations of the assumption as long as group sizes are equal.  Equal group sizes may be defined by the ratio of the largest to smallest group being less than 1.5. \n",
    "\n",
    "- source: https://www.statisticssolutions.com/the-assumption-of-homogeneity-of-variance/\n",
    "\n",
    "\n",
    "One method for testing this assumption is the Levene's test of homogeneity of variances. If the data is not following a normal distribution Levene’s test is preferred over the Barlett’s test. \n",
    "\n",
    "Hypothesis for the Levene test:\n",
    "- H0: The variances are equal across all samples/groups\n",
    "- H1: The variances are not equal across all samples/groups\n",
    "\n",
    "If we look at the box-plot above, we can expect that the test will show a significant difference between the variance, in others words, that the homoscedasticity is not verified."
   ]
  },
  {
   "cell_type": "code",
   "execution_count": 31,
   "metadata": {},
   "outputs": [
    {
     "data": {
      "text/html": [
       "<div>\n",
       "<style scoped>\n",
       "    .dataframe tbody tr th:only-of-type {\n",
       "        vertical-align: middle;\n",
       "    }\n",
       "\n",
       "    .dataframe tbody tr th {\n",
       "        vertical-align: top;\n",
       "    }\n",
       "\n",
       "    .dataframe thead th {\n",
       "        text-align: right;\n",
       "    }\n",
       "</style>\n",
       "<table border=\"1\" class=\"dataframe\">\n",
       "  <thead>\n",
       "    <tr style=\"text-align: right;\">\n",
       "      <th></th>\n",
       "      <th>W</th>\n",
       "      <th>pval</th>\n",
       "      <th>equal_var</th>\n",
       "    </tr>\n",
       "  </thead>\n",
       "  <tbody>\n",
       "    <tr>\n",
       "      <th>levene</th>\n",
       "      <td>5713.564274</td>\n",
       "      <td>0.0</td>\n",
       "      <td>False</td>\n",
       "    </tr>\n",
       "  </tbody>\n",
       "</table>\n",
       "</div>"
      ],
      "text/plain": [
       "                  W  pval  equal_var\n",
       "levene  5713.564274   0.0      False"
      ]
     },
     "execution_count": 31,
     "metadata": {},
     "output_type": "execute_result"
    }
   ],
   "source": [
    "# Test homoscedasticity by comparing the group (= countries) with dependent variable = log_income\n",
    "pg.homoscedasticity(df, dv='log_income', group='name',method='levene')"
   ]
  },
  {
   "cell_type": "code",
   "execution_count": 32,
   "metadata": {},
   "outputs": [
    {
     "name": "stdout",
     "output_type": "stream",
     "text": [
      "min: 47468 max 47636 ratio 1.003539226426224\n"
     ]
    }
   ],
   "source": [
    "# Check the size of the 'groups'\n",
    "tmp = df.groupby('name').count()[['log_income']].reset_index()\n",
    "print('min:', tmp['log_income'].min(), 'max',tmp['log_income'].max(),'ratio',tmp['log_income'].max()/tmp['log_income'].min())"
   ]
  },
  {
   "cell_type": "markdown",
   "metadata": {},
   "source": [
    "<div class= 'alert alert-block alert-info'>\n",
    "<b> As expected, the condition of homogeneity of variances is not respected. </b>\n",
    "\n",
    "Numerous investigations have examined the effects of variance heterogeneity on the empirical probability of a Type I error for the analysis of variance (ANOVA) F-test and the prevailing conclusion has been that when sample sizes are equal, the ANOVA is robust to variance heterogeneity. However, we should not assumed that the ANOVA F-test is always robust to variance heterogeneity when sample sizes are equal.\n",
    "\n",
    "- source: https://doi.org/10.2307/1162346 \n",
    "American Educational Research Journal\n",
    "Vol. 14, No. 4 (Autumn, 1977), pp. 493-498 (6 pages)\n",
    "Published By: American Educational Research Association\n",
    "\n",
    "\n",
    "In this case study, we do not have strictly the same size for each groups however the differences are very small (<< 1,5 between the largest and the smallest group), so we might consider our model robust to the violation of this assumption. \n",
    "    \n",
    "<b> Alternatively, there are two tests that we could run that are applicable when the assumption of homogeneity of variances has been violated: (1) Welch or (2) Brown and Forsythe test. </b> </div>"
   ]
  },
  {
   "cell_type": "markdown",
   "metadata": {},
   "source": [
    "##### 3. Independence"
   ]
  },
  {
   "cell_type": "markdown",
   "metadata": {},
   "source": [
    "Independence of residual is commonly referred to as the total absence of autocorrelation. Even though uncorrelated data does not necessarily imply independence, one can check if random variables are independent if their mutual information tends to 0.\n",
    "\n",
    "We can use a Durbin and Watson test which calculates the Durbin-Watson statistic. The test will output values between 0 and 4. Here are how to interpret the results of the test:\n",
    "- The closer to 2, the more evidence for no autocorrelation.\n",
    "- The closer to 0 the statistic, the more evidence for positive serial correlation. \n",
    "- The closer to 4, the more evidence for negative serial correlation.\n",
    "\n",
    "<b> Here, we are using a dataset with duplicated rows, so we can expect this test to conclude of the non-independence of residuals. </b>"
   ]
  },
  {
   "cell_type": "code",
   "execution_count": 33,
   "metadata": {},
   "outputs": [
    {
     "data": {
      "text/plain": [
       "0.0015256523669808562"
      ]
     },
     "execution_count": 33,
     "metadata": {},
     "output_type": "execute_result"
    }
   ],
   "source": [
    "# Calculate Durbin and Watson statistic - model based on income\n",
    "tool.durbin_watson(model.resid, axis=0)"
   ]
  },
  {
   "cell_type": "code",
   "execution_count": 34,
   "metadata": {},
   "outputs": [
    {
     "data": {
      "text/plain": [
       "0.0008159952809301728"
      ]
     },
     "execution_count": 34,
     "metadata": {},
     "output_type": "execute_result"
    }
   ],
   "source": [
    "# Calculate Durbin and Watson statistic - model based on log-income\n",
    "tool.durbin_watson(model2.resid, axis=0)"
   ]
  },
  {
   "cell_type": "code",
   "execution_count": 35,
   "metadata": {},
   "outputs": [
    {
     "data": {
      "text/plain": [
       "0.0004796685172174014"
      ]
     },
     "execution_count": 35,
     "metadata": {},
     "output_type": "execute_result"
    }
   ],
   "source": [
    "# Calculate Durbin and Watson statistic - model based on income and without outliers\n",
    "tool.durbin_watson(model2bis.resid, axis=0)"
   ]
  },
  {
   "cell_type": "markdown",
   "metadata": {},
   "source": [
    "<b> The result suggest a positive autocorrelation in the residuals. </b> So the condition of independance is not verified."
   ]
  },
  {
   "cell_type": "markdown",
   "metadata": {},
   "source": [
    "<div class= 'alert alert-block alert-warning'>\n",
    "All in all, none of the conditions necessary for applying an ANOVA are verified here. So, even tough the model retrieved some relatively good performances we can not rely on it. \n",
    "    \n",
    "Let's try to build another model based on multiple linear regression.\n",
    "    </div>"
   ]
  },
  {
   "cell_type": "markdown",
   "metadata": {},
   "source": [
    "### Linear Model"
   ]
  },
  {
   "cell_type": "markdown",
   "metadata": {},
   "source": [
    "In order for our machine learning to work well, it is very often necessary for the data to have the same scale in terms of the Feature to avoid bias in the outcome. We will test the effect of scaling the data on the performances of the models."
   ]
  },
  {
   "cell_type": "code",
   "execution_count": 171,
   "metadata": {},
   "outputs": [],
   "source": [
    "# Standardized both independent and dependent variables\n",
    "df['gini_sc'] = preprocessing.scale(df['new_gini'])\n",
    "df['avginc_sc'] = preprocessing.scale(df['avg_income'])\n",
    "df['logavg_sc'] = preprocessing.scale(np.log2(df['avg_income']))\n",
    "df['class_sc'] = preprocessing.scale(df['c_i_parent'])\n",
    "df['inc_sc'] = preprocessing.scale(df['income'])\n",
    "df['loginc_sc'] = preprocessing.scale(df['log_income'])"
   ]
  },
  {
   "cell_type": "code",
   "execution_count": 123,
   "metadata": {},
   "outputs": [],
   "source": [
    "# Different modalities tested\n",
    "X1 = df[['new_gini','avg_income']]\n",
    "X2 = df[['gini_sc','avginc_sc']]\n",
    "X3 = df[['new_gini','avg_income','c_i_parent']]\n",
    "X4 = df[['gini_sc','avginc_sc','class_sc']]\n",
    "X5 = df[['gini_sc','logavg_sc','class_sc']]\n",
    "\n",
    "Y1 = df['income']\n",
    "Y2 = df['inc_sc']\n",
    "Y3 = df['log_income']\n",
    "Y4 = df['loginc_sc']"
   ]
  },
  {
   "cell_type": "markdown",
   "metadata": {},
   "source": [
    "#### Gini index & Average income (country) ~ Income"
   ]
  },
  {
   "cell_type": "code",
   "execution_count": 79,
   "metadata": {},
   "outputs": [
    {
     "data": {
      "text/html": [
       "<table class=\"simpletable\">\n",
       "<caption>OLS Regression Results</caption>\n",
       "<tr>\n",
       "  <th>Dep. Variable:</th>         <td>income</td>      <th>  R-squared:         </th>  <td>   0.466</td>  \n",
       "</tr>\n",
       "<tr>\n",
       "  <th>Model:</th>                   <td>OLS</td>       <th>  Adj. R-squared:    </th>  <td>   0.466</td>  \n",
       "</tr>\n",
       "<tr>\n",
       "  <th>Method:</th>             <td>Least Squares</td>  <th>  F-statistic:       </th>  <td>1.059e+06</td> \n",
       "</tr>\n",
       "<tr>\n",
       "  <th>Date:</th>             <td>Fri, 02 Apr 2021</td> <th>  Prob (F-statistic):</th>   <td>  0.00</td>   \n",
       "</tr>\n",
       "<tr>\n",
       "  <th>Time:</th>                 <td>13:15:53</td>     <th>  Log-Likelihood:    </th> <td>-2.5053e+07</td>\n",
       "</tr>\n",
       "<tr>\n",
       "  <th>No. Observations:</th>      <td>2424946</td>     <th>  AIC:               </th>  <td>5.011e+07</td> \n",
       "</tr>\n",
       "<tr>\n",
       "  <th>Df Residuals:</th>          <td>2424943</td>     <th>  BIC:               </th>  <td>5.011e+07</td> \n",
       "</tr>\n",
       "<tr>\n",
       "  <th>Df Model:</th>              <td>     2</td>      <th>                     </th>      <td> </td>     \n",
       "</tr>\n",
       "<tr>\n",
       "  <th>Covariance Type:</th>      <td>nonrobust</td>    <th>                     </th>      <td> </td>     \n",
       "</tr>\n",
       "</table>\n",
       "<table class=\"simpletable\">\n",
       "<tr>\n",
       "       <td></td>         <th>coef</th>     <th>std err</th>      <th>t</th>      <th>P>|t|</th>  <th>[0.025</th>    <th>0.975]</th>  \n",
       "</tr>\n",
       "<tr>\n",
       "  <th>const</th>      <td>  -18.2748</td> <td>   25.120</td> <td>   -0.727</td> <td> 0.467</td> <td>  -67.510</td> <td>   30.960</td>\n",
       "</tr>\n",
       "<tr>\n",
       "  <th>new_gini</th>   <td>    0.5020</td> <td>    0.548</td> <td>    0.916</td> <td> 0.360</td> <td>   -0.572</td> <td>    1.577</td>\n",
       "</tr>\n",
       "<tr>\n",
       "  <th>avg_income</th> <td>    1.0001</td> <td>    0.001</td> <td> 1289.061</td> <td> 0.000</td> <td>    0.999</td> <td>    1.002</td>\n",
       "</tr>\n",
       "</table>\n",
       "<table class=\"simpletable\">\n",
       "<tr>\n",
       "  <th>Omnibus:</th>       <td>2607390.809</td> <th>  Durbin-Watson:     </th>   <td>   0.002</td>   \n",
       "</tr>\n",
       "<tr>\n",
       "  <th>Prob(Omnibus):</th>   <td> 0.000</td>    <th>  Jarque-Bera (JB):  </th> <td>296453827.484</td>\n",
       "</tr>\n",
       "<tr>\n",
       "  <th>Skew:</th>            <td> 5.356</td>    <th>  Prob(JB):          </th>   <td>    0.00</td>   \n",
       "</tr>\n",
       "<tr>\n",
       "  <th>Kurtosis:</th>        <td>56.097</td>    <th>  Cond. No.          </th>   <td>5.49e+04</td>   \n",
       "</tr>\n",
       "</table><br/><br/>Warnings:<br/>[1] Standard Errors assume that the covariance matrix of the errors is correctly specified.<br/>[2] The condition number is large, 5.49e+04. This might indicate that there are<br/>strong multicollinearity or other numerical problems."
      ],
      "text/plain": [
       "<class 'statsmodels.iolib.summary.Summary'>\n",
       "\"\"\"\n",
       "                            OLS Regression Results                            \n",
       "==============================================================================\n",
       "Dep. Variable:                 income   R-squared:                       0.466\n",
       "Model:                            OLS   Adj. R-squared:                  0.466\n",
       "Method:                 Least Squares   F-statistic:                 1.059e+06\n",
       "Date:                Fri, 02 Apr 2021   Prob (F-statistic):               0.00\n",
       "Time:                        13:15:53   Log-Likelihood:            -2.5053e+07\n",
       "No. Observations:             2424946   AIC:                         5.011e+07\n",
       "Df Residuals:                 2424943   BIC:                         5.011e+07\n",
       "Df Model:                           2                                         \n",
       "Covariance Type:            nonrobust                                         \n",
       "==============================================================================\n",
       "                 coef    std err          t      P>|t|      [0.025      0.975]\n",
       "------------------------------------------------------------------------------\n",
       "const        -18.2748     25.120     -0.727      0.467     -67.510      30.960\n",
       "new_gini       0.5020      0.548      0.916      0.360      -0.572       1.577\n",
       "avg_income     1.0001      0.001   1289.061      0.000       0.999       1.002\n",
       "==============================================================================\n",
       "Omnibus:                  2607390.809   Durbin-Watson:                   0.002\n",
       "Prob(Omnibus):                  0.000   Jarque-Bera (JB):        296453827.484\n",
       "Skew:                           5.356   Prob(JB):                         0.00\n",
       "Kurtosis:                      56.097   Cond. No.                     5.49e+04\n",
       "==============================================================================\n",
       "\n",
       "Warnings:\n",
       "[1] Standard Errors assume that the covariance matrix of the errors is correctly specified.\n",
       "[2] The condition number is large, 5.49e+04. This might indicate that there are\n",
       "strong multicollinearity or other numerical problems.\n",
       "\"\"\""
      ]
     },
     "execution_count": 79,
     "metadata": {},
     "output_type": "execute_result"
    }
   ],
   "source": [
    "# With income and non-standardized data\n",
    "x = sm.add_constant(X1) # let's add an intercept (beta_0) to our model\n",
    "lin1 = sm.OLS(Y1, x).fit()\n",
    "lin1.summary()"
   ]
  },
  {
   "cell_type": "markdown",
   "metadata": {},
   "source": [
    "<b> We retrieve a warning about a risk of multi-collinearity. After investigation, I found that standardizing the data might help. </b>"
   ]
  },
  {
   "cell_type": "code",
   "execution_count": 80,
   "metadata": {},
   "outputs": [
    {
     "data": {
      "text/html": [
       "<table class=\"simpletable\">\n",
       "<caption>OLS Regression Results</caption>\n",
       "<tr>\n",
       "  <th>Dep. Variable:</th>         <td>inc_sc</td>      <th>  R-squared (uncentered):</th>       <td>   0.466</td>  \n",
       "</tr>\n",
       "<tr>\n",
       "  <th>Model:</th>                   <td>OLS</td>       <th>  Adj. R-squared (uncentered):</th>  <td>   0.466</td>  \n",
       "</tr>\n",
       "<tr>\n",
       "  <th>Method:</th>             <td>Least Squares</td>  <th>  F-statistic:       </th>           <td>1.059e+06</td> \n",
       "</tr>\n",
       "<tr>\n",
       "  <th>Date:</th>             <td>Fri, 02 Apr 2021</td> <th>  Prob (F-statistic):</th>            <td>  0.00</td>   \n",
       "</tr>\n",
       "<tr>\n",
       "  <th>Time:</th>                 <td>13:16:02</td>     <th>  Log-Likelihood:    </th>          <td>-2.6798e+06</td>\n",
       "</tr>\n",
       "<tr>\n",
       "  <th>No. Observations:</th>      <td>2424946</td>     <th>  AIC:               </th>           <td>5.360e+06</td> \n",
       "</tr>\n",
       "<tr>\n",
       "  <th>Df Residuals:</th>          <td>2424944</td>     <th>  BIC:               </th>           <td>5.360e+06</td> \n",
       "</tr>\n",
       "<tr>\n",
       "  <th>Df Model:</th>              <td>     2</td>      <th>                     </th>               <td> </td>     \n",
       "</tr>\n",
       "<tr>\n",
       "  <th>Covariance Type:</th>      <td>nonrobust</td>    <th>                     </th>               <td> </td>     \n",
       "</tr>\n",
       "</table>\n",
       "<table class=\"simpletable\">\n",
       "<tr>\n",
       "      <td></td>         <th>coef</th>     <th>std err</th>      <th>t</th>      <th>P>|t|</th>  <th>[0.025</th>    <th>0.975]</th>  \n",
       "</tr>\n",
       "<tr>\n",
       "  <th>gini_sc</th>   <td>    0.0005</td> <td>    0.001</td> <td>    0.916</td> <td> 0.360</td> <td>   -0.001</td> <td>    0.002</td>\n",
       "</tr>\n",
       "<tr>\n",
       "  <th>avginc_sc</th> <td>    0.6830</td> <td>    0.001</td> <td> 1289.061</td> <td> 0.000</td> <td>    0.682</td> <td>    0.684</td>\n",
       "</tr>\n",
       "</table>\n",
       "<table class=\"simpletable\">\n",
       "<tr>\n",
       "  <th>Omnibus:</th>       <td>2607390.809</td> <th>  Durbin-Watson:     </th>   <td>   0.002</td>   \n",
       "</tr>\n",
       "<tr>\n",
       "  <th>Prob(Omnibus):</th>   <td> 0.000</td>    <th>  Jarque-Bera (JB):  </th> <td>296453827.484</td>\n",
       "</tr>\n",
       "<tr>\n",
       "  <th>Skew:</th>            <td> 5.356</td>    <th>  Prob(JB):          </th>   <td>    0.00</td>   \n",
       "</tr>\n",
       "<tr>\n",
       "  <th>Kurtosis:</th>        <td>56.097</td>    <th>  Cond. No.          </th>   <td>    1.65</td>   \n",
       "</tr>\n",
       "</table><br/><br/>Warnings:<br/>[1] Standard Errors assume that the covariance matrix of the errors is correctly specified."
      ],
      "text/plain": [
       "<class 'statsmodels.iolib.summary.Summary'>\n",
       "\"\"\"\n",
       "                                 OLS Regression Results                                \n",
       "=======================================================================================\n",
       "Dep. Variable:                 inc_sc   R-squared (uncentered):                   0.466\n",
       "Model:                            OLS   Adj. R-squared (uncentered):              0.466\n",
       "Method:                 Least Squares   F-statistic:                          1.059e+06\n",
       "Date:                Fri, 02 Apr 2021   Prob (F-statistic):                        0.00\n",
       "Time:                        13:16:02   Log-Likelihood:                     -2.6798e+06\n",
       "No. Observations:             2424946   AIC:                                  5.360e+06\n",
       "Df Residuals:                 2424944   BIC:                                  5.360e+06\n",
       "Df Model:                           2                                                  \n",
       "Covariance Type:            nonrobust                                                  \n",
       "==============================================================================\n",
       "                 coef    std err          t      P>|t|      [0.025      0.975]\n",
       "------------------------------------------------------------------------------\n",
       "gini_sc        0.0005      0.001      0.916      0.360      -0.001       0.002\n",
       "avginc_sc      0.6830      0.001   1289.061      0.000       0.682       0.684\n",
       "==============================================================================\n",
       "Omnibus:                  2607390.809   Durbin-Watson:                   0.002\n",
       "Prob(Omnibus):                  0.000   Jarque-Bera (JB):        296453827.484\n",
       "Skew:                           5.356   Prob(JB):                         0.00\n",
       "Kurtosis:                      56.097   Cond. No.                         1.65\n",
       "==============================================================================\n",
       "\n",
       "Warnings:\n",
       "[1] Standard Errors assume that the covariance matrix of the errors is correctly specified.\n",
       "\"\"\""
      ]
     },
     "execution_count": 80,
     "metadata": {},
     "output_type": "execute_result"
    }
   ],
   "source": [
    "# with income and standardized data\n",
    "lin1_sc = sm.OLS(Y2, X2).fit()\n",
    "lin1_sc.summary()"
   ]
  },
  {
   "cell_type": "markdown",
   "metadata": {},
   "source": [
    "<div class = 'alert alert-block alert-info'>  \n",
    "\n",
    "<b> R-squared is relatively low in this model. </b>\n",
    "    - about 0.47 using the income, meaning that 47% of the variance of the income can be explained by the gini index and the average income vs 53% can be explained by other factors not included in the model. \n",
    "    \n",
    "    \n",
    "<b> It is standard practice to use the coefficient p-values to decide whether to include variables in the final model. </b> For the results above, we would consider removing Gini Index because its pvalue >> 5%. Keeping variables that are not statistically significant can reduce the model’s precision.\n",
    "\n",
    "</div>"
   ]
  },
  {
   "cell_type": "code",
   "execution_count": 81,
   "metadata": {},
   "outputs": [
    {
     "data": {
      "text/html": [
       "<table class=\"simpletable\">\n",
       "<caption>OLS Regression Results</caption>\n",
       "<tr>\n",
       "  <th>Dep. Variable:</th>       <td>log_income</td>    <th>  R-squared:         </th>  <td>   0.647</td>  \n",
       "</tr>\n",
       "<tr>\n",
       "  <th>Model:</th>                   <td>OLS</td>       <th>  Adj. R-squared:    </th>  <td>   0.647</td>  \n",
       "</tr>\n",
       "<tr>\n",
       "  <th>Method:</th>             <td>Least Squares</td>  <th>  F-statistic:       </th>  <td>2.227e+06</td> \n",
       "</tr>\n",
       "<tr>\n",
       "  <th>Date:</th>             <td>Fri, 02 Apr 2021</td> <th>  Prob (F-statistic):</th>   <td>  0.00</td>   \n",
       "</tr>\n",
       "<tr>\n",
       "  <th>Time:</th>                 <td>13:16:09</td>     <th>  Log-Likelihood:    </th> <td>-3.9572e+06</td>\n",
       "</tr>\n",
       "<tr>\n",
       "  <th>No. Observations:</th>      <td>2424946</td>     <th>  AIC:               </th>  <td>7.914e+06</td> \n",
       "</tr>\n",
       "<tr>\n",
       "  <th>Df Residuals:</th>          <td>2424943</td>     <th>  BIC:               </th>  <td>7.915e+06</td> \n",
       "</tr>\n",
       "<tr>\n",
       "  <th>Df Model:</th>              <td>     2</td>      <th>                     </th>      <td> </td>     \n",
       "</tr>\n",
       "<tr>\n",
       "  <th>Covariance Type:</th>      <td>nonrobust</td>    <th>                     </th>      <td> </td>     \n",
       "</tr>\n",
       "</table>\n",
       "<table class=\"simpletable\">\n",
       "<tr>\n",
       "       <td></td>         <th>coef</th>     <th>std err</th>      <th>t</th>      <th>P>|t|</th>  <th>[0.025</th>    <th>0.975]</th>  \n",
       "</tr>\n",
       "<tr>\n",
       "  <th>const</th>      <td>    9.8263</td> <td>    0.004</td> <td> 2347.127</td> <td> 0.000</td> <td>    9.818</td> <td>    9.834</td>\n",
       "</tr>\n",
       "<tr>\n",
       "  <th>new_gini</th>   <td>    0.0002</td> <td> 9.14e-05</td> <td>    2.698</td> <td> 0.007</td> <td> 6.74e-05</td> <td>    0.000</td>\n",
       "</tr>\n",
       "<tr>\n",
       "  <th>avg_income</th> <td>    0.0002</td> <td> 1.29e-07</td> <td> 1870.105</td> <td> 0.000</td> <td>    0.000</td> <td>    0.000</td>\n",
       "</tr>\n",
       "</table>\n",
       "<table class=\"simpletable\">\n",
       "<tr>\n",
       "  <th>Omnibus:</th>       <td>69625.341</td> <th>  Durbin-Watson:     </th>  <td>   0.001</td> \n",
       "</tr>\n",
       "<tr>\n",
       "  <th>Prob(Omnibus):</th>  <td> 0.000</td>   <th>  Jarque-Bera (JB):  </th> <td>169954.813</td>\n",
       "</tr>\n",
       "<tr>\n",
       "  <th>Skew:</th>           <td>-0.104</td>   <th>  Prob(JB):          </th>  <td>    0.00</td> \n",
       "</tr>\n",
       "<tr>\n",
       "  <th>Kurtosis:</th>       <td> 4.280</td>   <th>  Cond. No.          </th>  <td>5.49e+04</td> \n",
       "</tr>\n",
       "</table><br/><br/>Warnings:<br/>[1] Standard Errors assume that the covariance matrix of the errors is correctly specified.<br/>[2] The condition number is large, 5.49e+04. This might indicate that there are<br/>strong multicollinearity or other numerical problems."
      ],
      "text/plain": [
       "<class 'statsmodels.iolib.summary.Summary'>\n",
       "\"\"\"\n",
       "                            OLS Regression Results                            \n",
       "==============================================================================\n",
       "Dep. Variable:             log_income   R-squared:                       0.647\n",
       "Model:                            OLS   Adj. R-squared:                  0.647\n",
       "Method:                 Least Squares   F-statistic:                 2.227e+06\n",
       "Date:                Fri, 02 Apr 2021   Prob (F-statistic):               0.00\n",
       "Time:                        13:16:09   Log-Likelihood:            -3.9572e+06\n",
       "No. Observations:             2424946   AIC:                         7.914e+06\n",
       "Df Residuals:                 2424943   BIC:                         7.915e+06\n",
       "Df Model:                           2                                         \n",
       "Covariance Type:            nonrobust                                         \n",
       "==============================================================================\n",
       "                 coef    std err          t      P>|t|      [0.025      0.975]\n",
       "------------------------------------------------------------------------------\n",
       "const          9.8263      0.004   2347.127      0.000       9.818       9.834\n",
       "new_gini       0.0002   9.14e-05      2.698      0.007    6.74e-05       0.000\n",
       "avg_income     0.0002   1.29e-07   1870.105      0.000       0.000       0.000\n",
       "==============================================================================\n",
       "Omnibus:                    69625.341   Durbin-Watson:                   0.001\n",
       "Prob(Omnibus):                  0.000   Jarque-Bera (JB):           169954.813\n",
       "Skew:                          -0.104   Prob(JB):                         0.00\n",
       "Kurtosis:                       4.280   Cond. No.                     5.49e+04\n",
       "==============================================================================\n",
       "\n",
       "Warnings:\n",
       "[1] Standard Errors assume that the covariance matrix of the errors is correctly specified.\n",
       "[2] The condition number is large, 5.49e+04. This might indicate that there are\n",
       "strong multicollinearity or other numerical problems.\n",
       "\"\"\""
      ]
     },
     "execution_count": 81,
     "metadata": {},
     "output_type": "execute_result"
    }
   ],
   "source": [
    "# with log income and non-standardized data\n",
    "x = sm.add_constant(X1) \n",
    "lin2 = sm.OLS(Y3, x).fit()\n",
    "lin2.summary()"
   ]
  },
  {
   "cell_type": "code",
   "execution_count": 88,
   "metadata": {},
   "outputs": [
    {
     "data": {
      "text/html": [
       "<table class=\"simpletable\">\n",
       "<caption>OLS Regression Results</caption>\n",
       "<tr>\n",
       "  <th>Dep. Variable:</th>        <td>loginc_sc</td>    <th>  R-squared:         </th>  <td>   0.647</td>  \n",
       "</tr>\n",
       "<tr>\n",
       "  <th>Model:</th>                   <td>OLS</td>       <th>  Adj. R-squared:    </th>  <td>   0.647</td>  \n",
       "</tr>\n",
       "<tr>\n",
       "  <th>Method:</th>             <td>Least Squares</td>  <th>  F-statistic:       </th>  <td>2.227e+06</td> \n",
       "</tr>\n",
       "<tr>\n",
       "  <th>Date:</th>             <td>Fri, 02 Apr 2021</td> <th>  Prob (F-statistic):</th>   <td>  0.00</td>   \n",
       "</tr>\n",
       "<tr>\n",
       "  <th>Time:</th>                 <td>13:32:09</td>     <th>  Log-Likelihood:    </th> <td>-2.1767e+06</td>\n",
       "</tr>\n",
       "<tr>\n",
       "  <th>No. Observations:</th>      <td>2424946</td>     <th>  AIC:               </th>  <td>4.353e+06</td> \n",
       "</tr>\n",
       "<tr>\n",
       "  <th>Df Residuals:</th>          <td>2424943</td>     <th>  BIC:               </th>  <td>4.353e+06</td> \n",
       "</tr>\n",
       "<tr>\n",
       "  <th>Df Model:</th>              <td>     2</td>      <th>                     </th>      <td> </td>     \n",
       "</tr>\n",
       "<tr>\n",
       "  <th>Covariance Type:</th>      <td>nonrobust</td>    <th>                     </th>      <td> </td>     \n",
       "</tr>\n",
       "</table>\n",
       "<table class=\"simpletable\">\n",
       "<tr>\n",
       "      <td></td>         <th>coef</th>     <th>std err</th>      <th>t</th>      <th>P>|t|</th>  <th>[0.025</th>    <th>0.975]</th>  \n",
       "</tr>\n",
       "<tr>\n",
       "  <th>const</th>     <td> 1.784e-15</td> <td>    0.000</td> <td> 4.68e-12</td> <td> 1.000</td> <td>   -0.001</td> <td>    0.001</td>\n",
       "</tr>\n",
       "<tr>\n",
       "  <th>gini_sc</th>   <td>    0.0012</td> <td>    0.000</td> <td>    2.698</td> <td> 0.007</td> <td>    0.000</td> <td>    0.002</td>\n",
       "</tr>\n",
       "<tr>\n",
       "  <th>avginc_sc</th> <td>    0.8052</td> <td>    0.000</td> <td> 1870.105</td> <td> 0.000</td> <td>    0.804</td> <td>    0.806</td>\n",
       "</tr>\n",
       "</table>\n",
       "<table class=\"simpletable\">\n",
       "<tr>\n",
       "  <th>Omnibus:</th>       <td>69625.341</td> <th>  Durbin-Watson:     </th>  <td>   0.001</td> \n",
       "</tr>\n",
       "<tr>\n",
       "  <th>Prob(Omnibus):</th>  <td> 0.000</td>   <th>  Jarque-Bera (JB):  </th> <td>169954.813</td>\n",
       "</tr>\n",
       "<tr>\n",
       "  <th>Skew:</th>           <td>-0.104</td>   <th>  Prob(JB):          </th>  <td>    0.00</td> \n",
       "</tr>\n",
       "<tr>\n",
       "  <th>Kurtosis:</th>       <td> 4.280</td>   <th>  Cond. No.          </th>  <td>    1.65</td> \n",
       "</tr>\n",
       "</table><br/><br/>Warnings:<br/>[1] Standard Errors assume that the covariance matrix of the errors is correctly specified."
      ],
      "text/plain": [
       "<class 'statsmodels.iolib.summary.Summary'>\n",
       "\"\"\"\n",
       "                            OLS Regression Results                            \n",
       "==============================================================================\n",
       "Dep. Variable:              loginc_sc   R-squared:                       0.647\n",
       "Model:                            OLS   Adj. R-squared:                  0.647\n",
       "Method:                 Least Squares   F-statistic:                 2.227e+06\n",
       "Date:                Fri, 02 Apr 2021   Prob (F-statistic):               0.00\n",
       "Time:                        13:32:09   Log-Likelihood:            -2.1767e+06\n",
       "No. Observations:             2424946   AIC:                         4.353e+06\n",
       "Df Residuals:                 2424943   BIC:                         4.353e+06\n",
       "Df Model:                           2                                         \n",
       "Covariance Type:            nonrobust                                         \n",
       "==============================================================================\n",
       "                 coef    std err          t      P>|t|      [0.025      0.975]\n",
       "------------------------------------------------------------------------------\n",
       "const       1.784e-15      0.000   4.68e-12      1.000      -0.001       0.001\n",
       "gini_sc        0.0012      0.000      2.698      0.007       0.000       0.002\n",
       "avginc_sc      0.8052      0.000   1870.105      0.000       0.804       0.806\n",
       "==============================================================================\n",
       "Omnibus:                    69625.341   Durbin-Watson:                   0.001\n",
       "Prob(Omnibus):                  0.000   Jarque-Bera (JB):           169954.813\n",
       "Skew:                          -0.104   Prob(JB):                         0.00\n",
       "Kurtosis:                       4.280   Cond. No.                         1.65\n",
       "==============================================================================\n",
       "\n",
       "Warnings:\n",
       "[1] Standard Errors assume that the covariance matrix of the errors is correctly specified.\n",
       "\"\"\""
      ]
     },
     "execution_count": 88,
     "metadata": {},
     "output_type": "execute_result"
    }
   ],
   "source": [
    "# with log income and standardized data\n",
    "x = sm.add_constant(X2) \n",
    "lin2_sc = sm.OLS(Y4, x).fit()\n",
    "lin2_sc.summary()"
   ]
  },
  {
   "cell_type": "markdown",
   "metadata": {},
   "source": [
    "<div class = 'alert alert-block alert-info'> \n",
    "    \n",
    "<b> As expected, we get better results in terms of performances by using the log income than the income. </b>\n",
    "R-squared is still relatively low but higher than with the income: about 0.65 using the log income, meaning that 65% of the variance of the log income can be explained by the gini index and the average income vs 35% can be explained by other factors not included in the model. In this model, we can also see that the gini index is relevant to explain the variance (its p-value < 5%).\n",
    "    \n",
    "\n",
    "<b> Standardizing the independent variables is a simple method to reduce multicollinearity that is produced by higher-order terms. </b> We can see that we drop the warning [2] when we use standardized data. "
   ]
  },
  {
   "cell_type": "markdown",
   "metadata": {},
   "source": [
    "#### Parent's class + Gini index + Average income (country) ~ Income"
   ]
  },
  {
   "cell_type": "code",
   "execution_count": 84,
   "metadata": {},
   "outputs": [
    {
     "data": {
      "text/html": [
       "<table class=\"simpletable\">\n",
       "<caption>OLS Regression Results</caption>\n",
       "<tr>\n",
       "  <th>Dep. Variable:</th>         <td>income</td>      <th>  R-squared:         </th>  <td>   0.499</td>  \n",
       "</tr>\n",
       "<tr>\n",
       "  <th>Model:</th>                   <td>OLS</td>       <th>  Adj. R-squared:    </th>  <td>   0.499</td>  \n",
       "</tr>\n",
       "<tr>\n",
       "  <th>Method:</th>             <td>Least Squares</td>  <th>  F-statistic:       </th>  <td>8.049e+05</td> \n",
       "</tr>\n",
       "<tr>\n",
       "  <th>Date:</th>             <td>Fri, 02 Apr 2021</td> <th>  Prob (F-statistic):</th>   <td>  0.00</td>   \n",
       "</tr>\n",
       "<tr>\n",
       "  <th>Time:</th>                 <td>13:23:56</td>     <th>  Log-Likelihood:    </th> <td>-2.4976e+07</td>\n",
       "</tr>\n",
       "<tr>\n",
       "  <th>No. Observations:</th>      <td>2424946</td>     <th>  AIC:               </th>  <td>4.995e+07</td> \n",
       "</tr>\n",
       "<tr>\n",
       "  <th>Df Residuals:</th>          <td>2424942</td>     <th>  BIC:               </th>  <td>4.995e+07</td> \n",
       "</tr>\n",
       "<tr>\n",
       "  <th>Df Model:</th>              <td>     3</td>      <th>                     </th>      <td> </td>     \n",
       "</tr>\n",
       "<tr>\n",
       "  <th>Covariance Type:</th>      <td>nonrobust</td>    <th>                     </th>      <td> </td>     \n",
       "</tr>\n",
       "</table>\n",
       "<table class=\"simpletable\">\n",
       "<tr>\n",
       "       <td></td>         <th>coef</th>     <th>std err</th>      <th>t</th>      <th>P>|t|</th>  <th>[0.025</th>    <th>0.975]</th>  \n",
       "</tr>\n",
       "<tr>\n",
       "  <th>const</th>      <td>-3235.9899</td> <td>   25.642</td> <td> -126.199</td> <td> 0.000</td> <td>-3286.247</td> <td>-3185.733</td>\n",
       "</tr>\n",
       "<tr>\n",
       "  <th>new_gini</th>   <td>    0.5132</td> <td>    0.531</td> <td>    0.966</td> <td> 0.334</td> <td>   -0.528</td> <td>    1.554</td>\n",
       "</tr>\n",
       "<tr>\n",
       "  <th>avg_income</th> <td>    1.0002</td> <td>    0.001</td> <td> 1330.615</td> <td> 0.000</td> <td>    0.999</td> <td>    1.002</td>\n",
       "</tr>\n",
       "<tr>\n",
       "  <th>c_i_parent</th> <td>   63.7009</td> <td>    0.160</td> <td>  398.367</td> <td> 0.000</td> <td>   63.387</td> <td>   64.014</td>\n",
       "</tr>\n",
       "</table>\n",
       "<table class=\"simpletable\">\n",
       "<tr>\n",
       "  <th>Omnibus:</th>       <td>2644289.626</td> <th>  Durbin-Watson:     </th>   <td>   0.003</td>   \n",
       "</tr>\n",
       "<tr>\n",
       "  <th>Prob(Omnibus):</th>   <td> 0.000</td>    <th>  Jarque-Bera (JB):  </th> <td>326384380.363</td>\n",
       "</tr>\n",
       "<tr>\n",
       "  <th>Skew:</th>            <td> 5.459</td>    <th>  Prob(JB):          </th>   <td>    0.00</td>   \n",
       "</tr>\n",
       "<tr>\n",
       "  <th>Kurtosis:</th>        <td>58.777</td>    <th>  Cond. No.          </th>   <td>5.79e+04</td>   \n",
       "</tr>\n",
       "</table><br/><br/>Warnings:<br/>[1] Standard Errors assume that the covariance matrix of the errors is correctly specified.<br/>[2] The condition number is large, 5.79e+04. This might indicate that there are<br/>strong multicollinearity or other numerical problems."
      ],
      "text/plain": [
       "<class 'statsmodels.iolib.summary.Summary'>\n",
       "\"\"\"\n",
       "                            OLS Regression Results                            \n",
       "==============================================================================\n",
       "Dep. Variable:                 income   R-squared:                       0.499\n",
       "Model:                            OLS   Adj. R-squared:                  0.499\n",
       "Method:                 Least Squares   F-statistic:                 8.049e+05\n",
       "Date:                Fri, 02 Apr 2021   Prob (F-statistic):               0.00\n",
       "Time:                        13:23:56   Log-Likelihood:            -2.4976e+07\n",
       "No. Observations:             2424946   AIC:                         4.995e+07\n",
       "Df Residuals:                 2424942   BIC:                         4.995e+07\n",
       "Df Model:                           3                                         \n",
       "Covariance Type:            nonrobust                                         \n",
       "==============================================================================\n",
       "                 coef    std err          t      P>|t|      [0.025      0.975]\n",
       "------------------------------------------------------------------------------\n",
       "const      -3235.9899     25.642   -126.199      0.000   -3286.247   -3185.733\n",
       "new_gini       0.5132      0.531      0.966      0.334      -0.528       1.554\n",
       "avg_income     1.0002      0.001   1330.615      0.000       0.999       1.002\n",
       "c_i_parent    63.7009      0.160    398.367      0.000      63.387      64.014\n",
       "==============================================================================\n",
       "Omnibus:                  2644289.626   Durbin-Watson:                   0.003\n",
       "Prob(Omnibus):                  0.000   Jarque-Bera (JB):        326384380.363\n",
       "Skew:                           5.459   Prob(JB):                         0.00\n",
       "Kurtosis:                      58.777   Cond. No.                     5.79e+04\n",
       "==============================================================================\n",
       "\n",
       "Warnings:\n",
       "[1] Standard Errors assume that the covariance matrix of the errors is correctly specified.\n",
       "[2] The condition number is large, 5.79e+04. This might indicate that there are\n",
       "strong multicollinearity or other numerical problems.\n",
       "\"\"\""
      ]
     },
     "execution_count": 84,
     "metadata": {},
     "output_type": "execute_result"
    }
   ],
   "source": [
    "# Linear Regression with income as dependent variable on non-standardized data\n",
    "x = sm.add_constant(X3) \n",
    "lin3 = sm.OLS(Y1, x).fit()\n",
    "lin3.summary()"
   ]
  },
  {
   "cell_type": "code",
   "execution_count": 85,
   "metadata": {},
   "outputs": [
    {
     "data": {
      "text/html": [
       "<table class=\"simpletable\">\n",
       "<caption>OLS Regression Results</caption>\n",
       "<tr>\n",
       "  <th>Dep. Variable:</th>         <td>inc_sc</td>      <th>  R-squared:         </th>  <td>   0.499</td>  \n",
       "</tr>\n",
       "<tr>\n",
       "  <th>Model:</th>                   <td>OLS</td>       <th>  Adj. R-squared:    </th>  <td>   0.499</td>  \n",
       "</tr>\n",
       "<tr>\n",
       "  <th>Method:</th>             <td>Least Squares</td>  <th>  F-statistic:       </th>  <td>8.049e+05</td> \n",
       "</tr>\n",
       "<tr>\n",
       "  <th>Date:</th>             <td>Fri, 02 Apr 2021</td> <th>  Prob (F-statistic):</th>   <td>  0.00</td>   \n",
       "</tr>\n",
       "<tr>\n",
       "  <th>Time:</th>                 <td>13:24:49</td>     <th>  Log-Likelihood:    </th> <td>-2.6030e+06</td>\n",
       "</tr>\n",
       "<tr>\n",
       "  <th>No. Observations:</th>      <td>2424946</td>     <th>  AIC:               </th>  <td>5.206e+06</td> \n",
       "</tr>\n",
       "<tr>\n",
       "  <th>Df Residuals:</th>          <td>2424942</td>     <th>  BIC:               </th>  <td>5.206e+06</td> \n",
       "</tr>\n",
       "<tr>\n",
       "  <th>Df Model:</th>              <td>     3</td>      <th>                     </th>      <td> </td>     \n",
       "</tr>\n",
       "<tr>\n",
       "  <th>Covariance Type:</th>      <td>nonrobust</td>    <th>                     </th>      <td> </td>     \n",
       "</tr>\n",
       "</table>\n",
       "<table class=\"simpletable\">\n",
       "<tr>\n",
       "      <td></td>         <th>coef</th>     <th>std err</th>      <th>t</th>      <th>P>|t|</th>  <th>[0.025</th>    <th>0.975]</th>  \n",
       "</tr>\n",
       "<tr>\n",
       "  <th>const</th>     <td>-2.223e-16</td> <td>    0.000</td> <td>-4.89e-13</td> <td> 1.000</td> <td>   -0.001</td> <td>    0.001</td>\n",
       "</tr>\n",
       "<tr>\n",
       "  <th>gini_sc</th>   <td>    0.0005</td> <td>    0.001</td> <td>    0.966</td> <td> 0.334</td> <td>   -0.001</td> <td>    0.002</td>\n",
       "</tr>\n",
       "<tr>\n",
       "  <th>avginc_sc</th> <td>    0.6830</td> <td>    0.001</td> <td> 1330.615</td> <td> 0.000</td> <td>    0.682</td> <td>    0.684</td>\n",
       "</tr>\n",
       "<tr>\n",
       "  <th>class_sc</th>  <td>    0.1811</td> <td>    0.000</td> <td>  398.367</td> <td> 0.000</td> <td>    0.180</td> <td>    0.182</td>\n",
       "</tr>\n",
       "</table>\n",
       "<table class=\"simpletable\">\n",
       "<tr>\n",
       "  <th>Omnibus:</th>       <td>2644289.626</td> <th>  Durbin-Watson:     </th>   <td>   0.003</td>   \n",
       "</tr>\n",
       "<tr>\n",
       "  <th>Prob(Omnibus):</th>   <td> 0.000</td>    <th>  Jarque-Bera (JB):  </th> <td>326384380.363</td>\n",
       "</tr>\n",
       "<tr>\n",
       "  <th>Skew:</th>            <td> 5.459</td>    <th>  Prob(JB):          </th>   <td>    0.00</td>   \n",
       "</tr>\n",
       "<tr>\n",
       "  <th>Kurtosis:</th>        <td>58.777</td>    <th>  Cond. No.          </th>   <td>    1.65</td>   \n",
       "</tr>\n",
       "</table><br/><br/>Warnings:<br/>[1] Standard Errors assume that the covariance matrix of the errors is correctly specified."
      ],
      "text/plain": [
       "<class 'statsmodels.iolib.summary.Summary'>\n",
       "\"\"\"\n",
       "                            OLS Regression Results                            \n",
       "==============================================================================\n",
       "Dep. Variable:                 inc_sc   R-squared:                       0.499\n",
       "Model:                            OLS   Adj. R-squared:                  0.499\n",
       "Method:                 Least Squares   F-statistic:                 8.049e+05\n",
       "Date:                Fri, 02 Apr 2021   Prob (F-statistic):               0.00\n",
       "Time:                        13:24:49   Log-Likelihood:            -2.6030e+06\n",
       "No. Observations:             2424946   AIC:                         5.206e+06\n",
       "Df Residuals:                 2424942   BIC:                         5.206e+06\n",
       "Df Model:                           3                                         \n",
       "Covariance Type:            nonrobust                                         \n",
       "==============================================================================\n",
       "                 coef    std err          t      P>|t|      [0.025      0.975]\n",
       "------------------------------------------------------------------------------\n",
       "const      -2.223e-16      0.000  -4.89e-13      1.000      -0.001       0.001\n",
       "gini_sc        0.0005      0.001      0.966      0.334      -0.001       0.002\n",
       "avginc_sc      0.6830      0.001   1330.615      0.000       0.682       0.684\n",
       "class_sc       0.1811      0.000    398.367      0.000       0.180       0.182\n",
       "==============================================================================\n",
       "Omnibus:                  2644289.626   Durbin-Watson:                   0.003\n",
       "Prob(Omnibus):                  0.000   Jarque-Bera (JB):        326384380.363\n",
       "Skew:                           5.459   Prob(JB):                         0.00\n",
       "Kurtosis:                      58.777   Cond. No.                         1.65\n",
       "==============================================================================\n",
       "\n",
       "Warnings:\n",
       "[1] Standard Errors assume that the covariance matrix of the errors is correctly specified.\n",
       "\"\"\""
      ]
     },
     "execution_count": 85,
     "metadata": {},
     "output_type": "execute_result"
    }
   ],
   "source": [
    "# Linear Regression with income as dependent variable on standardized data\n",
    "x = sm.add_constant(X4) \n",
    "lin3_sc = sm.OLS(Y2, x).fit()\n",
    "lin3_sc.summary()"
   ]
  },
  {
   "cell_type": "markdown",
   "metadata": {},
   "source": [
    "<div class = 'alert alert-block alert-info'>  \n",
    "\n",
    "<b> R-squared is still relatively low (about 50%) in this model but higher than without the parent's class (~47%). Adding the parent's classe improve the global performances of the model. </b> It means that, half of the variance of the income can be explained by the independent variables and half by other factors not included in the model. So this is not a very powerful model.\n",
    "    \n",
    "    \n",
    "<b> It is standard practice to use the coefficient p-values to decide whether to include variables in the final model. </b> For the results above, we would consider removing Gini Index because its pvalue >> 5%. Keeping variables that are not statistically significant can reduce the model’s precision.\n",
    "    \n",
    "<b> Again, standardizing the independent variables has a positive effect on the risk of multicollinearity. </b> We can see that we drop the warning [2] when we use standardized data. \n",
    "\n",
    "</div>"
   ]
  },
  {
   "cell_type": "code",
   "execution_count": 86,
   "metadata": {},
   "outputs": [
    {
     "data": {
      "text/html": [
       "<table class=\"simpletable\">\n",
       "<caption>OLS Regression Results</caption>\n",
       "<tr>\n",
       "  <th>Dep. Variable:</th>       <td>log_income</td>    <th>  R-squared:         </th>  <td>   0.700</td>  \n",
       "</tr>\n",
       "<tr>\n",
       "  <th>Model:</th>                   <td>OLS</td>       <th>  Adj. R-squared:    </th>  <td>   0.700</td>  \n",
       "</tr>\n",
       "<tr>\n",
       "  <th>Method:</th>             <td>Least Squares</td>  <th>  F-statistic:       </th>  <td>1.889e+06</td> \n",
       "</tr>\n",
       "<tr>\n",
       "  <th>Date:</th>             <td>Fri, 02 Apr 2021</td> <th>  Prob (F-statistic):</th>   <td>  0.00</td>   \n",
       "</tr>\n",
       "<tr>\n",
       "  <th>Time:</th>                 <td>13:29:52</td>     <th>  Log-Likelihood:    </th> <td>-3.7603e+06</td>\n",
       "</tr>\n",
       "<tr>\n",
       "  <th>No. Observations:</th>      <td>2424946</td>     <th>  AIC:               </th>  <td>7.521e+06</td> \n",
       "</tr>\n",
       "<tr>\n",
       "  <th>Df Residuals:</th>          <td>2424942</td>     <th>  BIC:               </th>  <td>7.521e+06</td> \n",
       "</tr>\n",
       "<tr>\n",
       "  <th>Df Model:</th>              <td>     3</td>      <th>                     </th>      <td> </td>     \n",
       "</tr>\n",
       "<tr>\n",
       "  <th>Covariance Type:</th>      <td>nonrobust</td>    <th>                     </th>      <td> </td>     \n",
       "</tr>\n",
       "</table>\n",
       "<table class=\"simpletable\">\n",
       "<tr>\n",
       "       <td></td>         <th>coef</th>     <th>std err</th>      <th>t</th>      <th>P>|t|</th>  <th>[0.025</th>    <th>0.975]</th>  \n",
       "</tr>\n",
       "<tr>\n",
       "  <th>const</th>      <td>    8.9884</td> <td>    0.004</td> <td> 2210.108</td> <td> 0.000</td> <td>    8.980</td> <td>    8.996</td>\n",
       "</tr>\n",
       "<tr>\n",
       "  <th>new_gini</th>   <td>    0.0002</td> <td> 8.42e-05</td> <td>    2.961</td> <td> 0.003</td> <td> 8.43e-05</td> <td>    0.000</td>\n",
       "</tr>\n",
       "<tr>\n",
       "  <th>avg_income</th> <td>    0.0002</td> <td> 1.19e-07</td> <td> 2028.404</td> <td> 0.000</td> <td>    0.000</td> <td>    0.000</td>\n",
       "</tr>\n",
       "<tr>\n",
       "  <th>c_i_parent</th> <td>    0.0166</td> <td> 2.54e-05</td> <td>  653.997</td> <td> 0.000</td> <td>    0.017</td> <td>    0.017</td>\n",
       "</tr>\n",
       "</table>\n",
       "<table class=\"simpletable\">\n",
       "<tr>\n",
       "  <th>Omnibus:</th>       <td>57545.715</td> <th>  Durbin-Watson:     </th>  <td>   0.005</td> \n",
       "</tr>\n",
       "<tr>\n",
       "  <th>Prob(Omnibus):</th>  <td> 0.000</td>   <th>  Jarque-Bera (JB):  </th> <td>121372.071</td>\n",
       "</tr>\n",
       "<tr>\n",
       "  <th>Skew:</th>           <td>-0.126</td>   <th>  Prob(JB):          </th>  <td>    0.00</td> \n",
       "</tr>\n",
       "<tr>\n",
       "  <th>Kurtosis:</th>       <td> 4.067</td>   <th>  Cond. No.          </th>  <td>5.79e+04</td> \n",
       "</tr>\n",
       "</table><br/><br/>Warnings:<br/>[1] Standard Errors assume that the covariance matrix of the errors is correctly specified.<br/>[2] The condition number is large, 5.79e+04. This might indicate that there are<br/>strong multicollinearity or other numerical problems."
      ],
      "text/plain": [
       "<class 'statsmodels.iolib.summary.Summary'>\n",
       "\"\"\"\n",
       "                            OLS Regression Results                            \n",
       "==============================================================================\n",
       "Dep. Variable:             log_income   R-squared:                       0.700\n",
       "Model:                            OLS   Adj. R-squared:                  0.700\n",
       "Method:                 Least Squares   F-statistic:                 1.889e+06\n",
       "Date:                Fri, 02 Apr 2021   Prob (F-statistic):               0.00\n",
       "Time:                        13:29:52   Log-Likelihood:            -3.7603e+06\n",
       "No. Observations:             2424946   AIC:                         7.521e+06\n",
       "Df Residuals:                 2424942   BIC:                         7.521e+06\n",
       "Df Model:                           3                                         \n",
       "Covariance Type:            nonrobust                                         \n",
       "==============================================================================\n",
       "                 coef    std err          t      P>|t|      [0.025      0.975]\n",
       "------------------------------------------------------------------------------\n",
       "const          8.9884      0.004   2210.108      0.000       8.980       8.996\n",
       "new_gini       0.0002   8.42e-05      2.961      0.003    8.43e-05       0.000\n",
       "avg_income     0.0002   1.19e-07   2028.404      0.000       0.000       0.000\n",
       "c_i_parent     0.0166   2.54e-05    653.997      0.000       0.017       0.017\n",
       "==============================================================================\n",
       "Omnibus:                    57545.715   Durbin-Watson:                   0.005\n",
       "Prob(Omnibus):                  0.000   Jarque-Bera (JB):           121372.071\n",
       "Skew:                          -0.126   Prob(JB):                         0.00\n",
       "Kurtosis:                       4.067   Cond. No.                     5.79e+04\n",
       "==============================================================================\n",
       "\n",
       "Warnings:\n",
       "[1] Standard Errors assume that the covariance matrix of the errors is correctly specified.\n",
       "[2] The condition number is large, 5.79e+04. This might indicate that there are\n",
       "strong multicollinearity or other numerical problems.\n",
       "\"\"\""
      ]
     },
     "execution_count": 86,
     "metadata": {},
     "output_type": "execute_result"
    }
   ],
   "source": [
    "# Linear Regression with log income as dependent variable on non standardized data\n",
    "x = sm.add_constant(X3) \n",
    "lin4 = sm.OLS(Y3, x).fit()\n",
    "lin4.summary()"
   ]
  },
  {
   "cell_type": "code",
   "execution_count": 38,
   "metadata": {},
   "outputs": [
    {
     "data": {
      "text/html": [
       "<table class=\"simpletable\">\n",
       "<caption>OLS Regression Results</caption>\n",
       "<tr>\n",
       "  <th>Dep. Variable:</th>        <td>loginc_sc</td>    <th>  R-squared:         </th>  <td>   0.700</td>  \n",
       "</tr>\n",
       "<tr>\n",
       "  <th>Model:</th>                   <td>OLS</td>       <th>  Adj. R-squared:    </th>  <td>   0.700</td>  \n",
       "</tr>\n",
       "<tr>\n",
       "  <th>Method:</th>             <td>Least Squares</td>  <th>  F-statistic:       </th>  <td>1.889e+06</td> \n",
       "</tr>\n",
       "<tr>\n",
       "  <th>Date:</th>             <td>Tue, 06 Apr 2021</td> <th>  Prob (F-statistic):</th>   <td>  0.00</td>   \n",
       "</tr>\n",
       "<tr>\n",
       "  <th>Time:</th>                 <td>09:37:39</td>     <th>  Log-Likelihood:    </th> <td>-1.9798e+06</td>\n",
       "</tr>\n",
       "<tr>\n",
       "  <th>No. Observations:</th>      <td>2424946</td>     <th>  AIC:               </th>  <td>3.960e+06</td> \n",
       "</tr>\n",
       "<tr>\n",
       "  <th>Df Residuals:</th>          <td>2424942</td>     <th>  BIC:               </th>  <td>3.960e+06</td> \n",
       "</tr>\n",
       "<tr>\n",
       "  <th>Df Model:</th>              <td>     3</td>      <th>                     </th>      <td> </td>     \n",
       "</tr>\n",
       "<tr>\n",
       "  <th>Covariance Type:</th>      <td>nonrobust</td>    <th>                     </th>      <td> </td>     \n",
       "</tr>\n",
       "</table>\n",
       "<table class=\"simpletable\">\n",
       "<tr>\n",
       "      <td></td>         <th>coef</th>     <th>std err</th>      <th>t</th>      <th>P>|t|</th>  <th>[0.025</th>    <th>0.975]</th>  \n",
       "</tr>\n",
       "<tr>\n",
       "  <th>const</th>     <td> 2.283e-15</td> <td>    0.000</td> <td>  6.5e-12</td> <td> 1.000</td> <td>   -0.001</td> <td>    0.001</td>\n",
       "</tr>\n",
       "<tr>\n",
       "  <th>gini_sc</th>   <td>    0.0012</td> <td>    0.000</td> <td>    2.961</td> <td> 0.003</td> <td>    0.000</td> <td>    0.002</td>\n",
       "</tr>\n",
       "<tr>\n",
       "  <th>avginc_sc</th> <td>    0.8052</td> <td>    0.000</td> <td> 2028.404</td> <td> 0.000</td> <td>    0.804</td> <td>    0.806</td>\n",
       "</tr>\n",
       "<tr>\n",
       "  <th>class_sc</th>  <td>    0.2299</td> <td>    0.000</td> <td>  653.997</td> <td> 0.000</td> <td>    0.229</td> <td>    0.231</td>\n",
       "</tr>\n",
       "</table>\n",
       "<table class=\"simpletable\">\n",
       "<tr>\n",
       "  <th>Omnibus:</th>       <td>57545.715</td> <th>  Durbin-Watson:     </th>  <td>   0.005</td> \n",
       "</tr>\n",
       "<tr>\n",
       "  <th>Prob(Omnibus):</th>  <td> 0.000</td>   <th>  Jarque-Bera (JB):  </th> <td>121372.071</td>\n",
       "</tr>\n",
       "<tr>\n",
       "  <th>Skew:</th>           <td>-0.126</td>   <th>  Prob(JB):          </th>  <td>    0.00</td> \n",
       "</tr>\n",
       "<tr>\n",
       "  <th>Kurtosis:</th>       <td> 4.067</td>   <th>  Cond. No.          </th>  <td>    1.65</td> \n",
       "</tr>\n",
       "</table><br/><br/>Warnings:<br/>[1] Standard Errors assume that the covariance matrix of the errors is correctly specified."
      ],
      "text/plain": [
       "<class 'statsmodels.iolib.summary.Summary'>\n",
       "\"\"\"\n",
       "                            OLS Regression Results                            \n",
       "==============================================================================\n",
       "Dep. Variable:              loginc_sc   R-squared:                       0.700\n",
       "Model:                            OLS   Adj. R-squared:                  0.700\n",
       "Method:                 Least Squares   F-statistic:                 1.889e+06\n",
       "Date:                Tue, 06 Apr 2021   Prob (F-statistic):               0.00\n",
       "Time:                        09:37:39   Log-Likelihood:            -1.9798e+06\n",
       "No. Observations:             2424946   AIC:                         3.960e+06\n",
       "Df Residuals:                 2424942   BIC:                         3.960e+06\n",
       "Df Model:                           3                                         \n",
       "Covariance Type:            nonrobust                                         \n",
       "==============================================================================\n",
       "                 coef    std err          t      P>|t|      [0.025      0.975]\n",
       "------------------------------------------------------------------------------\n",
       "const       2.283e-15      0.000    6.5e-12      1.000      -0.001       0.001\n",
       "gini_sc        0.0012      0.000      2.961      0.003       0.000       0.002\n",
       "avginc_sc      0.8052      0.000   2028.404      0.000       0.804       0.806\n",
       "class_sc       0.2299      0.000    653.997      0.000       0.229       0.231\n",
       "==============================================================================\n",
       "Omnibus:                    57545.715   Durbin-Watson:                   0.005\n",
       "Prob(Omnibus):                  0.000   Jarque-Bera (JB):           121372.071\n",
       "Skew:                          -0.126   Prob(JB):                         0.00\n",
       "Kurtosis:                       4.067   Cond. No.                         1.65\n",
       "==============================================================================\n",
       "\n",
       "Warnings:\n",
       "[1] Standard Errors assume that the covariance matrix of the errors is correctly specified.\n",
       "\"\"\""
      ]
     },
     "execution_count": 38,
     "metadata": {},
     "output_type": "execute_result"
    }
   ],
   "source": [
    "# Linear Regression with log income as dependent variable and standardized data\n",
    "x = sm.add_constant(X4) \n",
    "lin4_sc = sm.OLS(Y4, x).fit()\n",
    "lin4_sc.summary()"
   ]
  },
  {
   "cell_type": "markdown",
   "metadata": {},
   "source": [
    "<div class = 'alert alert-block alert-info'>  \n",
    "\n",
    "<b> R-squared is relatively good (about 70%) in this model. Adding the parent's class improve the global performances of the model AND using the log income AND using standardized data retrieved the best performances. </b>\n",
    "70% of the variance of the income can be explained by the independent variables and 30% remains explained by other factors not included in the model. \n",
    "    \n",
    "    \n",
    "<b> The Gini index is relevant in this model. </b> Its pvalue is below 5%. \n",
    "The coefficient associated to the gini index is positive - varying between 0,5 and 0,0002.\n",
    "For the record, the higher is the gini index the higher are the inequalities. \n",
    "So, in a linear regression problem, type y = ax+b where:\n",
    "- y = log_income\n",
    "- x = gini index\n",
    "\n",
    "if a > 0, it means that when gini index increases the child income increases even more rapidly. \n",
    "So, the models suggest that the more unequalitarian is the country, the more (some groups of) people benefit from the situation.\n",
    "\n",
    "</div>"
   ]
  },
  {
   "cell_type": "markdown",
   "metadata": {},
   "source": [
    "Last test, with the log of average income and all variable standardized:"
   ]
  },
  {
   "cell_type": "code",
   "execution_count": 41,
   "metadata": {},
   "outputs": [
    {
     "data": {
      "text/html": [
       "<table class=\"simpletable\">\n",
       "<caption>OLS Regression Results</caption>\n",
       "<tr>\n",
       "  <th>Dep. Variable:</th>        <td>loginc_sc</td>    <th>  R-squared:         </th>  <td>   0.810</td>  \n",
       "</tr>\n",
       "<tr>\n",
       "  <th>Model:</th>                   <td>OLS</td>       <th>  Adj. R-squared:    </th>  <td>   0.810</td>  \n",
       "</tr>\n",
       "<tr>\n",
       "  <th>Method:</th>             <td>Least Squares</td>  <th>  F-statistic:       </th>  <td>3.441e+06</td> \n",
       "</tr>\n",
       "<tr>\n",
       "  <th>Date:</th>             <td>Tue, 06 Apr 2021</td> <th>  Prob (F-statistic):</th>   <td>  0.00</td>   \n",
       "</tr>\n",
       "<tr>\n",
       "  <th>Time:</th>                 <td>09:39:53</td>     <th>  Log-Likelihood:    </th> <td>-1.4288e+06</td>\n",
       "</tr>\n",
       "<tr>\n",
       "  <th>No. Observations:</th>      <td>2424946</td>     <th>  AIC:               </th>  <td>2.858e+06</td> \n",
       "</tr>\n",
       "<tr>\n",
       "  <th>Df Residuals:</th>          <td>2424942</td>     <th>  BIC:               </th>  <td>2.858e+06</td> \n",
       "</tr>\n",
       "<tr>\n",
       "  <th>Df Model:</th>              <td>     3</td>      <th>                     </th>      <td> </td>     \n",
       "</tr>\n",
       "<tr>\n",
       "  <th>Covariance Type:</th>      <td>nonrobust</td>    <th>                     </th>      <td> </td>     \n",
       "</tr>\n",
       "</table>\n",
       "<table class=\"simpletable\">\n",
       "<tr>\n",
       "      <td></td>         <th>coef</th>     <th>std err</th>      <th>t</th>      <th>P>|t|</th>  <th>[0.025</th>    <th>0.975]</th>  \n",
       "</tr>\n",
       "<tr>\n",
       "  <th>const</th>     <td> 2.283e-15</td> <td>    0.000</td> <td> 8.15e-12</td> <td> 1.000</td> <td>   -0.001</td> <td>    0.001</td>\n",
       "</tr>\n",
       "<tr>\n",
       "  <th>gini_sc</th>   <td>   -0.1151</td> <td>    0.000</td> <td> -390.334</td> <td> 0.000</td> <td>   -0.116</td> <td>   -0.114</td>\n",
       "</tr>\n",
       "<tr>\n",
       "  <th>logavg_sc</th> <td>    0.8273</td> <td>    0.000</td> <td> 2806.483</td> <td> 0.000</td> <td>    0.827</td> <td>    0.828</td>\n",
       "</tr>\n",
       "<tr>\n",
       "  <th>class_sc</th>  <td>    0.2299</td> <td>    0.000</td> <td>  820.870</td> <td> 0.000</td> <td>    0.229</td> <td>    0.230</td>\n",
       "</tr>\n",
       "</table>\n",
       "<table class=\"simpletable\">\n",
       "<tr>\n",
       "  <th>Omnibus:</th>       <td>149497.328</td> <th>  Durbin-Watson:     </th>  <td>   0.008</td> \n",
       "</tr>\n",
       "<tr>\n",
       "  <th>Prob(Omnibus):</th>   <td> 0.000</td>   <th>  Jarque-Bera (JB):  </th> <td>670696.288</td>\n",
       "</tr>\n",
       "<tr>\n",
       "  <th>Skew:</th>            <td>-0.087</td>   <th>  Prob(JB):          </th>  <td>    0.00</td> \n",
       "</tr>\n",
       "<tr>\n",
       "  <th>Kurtosis:</th>        <td> 5.571</td>   <th>  Cond. No.          </th>  <td>    1.38</td> \n",
       "</tr>\n",
       "</table><br/><br/>Warnings:<br/>[1] Standard Errors assume that the covariance matrix of the errors is correctly specified."
      ],
      "text/plain": [
       "<class 'statsmodels.iolib.summary.Summary'>\n",
       "\"\"\"\n",
       "                            OLS Regression Results                            \n",
       "==============================================================================\n",
       "Dep. Variable:              loginc_sc   R-squared:                       0.810\n",
       "Model:                            OLS   Adj. R-squared:                  0.810\n",
       "Method:                 Least Squares   F-statistic:                 3.441e+06\n",
       "Date:                Tue, 06 Apr 2021   Prob (F-statistic):               0.00\n",
       "Time:                        09:39:53   Log-Likelihood:            -1.4288e+06\n",
       "No. Observations:             2424946   AIC:                         2.858e+06\n",
       "Df Residuals:                 2424942   BIC:                         2.858e+06\n",
       "Df Model:                           3                                         \n",
       "Covariance Type:            nonrobust                                         \n",
       "==============================================================================\n",
       "                 coef    std err          t      P>|t|      [0.025      0.975]\n",
       "------------------------------------------------------------------------------\n",
       "const       2.283e-15      0.000   8.15e-12      1.000      -0.001       0.001\n",
       "gini_sc       -0.1151      0.000   -390.334      0.000      -0.116      -0.114\n",
       "logavg_sc      0.8273      0.000   2806.483      0.000       0.827       0.828\n",
       "class_sc       0.2299      0.000    820.870      0.000       0.229       0.230\n",
       "==============================================================================\n",
       "Omnibus:                   149497.328   Durbin-Watson:                   0.008\n",
       "Prob(Omnibus):                  0.000   Jarque-Bera (JB):           670696.288\n",
       "Skew:                          -0.087   Prob(JB):                         0.00\n",
       "Kurtosis:                       5.571   Cond. No.                         1.38\n",
       "==============================================================================\n",
       "\n",
       "Warnings:\n",
       "[1] Standard Errors assume that the covariance matrix of the errors is correctly specified.\n",
       "\"\"\""
      ]
     },
     "execution_count": 41,
     "metadata": {},
     "output_type": "execute_result"
    }
   ],
   "source": [
    "# Linear Regression with log income as dependent variable and standardized data and log of average of income\n",
    "x = sm.add_constant(X5) \n",
    "lin5_sc = sm.OLS(Y4, x).fit()\n",
    "lin5_sc.summary()"
   ]
  },
  {
   "cell_type": "markdown",
   "metadata": {},
   "source": [
    "<div class= 'alert alert-block alert-success'> The last linear model, based on the gini index, the log-average income and the parent's class, is the one providing the best performances to predict the income (log transformed): it explains 81% of the variances, meaning that only 19% remains unexplained and due to others factors ike fx. chance, efforts,...\n",
    "    \n",
    "In this last model, we can also notice that the coefficient associated to the gini index is negative.\n",
    "    \n",
    "<b> Let's check now if all the assumptions necessary for the linear model are verified. </b> </div>"
   ]
  },
  {
   "cell_type": "markdown",
   "metadata": {},
   "source": [
    "### Linear Model Assumptions"
   ]
  },
  {
   "cell_type": "markdown",
   "metadata": {},
   "source": [
    "There are five assumptions which support using a linear regression model for the purpose of inference or prediction:\n",
    "- <b> LINEARITY </b> : The relationship between the dependent variables and the independent variable is linear.\n",
    "- <b> NORMALITY </b> : The residuals must follow a Normal distribution.\n",
    "- <b> HOMOSCEDASTICITY </b> : The residuals have constant variance no matter the level of the dependent variable.\n",
    "- <b> INDEPENDANCE </b> : Residuals must be totally free of autocorrelation.\n",
    "- <b> ABSENCE OF MULTICOLLINEARITY </b> : Multicollinearity refers to when two predictors (or more) are providing the same information about the response variable."
   ]
  },
  {
   "cell_type": "markdown",
   "metadata": {},
   "source": [
    "#### 1. Linearity"
   ]
  },
  {
   "cell_type": "markdown",
   "metadata": {},
   "source": [
    "Pearson correlation coefficient is used to measure the strength and direction of the linear relationship between two variables. "
   ]
  },
  {
   "cell_type": "code",
   "execution_count": 131,
   "metadata": {},
   "outputs": [
    {
     "data": {
      "image/png": "[encoded data removed]",
      "text/plain": [
       "<Figure size 1080x504 with 2 Axes>"
      ]
     },
     "metadata": {},
     "output_type": "display_data"
    }
   ],
   "source": [
    "# correlation coefficients: By default, Pearson correlation coefficient is calculated\n",
    "plt.subplots(figsize=(15,7))\n",
    "mask = np.triu(np.ones_like(df.corr(), dtype=bool))\n",
    "sns.heatmap(df.corr(), mask=mask,annot = True, cmap='coolwarm')\n",
    "plt.show()"
   ]
  },
  {
   "cell_type": "markdown",
   "metadata": {},
   "source": [
    "<b> The linear relationship between the log-income and: </b> \n",
    "- the  average income is very strong\n",
    "- the parent's class and the gini index is weak.\n",
    "\n",
    "The Pearson correlation coefficient measures the linear relationship between two datasets. Strictly speaking, Pearson’s correlation requires that each dataset be normally distributed. In case of non normality, we can use the Spearman coefficient:"
   ]
  },
  {
   "cell_type": "code",
   "execution_count": 45,
   "metadata": {},
   "outputs": [
    {
     "data": {
      "image/png": "[encoded data removed]",
      "text/plain": [
       "<Figure size 1080x504 with 2 Axes>"
      ]
     },
     "metadata": {},
     "output_type": "display_data"
    }
   ],
   "source": [
    "# correlation coefficients: based on Spearman coefficient\n",
    "plt.subplots(figsize=(15,7))\n",
    "corr = df.corr(method = 'spearman')\n",
    "mask = np.triu(np.ones_like(corr, dtype=bool))\n",
    "sns.heatmap(corr, mask=mask,annot = True, cmap='coolwarm')\n",
    "plt.show()"
   ]
  },
  {
   "cell_type": "markdown",
   "metadata": {},
   "source": [
    "The results are pretty similar with Spearman than with Pearson. \n",
    "Let's visualize these results."
   ]
  },
  {
   "cell_type": "code",
   "execution_count": 134,
   "metadata": {},
   "outputs": [
    {
     "data": {
      "text/html": [
       "<div>\n",
       "<style scoped>\n",
       "    .dataframe tbody tr th:only-of-type {\n",
       "        vertical-align: middle;\n",
       "    }\n",
       "\n",
       "    .dataframe tbody tr th {\n",
       "        vertical-align: top;\n",
       "    }\n",
       "\n",
       "    .dataframe thead th {\n",
       "        text-align: right;\n",
       "    }\n",
       "</style>\n",
       "<table border=\"1\" class=\"dataframe\">\n",
       "  <thead>\n",
       "    <tr style=\"text-align: right;\">\n",
       "      <th></th>\n",
       "      <th>name</th>\n",
       "      <th>c_i_parent</th>\n",
       "      <th>income</th>\n",
       "      <th>new_gini</th>\n",
       "      <th>avg_income</th>\n",
       "      <th>gini_sc</th>\n",
       "      <th>avginc_sc</th>\n",
       "      <th>logavg_sc</th>\n",
       "      <th>class_sc</th>\n",
       "      <th>inc_sc</th>\n",
       "      <th>log_income</th>\n",
       "      <th>loginc_sc</th>\n",
       "      <th>log_out</th>\n",
       "    </tr>\n",
       "  </thead>\n",
       "  <tbody>\n",
       "    <tr>\n",
       "      <th>985438</th>\n",
       "      <td>Guinea</td>\n",
       "      <td>97</td>\n",
       "      <td>795.18020</td>\n",
       "      <td>41.217855</td>\n",
       "      <td>696.012013</td>\n",
       "      <td>0.245358</td>\n",
       "      <td>-1.020107</td>\n",
       "      <td>-1.515635</td>\n",
       "      <td>1.609735</td>\n",
       "      <td>-0.687087</td>\n",
       "      <td>9.635138</td>\n",
       "      <td>-0.998447</td>\n",
       "      <td>-0.998447</td>\n",
       "    </tr>\n",
       "    <tr>\n",
       "      <th>1661192</th>\n",
       "      <td>Morocco</td>\n",
       "      <td>81</td>\n",
       "      <td>5275.63230</td>\n",
       "      <td>42.296382</td>\n",
       "      <td>2337.600601</td>\n",
       "      <td>0.355186</td>\n",
       "      <td>-0.783538</td>\n",
       "      <td>-0.516398</td>\n",
       "      <td>1.055821</td>\n",
       "      <td>-0.246154</td>\n",
       "      <td>12.365128</td>\n",
       "      <td>0.311576</td>\n",
       "      <td>0.311576</td>\n",
       "    </tr>\n",
       "    <tr>\n",
       "      <th>2347801</th>\n",
       "      <td>Timor-Leste</td>\n",
       "      <td>64</td>\n",
       "      <td>500.28290</td>\n",
       "      <td>33.641588</td>\n",
       "      <td>727.610395</td>\n",
       "      <td>-0.526140</td>\n",
       "      <td>-1.015554</td>\n",
       "      <td>-1.479015</td>\n",
       "      <td>0.467287</td>\n",
       "      <td>-0.716108</td>\n",
       "      <td>8.966600</td>\n",
       "      <td>-1.319253</td>\n",
       "      <td>-1.319253</td>\n",
       "    </tr>\n",
       "    <tr>\n",
       "      <th>643497</th>\n",
       "      <td>Ecuador</td>\n",
       "      <td>59</td>\n",
       "      <td>2257.66240</td>\n",
       "      <td>52.463328</td>\n",
       "      <td>3383.741001</td>\n",
       "      <td>1.390496</td>\n",
       "      <td>-0.632778</td>\n",
       "      <td>-0.211346</td>\n",
       "      <td>0.294188</td>\n",
       "      <td>-0.543160</td>\n",
       "      <td>11.140614</td>\n",
       "      <td>-0.276024</td>\n",
       "      <td>-0.276024</td>\n",
       "    </tr>\n",
       "    <tr>\n",
       "      <th>1534897</th>\n",
       "      <td>Mali</td>\n",
       "      <td>81</td>\n",
       "      <td>393.90164</td>\n",
       "      <td>34.678231</td>\n",
       "      <td>681.075039</td>\n",
       "      <td>-0.420578</td>\n",
       "      <td>-1.022260</td>\n",
       "      <td>-1.533528</td>\n",
       "      <td>1.055821</td>\n",
       "      <td>-0.726577</td>\n",
       "      <td>8.621692</td>\n",
       "      <td>-1.484762</td>\n",
       "      <td>-1.484762</td>\n",
       "    </tr>\n",
       "  </tbody>\n",
       "</table>\n",
       "</div>"
      ],
      "text/plain": [
       "                name  c_i_parent      income   new_gini   avg_income  \\\n",
       "985438        Guinea          97   795.18020  41.217855   696.012013   \n",
       "1661192      Morocco          81  5275.63230  42.296382  2337.600601   \n",
       "2347801  Timor-Leste          64   500.28290  33.641588   727.610395   \n",
       "643497       Ecuador          59  2257.66240  52.463328  3383.741001   \n",
       "1534897         Mali          81   393.90164  34.678231   681.075039   \n",
       "\n",
       "          gini_sc  avginc_sc  logavg_sc  class_sc    inc_sc  log_income  \\\n",
       "985438   0.245358  -1.020107  -1.515635  1.609735 -0.687087    9.635138   \n",
       "1661192  0.355186  -0.783538  -0.516398  1.055821 -0.246154   12.365128   \n",
       "2347801 -0.526140  -1.015554  -1.479015  0.467287 -0.716108    8.966600   \n",
       "643497   1.390496  -0.632778  -0.211346  0.294188 -0.543160   11.140614   \n",
       "1534897 -0.420578  -1.022260  -1.533528  1.055821 -0.726577    8.621692   \n",
       "\n",
       "         loginc_sc   log_out  \n",
       "985438   -0.998447 -0.998447  \n",
       "1661192   0.311576  0.311576  \n",
       "2347801  -1.319253 -1.319253  \n",
       "643497   -0.276024 -0.276024  \n",
       "1534897  -1.484762 -1.484762  "
      ]
     },
     "execution_count": 134,
     "metadata": {},
     "output_type": "execute_result"
    }
   ],
   "source": [
    "# Create samples from population set\n",
    "samp_inc = df.sample(100)\n",
    "samp2 = df.dropna().sample(100)\n",
    "samp_inc.head()"
   ]
  },
  {
   "cell_type": "code",
   "execution_count": 54,
   "metadata": {},
   "outputs": [
    {
     "data": {
      "image/png": "[encoded data removed]",
      "text/plain": [
       "<Figure size 720x504 with 1 Axes>"
      ]
     },
     "metadata": {},
     "output_type": "display_data"
    }
   ],
   "source": [
    "# regression plot using seaborn for average income and log of income\n",
    "fig = plt.figure(figsize=(10, 7))\n",
    "sns.regplot(x=samp_inc.avg_income, y=samp_inc.log_income, color='blue', marker='+')\n",
    "plt.savefig(Path.cwd()/'Plot'/'M4_Linearity_avgincome.png')\n",
    "plt.show()"
   ]
  },
  {
   "cell_type": "code",
   "execution_count": 137,
   "metadata": {},
   "outputs": [
    {
     "data": {
      "image/png": "[encoded data removed]",
      "text/plain": [
       "<Figure size 720x504 with 1 Axes>"
      ]
     },
     "metadata": {},
     "output_type": "display_data"
    }
   ],
   "source": [
    "# regression plot using seaborn for log_average income and log of income\n",
    "fig = plt.figure(figsize=(10, 7))\n",
    "sns.regplot(x=samp_inc.logavg_sc, y=samp_inc.log_income, color='blue', marker='+')\n",
    "plt.savefig(Path.cwd()/'Plot'/'M4_Linearity_logavgincome.png')\n",
    "plt.show()"
   ]
  },
  {
   "cell_type": "markdown",
   "metadata": {},
   "source": [
    "<b> We can see on this sample, that the relationship between the log income and the average income (transformed or not with log) looks linear. </b>"
   ]
  },
  {
   "cell_type": "code",
   "execution_count": 139,
   "metadata": {},
   "outputs": [
    {
     "data": {
      "image/png": "[encoded data removed]",
      "text/plain": [
       "<Figure size 720x504 with 1 Axes>"
      ]
     },
     "metadata": {},
     "output_type": "display_data"
    }
   ],
   "source": [
    "# regression plot using seaborn for gini index and log income\n",
    "fig = plt.figure(figsize=(10, 7))\n",
    "sns.regplot(x=samp_inc.new_gini, y=samp_inc.log_income, color='blue', marker='+')\n",
    "plt.savefig(Path.cwd()/'Plot'/'M4_Linearity_gini.png')\n",
    "plt.show()"
   ]
  },
  {
   "cell_type": "markdown",
   "metadata": {},
   "source": [
    "<b> We can see on this sample that the relationship between the log income and the gini index is not clearly linear. All in all, it looks like the 2 variables are negatively correlated (which is what we saw also with the Pearson and Spearman's values). </b> Removing the outliers does not change a lot the observations."
   ]
  },
  {
   "cell_type": "code",
   "execution_count": 141,
   "metadata": {},
   "outputs": [
    {
     "data": {
      "image/png": "[encoded data removed]",
      "text/plain": [
       "<Figure size 720x504 with 1 Axes>"
      ]
     },
     "metadata": {},
     "output_type": "display_data"
    }
   ],
   "source": [
    "# regression plot using seaborn for parent's class and log of income\n",
    "fig = plt.figure(figsize=(10, 7))\n",
    "sns.regplot(x=samp_inc.c_i_parent, y=samp_inc.log_income, color='blue', marker='+')\n",
    "plt.savefig(Path.cwd()/'Plot'/'M4_Linearity_class.png')\n",
    "plt.show()"
   ]
  },
  {
   "cell_type": "markdown",
   "metadata": {},
   "source": [
    "<b> We can see on this sample that the relationship between the log income and the class is not linear. </b>"
   ]
  },
  {
   "cell_type": "markdown",
   "metadata": {},
   "source": [
    "<div class = 'alert alert-block alert-info ' > \n",
    "<b> The scatter plot confirm what we have seen in the Pearson's and Spearman's correlation factors. </b> The linear relationship between the log_income and the gini index and the class is not verified. It is verified with the average_income. </div>"
   ]
  },
  {
   "cell_type": "markdown",
   "metadata": {},
   "source": [
    "#### 2. Normality "
   ]
  },
  {
   "cell_type": "markdown",
   "metadata": {},
   "source": [
    "In the following steps, we are testing the conditions only for the last model, showing the best performances."
   ]
  },
  {
   "cell_type": "code",
   "execution_count": 67,
   "metadata": {},
   "outputs": [
    {
     "name": "stderr",
     "output_type": "stream",
     "text": [
      "/Users/aureliegiraud/.virtualenvs/env3.8/lib/python3.8/site-packages/seaborn/distributions.py:2557: FutureWarning: `distplot` is a deprecated function and will be removed in a future version. Please adapt your code to use either `displot` (a figure-level function with similar flexibility) or `histplot` (an axes-level function for histograms).\n",
      "  warnings.warn(msg, FutureWarning)\n"
     ]
    },
    {
     "data": {
      "image/png": "[encoded data removed]",
      "text/plain": [
       "<Figure size 432x288 with 1 Axes>"
      ]
     },
     "metadata": {},
     "output_type": "display_data"
    }
   ],
   "source": [
    "# Plot distribution to visualize the normality of residuals\n",
    "sns.distplot(lin5_sc.resid)\n",
    "plt.show()"
   ]
  },
  {
   "cell_type": "code",
   "execution_count": 72,
   "metadata": {},
   "outputs": [
    {
     "data": {
      "text/plain": [
       "2.570580770964189"
      ]
     },
     "execution_count": 72,
     "metadata": {},
     "output_type": "execute_result"
    }
   ],
   "source": [
    "# Just check the kurtosis value\n",
    "st.kurtosis(lin5_sc.resid)"
   ]
  },
  {
   "cell_type": "markdown",
   "metadata": {},
   "source": [
    "<b> The distribution is relatively close to a normal distribution. </b> The kurtosis value is also close to the Normal value (2.6 vs 3 for Normal distribution). Removing the outliers on log of income reduce the kurtosis (which is not what we were hoping for)."
   ]
  },
  {
   "cell_type": "code",
   "execution_count": 68,
   "metadata": {},
   "outputs": [
    {
     "data": {
      "image/png": "[encoded data removed]",
      "text/plain": [
       "<Figure size 432x288 with 1 Axes>"
      ]
     },
     "metadata": {},
     "output_type": "display_data"
    }
   ],
   "source": [
    "# Draw the Q-Q plot to visualize the adequation to the normality\n",
    "qqplot(lin5_sc.resid, line='s')\n",
    "pyplot.show()"
   ]
  },
  {
   "cell_type": "code",
   "execution_count": 71,
   "metadata": {},
   "outputs": [
    {
     "data": {
      "text/plain": [
       "-0.08671972577373797"
      ]
     },
     "execution_count": 71,
     "metadata": {},
     "output_type": "execute_result"
    }
   ],
   "source": [
    "# Just check the skewness value \n",
    "st.skew(lin5_sc.resid)"
   ]
  },
  {
   "cell_type": "markdown",
   "metadata": {},
   "source": [
    "<b> The distribution of residuals is close to a normal distribution (following the straight line) but with a heavy left tail. </b> The skew value is however not that high and still close to zero (like for a Normal distribution)."
   ]
  },
  {
   "cell_type": "markdown",
   "metadata": {},
   "source": [
    "<b> Kolmogorov & Smirnov test: </b>\n",
    "- H0 = The one-sample test performs a test of the distribution F(x) of an observed random variable against a given distribution G(x). Under the null hypothesis, the two distributions are identical, F(x)=G(x) with G(x) Normal Distribution.\n",
    "- H1 = Under the alternative hypothesis, the two distributions are not identical."
   ]
  },
  {
   "cell_type": "code",
   "execution_count": 93,
   "metadata": {},
   "outputs": [
    {
     "data": {
      "text/plain": [
       "KstestResult(statistic=0.20826559732877087, pvalue=0.0)"
      ]
     },
     "execution_count": 93,
     "metadata": {},
     "output_type": "execute_result"
    }
   ],
   "source": [
    "st.kstest(lin5_sc.resid, 'norm')"
   ]
  },
  {
   "cell_type": "markdown",
   "metadata": {},
   "source": [
    "<b> Here the p-value is < 5% which means that we can not accept H0. Again the residuals are not following a Normal distribution. </b>"
   ]
  },
  {
   "cell_type": "markdown",
   "metadata": {},
   "source": [
    "<div class= 'alert alert-block alert-info'>\n",
    "The condition of normality of the residuals is not verified however the distribution, skewness and kurtosis are very close to the Normal characteristic.\n",
    "And, given the sample size of the data (N > 30 for each group) and according to the Central Limit Theorem, we are \"protected\" from violating this assumption and our findings will still be valid.\n",
    "    \n",
    "- source: http://www2.psychology.uiowa.edu/faculty/mordkoff/GradStats/part%201/I.07%20normal.pdf\n",
    "    </div>"
   ]
  },
  {
   "cell_type": "markdown",
   "metadata": {},
   "source": [
    "#### 3. Homogeneity"
   ]
  },
  {
   "cell_type": "markdown",
   "metadata": {},
   "source": [
    "Hypothesis for the test:\n",
    "- H0 : The error variances are all equal.\n",
    "- H1: The error variances are not equal. More specifically, as Y increases, the variances increase (or decrease)."
   ]
  },
  {
   "cell_type": "code",
   "execution_count": 73,
   "metadata": {},
   "outputs": [
    {
     "data": {
      "text/plain": [
       "[('statistic', 136746.85567300697),\n",
       " ('p-value', 0.0),\n",
       " ('f-value', 48306.28407956225),\n",
       " ('f p-value', 0.0)]"
      ]
     },
     "execution_count": 73,
     "metadata": {},
     "output_type": "execute_result"
    }
   ],
   "source": [
    "# Test to verify the homoscedasticity of residuals\n",
    "test = het_breuschpagan(lin5_sc.resid, lin5_sc.model.exog)\n",
    "name = ['statistic', 'p-value',\n",
    "        'f-value', 'f p-value']\n",
    "lzip(name, test)"
   ]
  },
  {
   "cell_type": "markdown",
   "metadata": {},
   "source": [
    "<div class= 'alert alert-block alert-info'>\n",
    "<b> The condition of homogeneity of variances is not respected. </b> The test is significant meaning the data violates the assumption of homoscedasticity, i.e. heteroscedasticity is present in the data. \n",
    " </div>"
   ]
  },
  {
   "cell_type": "markdown",
   "metadata": {},
   "source": [
    "#### 4. Independence"
   ]
  },
  {
   "cell_type": "markdown",
   "metadata": {},
   "source": [
    "Independence of residual is commonly referred to as the total absence of autocorrelation. Even though uncorrelated data does not necessarily imply independence, one can check if random variables are independent if their mutual information tends to 0.\n",
    "\n",
    "We can use a Durbin and Watson test which calculates the Durbin-Watson statistic. The test will output values between 0 and 4. Here are how to interpret the results of the test:\n",
    "- The closer to 2, the more evidence for no autocorrelation.\n",
    "- The closer to 0 the statistic, the more evidence for positive serial correlation. \n",
    "- The closer to 4, the more evidence for negative serial correlation."
   ]
  },
  {
   "cell_type": "code",
   "execution_count": 74,
   "metadata": {},
   "outputs": [
    {
     "data": {
      "text/plain": [
       "0.007521762494598257"
      ]
     },
     "execution_count": 74,
     "metadata": {},
     "output_type": "execute_result"
    }
   ],
   "source": [
    "# Calculate Durbin and Watson statistic\n",
    "tool.durbin_watson(lin5_sc.resid, axis=0)"
   ]
  },
  {
   "cell_type": "markdown",
   "metadata": {},
   "source": [
    "<b> The result suggest a positive autocorrelation in the residuals. </b> So the condition of independance is not verified.\n",
    "<b> Here, we are using a dataset with duplicated rows, so we could expect this test to conclude of the non-independence of residuals. </b>"
   ]
  },
  {
   "cell_type": "markdown",
   "metadata": {},
   "source": [
    "#### 2. Multicollinearity"
   ]
  },
  {
   "cell_type": "markdown",
   "metadata": {},
   "source": [
    "We can check the existence of collinearity between two or more variables with the Variance Inflation Factor (VIF). It's a measure of colinearity among predictor variables within a multiple regression.\n",
    "\n",
    "A rule of thumb for interpreting the variance inflation factor:\n",
    "\n",
    "- 1 = not correlated.\n",
    "- Between 1 and 5 = moderately correlated.\n",
    "- Greater than 5 = highly correlated.\n",
    "\n",
    "The more VIF increases, the less reliable your regression results are going to be. In general, a VIF above 10 indicates high correlation and is cause for concern. Some authors suggest a more conservative level of 2.5 or above. \n",
    "\n",
    "- source: https://www.statisticshowto.com/variance-inflation-factor/"
   ]
  },
  {
   "cell_type": "code",
   "execution_count": 76,
   "metadata": {},
   "outputs": [
    {
     "data": {
      "text/html": [
       "<div>\n",
       "<style scoped>\n",
       "    .dataframe tbody tr th:only-of-type {\n",
       "        vertical-align: middle;\n",
       "    }\n",
       "\n",
       "    .dataframe tbody tr th {\n",
       "        vertical-align: top;\n",
       "    }\n",
       "\n",
       "    .dataframe thead th {\n",
       "        text-align: right;\n",
       "    }\n",
       "</style>\n",
       "<table border=\"1\" class=\"dataframe\">\n",
       "  <thead>\n",
       "    <tr style=\"text-align: right;\">\n",
       "      <th></th>\n",
       "      <th>VIF Factor</th>\n",
       "      <th>features</th>\n",
       "    </tr>\n",
       "  </thead>\n",
       "  <tbody>\n",
       "    <tr>\n",
       "      <th>0</th>\n",
       "      <td>1.0</td>\n",
       "      <td>const</td>\n",
       "    </tr>\n",
       "    <tr>\n",
       "      <th>1</th>\n",
       "      <td>1.1</td>\n",
       "      <td>gini_sc</td>\n",
       "    </tr>\n",
       "    <tr>\n",
       "      <th>2</th>\n",
       "      <td>1.1</td>\n",
       "      <td>logavg_sc</td>\n",
       "    </tr>\n",
       "    <tr>\n",
       "      <th>3</th>\n",
       "      <td>1.0</td>\n",
       "      <td>class_sc</td>\n",
       "    </tr>\n",
       "  </tbody>\n",
       "</table>\n",
       "</div>"
      ],
      "text/plain": [
       "   VIF Factor   features\n",
       "0         1.0      const\n",
       "1         1.1    gini_sc\n",
       "2         1.1  logavg_sc\n",
       "3         1.0   class_sc"
      ]
     },
     "execution_count": 76,
     "metadata": {},
     "output_type": "execute_result"
    }
   ],
   "source": [
    "# For each X, calculate VIF and save in dataframe\n",
    "x5 = add_constant(X5)\n",
    "\n",
    "vif = pd.DataFrame()\n",
    "vif[\"VIF Factor\"] = [variance_inflation_factor(x5.values, i) for i in range(x5.shape[1])]\n",
    "vif[\"features\"] = x5.columns\n",
    "vif.round(1) #inspect results"
   ]
  },
  {
   "cell_type": "markdown",
   "metadata": {},
   "source": [
    "<b> There is no collinearity between the features of the model. </b> "
   ]
  }
 ],
 "metadata": {
  "kernelspec": {
   "display_name": "Python 3",
   "language": "python",
   "name": "python3"
  },
  "language_info": {
   "codemirror_mode": {
    "name": "ipython",
    "version": 3
   },
   "file_extension": ".py",
   "mimetype": "text/x-python",
   "name": "python",
   "nbconvert_exporter": "python",
   "pygments_lexer": "ipython3",
   "version": "3.8.5"
  }
 },
 "nbformat": 4,
 "nbformat_minor": 4
}
